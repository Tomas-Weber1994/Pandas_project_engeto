{
 "cells": [
  {
   "cell_type": "code",
   "execution_count": 367,
   "id": "9d8def2f",
   "metadata": {},
   "outputs": [],
   "source": [
    "import numpy as np\n",
    "import pandas as pd\n",
    "import matplotlib.pyplot as plt\n",
    "import plotly.express as px\n",
    "import plotly.graph_objects as go\n",
    "import altair as alt\n",
    "from scipy.spatial.distance import squareform, pdist\n",
    "from scipy import stats\n",
    "import calendar\n",
    "from haversine import haversine\n",
    "import datetime\n",
    "\n",
    "from sklearn.model_selection import train_test_split\n",
    "from sklearn.preprocessing import StandardScaler\n",
    "from sklearn import linear_model\n",
    "from sklearn.metrics import mean_squared_error, r2_score"
   ]
  },
  {
   "cell_type": "code",
   "execution_count": 368,
   "id": "47648789",
   "metadata": {},
   "outputs": [],
   "source": [
    "# loading dataset\n",
    "df = pd.read_csv(\"edinburgh_bikes.csv\")"
   ]
  },
  {
   "cell_type": "markdown",
   "id": "21f1353c",
   "metadata": {},
   "source": [
    "## Data exploration and cleaning\n"
   ]
  },
  {
   "cell_type": "code",
   "execution_count": 369,
   "id": "25c1fc20",
   "metadata": {},
   "outputs": [],
   "source": [
    "# df.head()\n",
    "# df.info()\n",
    "# df.isna().sum() \n",
    "# condition = df.isna().any(axis=1) \n",
    "# df[condition] # important values are not None\n",
    "df.drop([\"start_station_description\", \"end_station_description\", \"index\", \"start_station_id\", \"end_station_id\", \"ended_at\"], axis = 1, inplace = True) # Nonrelevant columns to my analysis at the moment"
   ]
  },
  {
   "cell_type": "code",
   "execution_count": 370,
   "id": "10a6d683",
   "metadata": {},
   "outputs": [],
   "source": [
    "df[\"started_at\"] = pd.to_datetime(df[\"started_at\"]).dt.date.astype(\"datetime64\") # converting from object to date\n",
    "\n",
    "df.rename(columns = {\"started_at\" : \"date\", \"duration\" : \"rental_period\"}, inplace = True)\n",
    "\n",
    "# df[\"rental_period\"] = pd.to_timedelta(df[\"rental_period\"], \"seconds\") # converting from seconds to day/hour/second format (if needed)"
   ]
  },
  {
   "cell_type": "markdown",
   "id": "976633c3",
   "metadata": {},
   "source": [
    "## Lists of active and inactive start stations in last month"
   ]
  },
  {
   "cell_type": "code",
   "execution_count": 371,
   "id": "94f7ad46",
   "metadata": {},
   "outputs": [],
   "source": [
    "df.groupby(\"date\")[\"rental_period\"].count().tail() # detection of last dates in df\n",
    "help_condition = ((df[\"date\"] >= \"2021-06-01\") & (df[\"date\"] <= \"2021-06-30\"))\n",
    "\n",
    "active_start_stations = df[help_condition][\"start_station_name\"].unique().tolist() \n",
    "active_end_stations = df[help_condition][\"end_station_name\"].unique().tolist()\n",
    "\n",
    "# check - inactive start station is also not active as end station\n",
    "set(active_start_stations).symmetric_difference(set(active_end_stations))\n",
    "\n",
    "df = df.assign(station_status = np.where((df.start_station_name.isin(active_start_stations)) & (df.end_station_name.isin(active_end_stations)), \"active\", \"inactive\"))\n",
    "\n",
    "inactive_stations = df[df[\"station_status\"] == \"inactive\"][\"start_station_name\"].unique().tolist()"
   ]
  },
  {
   "cell_type": "markdown",
   "id": "e890d1cc",
   "metadata": {},
   "source": [
    "## Rentals and returns per active station"
   ]
  },
  {
   "cell_type": "code",
   "execution_count": 372,
   "id": "073a04bf",
   "metadata": {},
   "outputs": [
    {
     "data": {
      "application/vnd.plotly.v1+json": {
       "config": {
        "plotlyServerURL": "https://plot.ly"
       },
       "data": [
        {
         "alignmentgroup": "True",
         "hovertemplate": "variable=num_of_rentals_per_day<br>Station name=%{x}<br>Bike rented / returned=%{y}<extra></extra>",
         "legendgroup": "num_of_rentals_per_day",
         "marker": {
          "color": "#636efa",
          "opacity": 0.8,
          "pattern": {
           "shape": ""
          }
         },
         "name": "num_of_rentals_per_day",
         "offsetgroup": "num_of_rentals_per_day",
         "orientation": "v",
         "showlegend": true,
         "textposition": "auto",
         "type": "bar",
         "x": [
          "Meadows East",
          "Meadow Place",
          "Bristo Square",
          "Portobello - Kings Road",
          "St Andrew Square",
          "Victoria Quay",
          "Pollock Halls",
          "Dundee Terrace",
          "Castle Street",
          "Canonmills",
          "Fountainbridge",
          "Waverley Bridge",
          "Charlotte Square",
          "Leith Walk",
          "Bruntsfield Links",
          "Duke Street",
          "Brunswick Place",
          "Cramond Foreshore",
          "Tollcross",
          "Lauriston Place",
          "George Square",
          "Stockbridge",
          "Causewayside",
          "Lothian Road",
          "City Chambers",
          "South Trinity Road",
          "West Crosscauseway",
          "Morningside Road",
          "Dynamic Earth",
          "Abbeyhill",
          "Warrender Park Road",
          "Castle Terrace",
          "Royal Commonwealth Pool",
          "Hillside Crescent",
          "Marchmont Crescent",
          "Kings Building 2",
          "Dalry Road Lidl",
          "Boroughmuir",
          "Holyrood Road",
          "EICC",
          "Dundas Street",
          "East London Street",
          "Inverleith Row",
          "Comely Bank Road",
          "McDonald Road",
          "Surgeons Hall",
          "Kings Building 3",
          "Colinton Road",
          "Crichton Street",
          "St Andrews House",
          "Haymarket Station",
          "Grassmarket",
          "Drumsheugh Place",
          "Gladstone Terrace",
          "Hunter Square",
          "Simon Square",
          "Scotland Street",
          "Chambers Street",
          "Haymarket Terrace",
          "Wester Coates Terrace",
          "Waitrose Comely Bank",
          "Meggetland",
          "Waverley Court",
          "Thirlestane Road",
          "Picardy Place",
          "Kings Buildings 1",
          "Western General Hospital",
          "Waverley Station",
          "Edinburgh Royal Infirmary",
          "Pleasance Courtyard",
          "Queen Margaret University",
          "Kings Buildings - Murchison House",
          "Gamekeeper's Road",
          "Dean Street",
          "Orchard Brae House",
          "Milton Road - Edinburgh College",
          "Leith Walk North",
          "Belford Road",
          "Murrayfield Tram",
          "Heriot Watt - Edinburgh Business School",
          "Edinburgh Zoo",
          "Musselburgh Lidl",
          "Edinburgh Park Station",
          "Ellersly Road",
          "Heriot Watt - Student Accommodation",
          "Royal Edinburgh Hospital",
          "Sighthill - Edinburgh College",
          "Musselburgh Brunton Hall"
         ],
         "xaxis": "x",
         "y": [
          13.37,
          9.55,
          9.29,
          9,
          8.27,
          7.51,
          7.39,
          6.61,
          6.23,
          6.18,
          6.14,
          6.07,
          5.65,
          5.62,
          5.58,
          5.49,
          5.34,
          5.23,
          5.17,
          4.74,
          4.5,
          4.22,
          4.21,
          4.18,
          4.12,
          3.82,
          3.77,
          3.74,
          3.66,
          3.65,
          3.65,
          3.62,
          3.52,
          3.3,
          3.23,
          3.22,
          3.12,
          3.09,
          3.05,
          3.04,
          2.95,
          2.93,
          2.83,
          2.69,
          2.67,
          2.5,
          2.48,
          2.45,
          2.38,
          2.38,
          2.26,
          2.26,
          2.16,
          2.07,
          2.05,
          1.97,
          1.91,
          1.77,
          1.76,
          1.75,
          1.74,
          1.69,
          1.65,
          1.63,
          1.56,
          1.49,
          1.42,
          1.19,
          1.14,
          1.11,
          1.09,
          1.04,
          1.03,
          1,
          1,
          0.91,
          0.91,
          0.83,
          0.8,
          0.75,
          0.75,
          0.57,
          0.56,
          0.5,
          0.42,
          0.41,
          0.35,
          0.24
         ],
         "yaxis": "y"
        },
        {
         "alignmentgroup": "True",
         "hovertemplate": "variable=num_of_returns_per_day<br>Station name=%{x}<br>Bike rented / returned=%{y}<extra></extra>",
         "legendgroup": "num_of_returns_per_day",
         "marker": {
          "color": "#EF553B",
          "opacity": 0.8,
          "pattern": {
           "shape": ""
          }
         },
         "name": "num_of_returns_per_day",
         "offsetgroup": "num_of_returns_per_day",
         "orientation": "v",
         "showlegend": true,
         "textposition": "auto",
         "type": "bar",
         "x": [
          "Meadows East",
          "Meadow Place",
          "Bristo Square",
          "Portobello - Kings Road",
          "St Andrew Square",
          "Victoria Quay",
          "Pollock Halls",
          "Dundee Terrace",
          "Castle Street",
          "Canonmills",
          "Fountainbridge",
          "Waverley Bridge",
          "Charlotte Square",
          "Leith Walk",
          "Bruntsfield Links",
          "Duke Street",
          "Brunswick Place",
          "Cramond Foreshore",
          "Tollcross",
          "Lauriston Place",
          "George Square",
          "Stockbridge",
          "Causewayside",
          "Lothian Road",
          "City Chambers",
          "South Trinity Road",
          "West Crosscauseway",
          "Morningside Road",
          "Dynamic Earth",
          "Abbeyhill",
          "Warrender Park Road",
          "Castle Terrace",
          "Royal Commonwealth Pool",
          "Hillside Crescent",
          "Marchmont Crescent",
          "Kings Building 2",
          "Dalry Road Lidl",
          "Boroughmuir",
          "Holyrood Road",
          "EICC",
          "Dundas Street",
          "East London Street",
          "Inverleith Row",
          "Comely Bank Road",
          "McDonald Road",
          "Surgeons Hall",
          "Kings Building 3",
          "Colinton Road",
          "Crichton Street",
          "St Andrews House",
          "Haymarket Station",
          "Grassmarket",
          "Drumsheugh Place",
          "Gladstone Terrace",
          "Hunter Square",
          "Simon Square",
          "Scotland Street",
          "Chambers Street",
          "Haymarket Terrace",
          "Wester Coates Terrace",
          "Waitrose Comely Bank",
          "Meggetland",
          "Waverley Court",
          "Thirlestane Road",
          "Picardy Place",
          "Kings Buildings 1",
          "Western General Hospital",
          "Waverley Station",
          "Edinburgh Royal Infirmary",
          "Pleasance Courtyard",
          "Queen Margaret University",
          "Kings Buildings - Murchison House",
          "Gamekeeper's Road",
          "Dean Street",
          "Orchard Brae House",
          "Milton Road - Edinburgh College",
          "Leith Walk North",
          "Belford Road",
          "Murrayfield Tram",
          "Heriot Watt - Edinburgh Business School",
          "Edinburgh Zoo",
          "Musselburgh Lidl",
          "Edinburgh Park Station",
          "Ellersly Road",
          "Heriot Watt - Student Accommodation",
          "Royal Edinburgh Hospital",
          "Sighthill - Edinburgh College",
          "Musselburgh Brunton Hall"
         ],
         "xaxis": "x",
         "y": [
          11.75,
          7.59,
          5.81,
          12.9,
          6.12,
          11.07,
          5.13,
          6.78,
          5.51,
          8.4,
          5.59,
          6.37,
          3.61,
          8.22,
          3.53,
          8.7,
          6.15,
          6.41,
          5.04,
          2.86,
          4.52,
          5.84,
          3.91,
          3.09,
          2.01,
          4.82,
          2.85,
          4.34,
          4.63,
          4.22,
          2.9,
          2.97,
          3.12,
          4.02,
          2.43,
          3.64,
          3.66,
          3.38,
          3.38,
          2.49,
          3.8,
          3.11,
          3.92,
          3.8,
          3.06,
          1.75,
          2.36,
          1.79,
          2.09,
          1.46,
          2.16,
          2.25,
          1.98,
          1.97,
          1.91,
          1.92,
          2.03,
          1.09,
          1.72,
          1.88,
          2.11,
          2.26,
          1.7,
          1.12,
          1.2,
          1.52,
          1.64,
          1,
          1.36,
          1.11,
          1.1,
          1.05,
          1.05,
          1.14,
          1.04,
          1.17,
          1.24,
          0.79,
          0.89,
          0.77,
          0.76,
          0.67,
          0.64,
          0.5,
          0.34,
          0.34,
          0.47,
          0.3
         ],
         "yaxis": "y"
        }
       ],
       "layout": {
        "barmode": "group",
        "legend": {
         "title": {
          "text": "variable"
         },
         "tracegroupgap": 0
        },
        "template": {
         "data": {
          "bar": [
           {
            "error_x": {
             "color": "#2a3f5f"
            },
            "error_y": {
             "color": "#2a3f5f"
            },
            "marker": {
             "line": {
              "color": "#E5ECF6",
              "width": 0.5
             },
             "pattern": {
              "fillmode": "overlay",
              "size": 10,
              "solidity": 0.2
             }
            },
            "type": "bar"
           }
          ],
          "barpolar": [
           {
            "marker": {
             "line": {
              "color": "#E5ECF6",
              "width": 0.5
             },
             "pattern": {
              "fillmode": "overlay",
              "size": 10,
              "solidity": 0.2
             }
            },
            "type": "barpolar"
           }
          ],
          "carpet": [
           {
            "aaxis": {
             "endlinecolor": "#2a3f5f",
             "gridcolor": "white",
             "linecolor": "white",
             "minorgridcolor": "white",
             "startlinecolor": "#2a3f5f"
            },
            "baxis": {
             "endlinecolor": "#2a3f5f",
             "gridcolor": "white",
             "linecolor": "white",
             "minorgridcolor": "white",
             "startlinecolor": "#2a3f5f"
            },
            "type": "carpet"
           }
          ],
          "choropleth": [
           {
            "colorbar": {
             "outlinewidth": 0,
             "ticks": ""
            },
            "type": "choropleth"
           }
          ],
          "contour": [
           {
            "colorbar": {
             "outlinewidth": 0,
             "ticks": ""
            },
            "colorscale": [
             [
              0,
              "#0d0887"
             ],
             [
              0.1111111111111111,
              "#46039f"
             ],
             [
              0.2222222222222222,
              "#7201a8"
             ],
             [
              0.3333333333333333,
              "#9c179e"
             ],
             [
              0.4444444444444444,
              "#bd3786"
             ],
             [
              0.5555555555555556,
              "#d8576b"
             ],
             [
              0.6666666666666666,
              "#ed7953"
             ],
             [
              0.7777777777777778,
              "#fb9f3a"
             ],
             [
              0.8888888888888888,
              "#fdca26"
             ],
             [
              1,
              "#f0f921"
             ]
            ],
            "type": "contour"
           }
          ],
          "contourcarpet": [
           {
            "colorbar": {
             "outlinewidth": 0,
             "ticks": ""
            },
            "type": "contourcarpet"
           }
          ],
          "heatmap": [
           {
            "colorbar": {
             "outlinewidth": 0,
             "ticks": ""
            },
            "colorscale": [
             [
              0,
              "#0d0887"
             ],
             [
              0.1111111111111111,
              "#46039f"
             ],
             [
              0.2222222222222222,
              "#7201a8"
             ],
             [
              0.3333333333333333,
              "#9c179e"
             ],
             [
              0.4444444444444444,
              "#bd3786"
             ],
             [
              0.5555555555555556,
              "#d8576b"
             ],
             [
              0.6666666666666666,
              "#ed7953"
             ],
             [
              0.7777777777777778,
              "#fb9f3a"
             ],
             [
              0.8888888888888888,
              "#fdca26"
             ],
             [
              1,
              "#f0f921"
             ]
            ],
            "type": "heatmap"
           }
          ],
          "heatmapgl": [
           {
            "colorbar": {
             "outlinewidth": 0,
             "ticks": ""
            },
            "colorscale": [
             [
              0,
              "#0d0887"
             ],
             [
              0.1111111111111111,
              "#46039f"
             ],
             [
              0.2222222222222222,
              "#7201a8"
             ],
             [
              0.3333333333333333,
              "#9c179e"
             ],
             [
              0.4444444444444444,
              "#bd3786"
             ],
             [
              0.5555555555555556,
              "#d8576b"
             ],
             [
              0.6666666666666666,
              "#ed7953"
             ],
             [
              0.7777777777777778,
              "#fb9f3a"
             ],
             [
              0.8888888888888888,
              "#fdca26"
             ],
             [
              1,
              "#f0f921"
             ]
            ],
            "type": "heatmapgl"
           }
          ],
          "histogram": [
           {
            "marker": {
             "pattern": {
              "fillmode": "overlay",
              "size": 10,
              "solidity": 0.2
             }
            },
            "type": "histogram"
           }
          ],
          "histogram2d": [
           {
            "colorbar": {
             "outlinewidth": 0,
             "ticks": ""
            },
            "colorscale": [
             [
              0,
              "#0d0887"
             ],
             [
              0.1111111111111111,
              "#46039f"
             ],
             [
              0.2222222222222222,
              "#7201a8"
             ],
             [
              0.3333333333333333,
              "#9c179e"
             ],
             [
              0.4444444444444444,
              "#bd3786"
             ],
             [
              0.5555555555555556,
              "#d8576b"
             ],
             [
              0.6666666666666666,
              "#ed7953"
             ],
             [
              0.7777777777777778,
              "#fb9f3a"
             ],
             [
              0.8888888888888888,
              "#fdca26"
             ],
             [
              1,
              "#f0f921"
             ]
            ],
            "type": "histogram2d"
           }
          ],
          "histogram2dcontour": [
           {
            "colorbar": {
             "outlinewidth": 0,
             "ticks": ""
            },
            "colorscale": [
             [
              0,
              "#0d0887"
             ],
             [
              0.1111111111111111,
              "#46039f"
             ],
             [
              0.2222222222222222,
              "#7201a8"
             ],
             [
              0.3333333333333333,
              "#9c179e"
             ],
             [
              0.4444444444444444,
              "#bd3786"
             ],
             [
              0.5555555555555556,
              "#d8576b"
             ],
             [
              0.6666666666666666,
              "#ed7953"
             ],
             [
              0.7777777777777778,
              "#fb9f3a"
             ],
             [
              0.8888888888888888,
              "#fdca26"
             ],
             [
              1,
              "#f0f921"
             ]
            ],
            "type": "histogram2dcontour"
           }
          ],
          "mesh3d": [
           {
            "colorbar": {
             "outlinewidth": 0,
             "ticks": ""
            },
            "type": "mesh3d"
           }
          ],
          "parcoords": [
           {
            "line": {
             "colorbar": {
              "outlinewidth": 0,
              "ticks": ""
             }
            },
            "type": "parcoords"
           }
          ],
          "pie": [
           {
            "automargin": true,
            "type": "pie"
           }
          ],
          "scatter": [
           {
            "marker": {
             "colorbar": {
              "outlinewidth": 0,
              "ticks": ""
             }
            },
            "type": "scatter"
           }
          ],
          "scatter3d": [
           {
            "line": {
             "colorbar": {
              "outlinewidth": 0,
              "ticks": ""
             }
            },
            "marker": {
             "colorbar": {
              "outlinewidth": 0,
              "ticks": ""
             }
            },
            "type": "scatter3d"
           }
          ],
          "scattercarpet": [
           {
            "marker": {
             "colorbar": {
              "outlinewidth": 0,
              "ticks": ""
             }
            },
            "type": "scattercarpet"
           }
          ],
          "scattergeo": [
           {
            "marker": {
             "colorbar": {
              "outlinewidth": 0,
              "ticks": ""
             }
            },
            "type": "scattergeo"
           }
          ],
          "scattergl": [
           {
            "marker": {
             "colorbar": {
              "outlinewidth": 0,
              "ticks": ""
             }
            },
            "type": "scattergl"
           }
          ],
          "scattermapbox": [
           {
            "marker": {
             "colorbar": {
              "outlinewidth": 0,
              "ticks": ""
             }
            },
            "type": "scattermapbox"
           }
          ],
          "scatterpolar": [
           {
            "marker": {
             "colorbar": {
              "outlinewidth": 0,
              "ticks": ""
             }
            },
            "type": "scatterpolar"
           }
          ],
          "scatterpolargl": [
           {
            "marker": {
             "colorbar": {
              "outlinewidth": 0,
              "ticks": ""
             }
            },
            "type": "scatterpolargl"
           }
          ],
          "scatterternary": [
           {
            "marker": {
             "colorbar": {
              "outlinewidth": 0,
              "ticks": ""
             }
            },
            "type": "scatterternary"
           }
          ],
          "surface": [
           {
            "colorbar": {
             "outlinewidth": 0,
             "ticks": ""
            },
            "colorscale": [
             [
              0,
              "#0d0887"
             ],
             [
              0.1111111111111111,
              "#46039f"
             ],
             [
              0.2222222222222222,
              "#7201a8"
             ],
             [
              0.3333333333333333,
              "#9c179e"
             ],
             [
              0.4444444444444444,
              "#bd3786"
             ],
             [
              0.5555555555555556,
              "#d8576b"
             ],
             [
              0.6666666666666666,
              "#ed7953"
             ],
             [
              0.7777777777777778,
              "#fb9f3a"
             ],
             [
              0.8888888888888888,
              "#fdca26"
             ],
             [
              1,
              "#f0f921"
             ]
            ],
            "type": "surface"
           }
          ],
          "table": [
           {
            "cells": {
             "fill": {
              "color": "#EBF0F8"
             },
             "line": {
              "color": "white"
             }
            },
            "header": {
             "fill": {
              "color": "#C8D4E3"
             },
             "line": {
              "color": "white"
             }
            },
            "type": "table"
           }
          ]
         },
         "layout": {
          "annotationdefaults": {
           "arrowcolor": "#2a3f5f",
           "arrowhead": 0,
           "arrowwidth": 1
          },
          "autotypenumbers": "strict",
          "coloraxis": {
           "colorbar": {
            "outlinewidth": 0,
            "ticks": ""
           }
          },
          "colorscale": {
           "diverging": [
            [
             0,
             "#8e0152"
            ],
            [
             0.1,
             "#c51b7d"
            ],
            [
             0.2,
             "#de77ae"
            ],
            [
             0.3,
             "#f1b6da"
            ],
            [
             0.4,
             "#fde0ef"
            ],
            [
             0.5,
             "#f7f7f7"
            ],
            [
             0.6,
             "#e6f5d0"
            ],
            [
             0.7,
             "#b8e186"
            ],
            [
             0.8,
             "#7fbc41"
            ],
            [
             0.9,
             "#4d9221"
            ],
            [
             1,
             "#276419"
            ]
           ],
           "sequential": [
            [
             0,
             "#0d0887"
            ],
            [
             0.1111111111111111,
             "#46039f"
            ],
            [
             0.2222222222222222,
             "#7201a8"
            ],
            [
             0.3333333333333333,
             "#9c179e"
            ],
            [
             0.4444444444444444,
             "#bd3786"
            ],
            [
             0.5555555555555556,
             "#d8576b"
            ],
            [
             0.6666666666666666,
             "#ed7953"
            ],
            [
             0.7777777777777778,
             "#fb9f3a"
            ],
            [
             0.8888888888888888,
             "#fdca26"
            ],
            [
             1,
             "#f0f921"
            ]
           ],
           "sequentialminus": [
            [
             0,
             "#0d0887"
            ],
            [
             0.1111111111111111,
             "#46039f"
            ],
            [
             0.2222222222222222,
             "#7201a8"
            ],
            [
             0.3333333333333333,
             "#9c179e"
            ],
            [
             0.4444444444444444,
             "#bd3786"
            ],
            [
             0.5555555555555556,
             "#d8576b"
            ],
            [
             0.6666666666666666,
             "#ed7953"
            ],
            [
             0.7777777777777778,
             "#fb9f3a"
            ],
            [
             0.8888888888888888,
             "#fdca26"
            ],
            [
             1,
             "#f0f921"
            ]
           ]
          },
          "colorway": [
           "#636efa",
           "#EF553B",
           "#00cc96",
           "#ab63fa",
           "#FFA15A",
           "#19d3f3",
           "#FF6692",
           "#B6E880",
           "#FF97FF",
           "#FECB52"
          ],
          "font": {
           "color": "#2a3f5f"
          },
          "geo": {
           "bgcolor": "white",
           "lakecolor": "white",
           "landcolor": "#E5ECF6",
           "showlakes": true,
           "showland": true,
           "subunitcolor": "white"
          },
          "hoverlabel": {
           "align": "left"
          },
          "hovermode": "closest",
          "mapbox": {
           "style": "light"
          },
          "paper_bgcolor": "white",
          "plot_bgcolor": "#E5ECF6",
          "polar": {
           "angularaxis": {
            "gridcolor": "white",
            "linecolor": "white",
            "ticks": ""
           },
           "bgcolor": "#E5ECF6",
           "radialaxis": {
            "gridcolor": "white",
            "linecolor": "white",
            "ticks": ""
           }
          },
          "scene": {
           "xaxis": {
            "backgroundcolor": "#E5ECF6",
            "gridcolor": "white",
            "gridwidth": 2,
            "linecolor": "white",
            "showbackground": true,
            "ticks": "",
            "zerolinecolor": "white"
           },
           "yaxis": {
            "backgroundcolor": "#E5ECF6",
            "gridcolor": "white",
            "gridwidth": 2,
            "linecolor": "white",
            "showbackground": true,
            "ticks": "",
            "zerolinecolor": "white"
           },
           "zaxis": {
            "backgroundcolor": "#E5ECF6",
            "gridcolor": "white",
            "gridwidth": 2,
            "linecolor": "white",
            "showbackground": true,
            "ticks": "",
            "zerolinecolor": "white"
           }
          },
          "shapedefaults": {
           "line": {
            "color": "#2a3f5f"
           }
          },
          "ternary": {
           "aaxis": {
            "gridcolor": "white",
            "linecolor": "white",
            "ticks": ""
           },
           "baxis": {
            "gridcolor": "white",
            "linecolor": "white",
            "ticks": ""
           },
           "bgcolor": "#E5ECF6",
           "caxis": {
            "gridcolor": "white",
            "linecolor": "white",
            "ticks": ""
           }
          },
          "title": {
           "x": 0.05
          },
          "xaxis": {
           "automargin": true,
           "gridcolor": "white",
           "linecolor": "white",
           "ticks": "",
           "title": {
            "standoff": 15
           },
           "zerolinecolor": "white",
           "zerolinewidth": 2
          },
          "yaxis": {
           "automargin": true,
           "gridcolor": "white",
           "linecolor": "white",
           "ticks": "",
           "title": {
            "standoff": 15
           },
           "zerolinecolor": "white",
           "zerolinewidth": 2
          }
         }
        },
        "title": {
         "text": "Rentals and returns per station and day"
        },
        "xaxis": {
         "anchor": "y",
         "domain": [
          0,
          1
         ],
         "tickangle": 45,
         "title": {
          "text": "Station name"
         }
        },
        "yaxis": {
         "anchor": "x",
         "domain": [
          0,
          1
         ],
         "title": {
          "text": "Bike rented / returned"
         }
        }
       }
      },
      "text/html": [
       "<div>                            <div id=\"e7bc59be-85a6-4956-83b2-22025d214fb5\" class=\"plotly-graph-div\" style=\"height:525px; width:100%;\"></div>            <script type=\"text/javascript\">                require([\"plotly\"], function(Plotly) {                    window.PLOTLYENV=window.PLOTLYENV || {};                                    if (document.getElementById(\"e7bc59be-85a6-4956-83b2-22025d214fb5\")) {                    Plotly.newPlot(                        \"e7bc59be-85a6-4956-83b2-22025d214fb5\",                        [{\"alignmentgroup\":\"True\",\"hovertemplate\":\"variable=num_of_rentals_per_day<br>Station name=%{x}<br>Bike rented / returned=%{y}<extra></extra>\",\"legendgroup\":\"num_of_rentals_per_day\",\"marker\":{\"color\":\"#636efa\",\"opacity\":0.8,\"pattern\":{\"shape\":\"\"}},\"name\":\"num_of_rentals_per_day\",\"offsetgroup\":\"num_of_rentals_per_day\",\"orientation\":\"v\",\"showlegend\":true,\"textposition\":\"auto\",\"x\":[\"Meadows East\",\"Meadow Place\",\"Bristo Square\",\"Portobello - Kings Road\",\"St Andrew Square\",\"Victoria Quay\",\"Pollock Halls\",\"Dundee Terrace\",\"Castle Street\",\"Canonmills\",\"Fountainbridge\",\"Waverley Bridge\",\"Charlotte Square\",\"Leith Walk\",\"Bruntsfield Links\",\"Duke Street\",\"Brunswick Place\",\"Cramond Foreshore\",\"Tollcross\",\"Lauriston Place\",\"George Square\",\"Stockbridge\",\"Causewayside\",\"Lothian Road\",\"City Chambers\",\"South Trinity Road\",\"West Crosscauseway\",\"Morningside Road\",\"Dynamic Earth\",\"Abbeyhill\",\"Warrender Park Road\",\"Castle Terrace\",\"Royal Commonwealth Pool\",\"Hillside Crescent\",\"Marchmont Crescent\",\"Kings Building 2\",\"Dalry Road Lidl\",\"Boroughmuir\",\"Holyrood Road\",\"EICC\",\"Dundas Street\",\"East London Street\",\"Inverleith Row\",\"Comely Bank Road\",\"McDonald Road\",\"Surgeons Hall\",\"Kings Building 3\",\"Colinton Road\",\"Crichton Street\",\"St Andrews House\",\"Haymarket Station\",\"Grassmarket\",\"Drumsheugh Place\",\"Gladstone Terrace\",\"Hunter Square\",\"Simon Square\",\"Scotland Street\",\"Chambers Street\",\"Haymarket Terrace\",\"Wester Coates Terrace\",\"Waitrose Comely Bank\",\"Meggetland\",\"Waverley Court\",\"Thirlestane Road\",\"Picardy Place\",\"Kings Buildings 1\",\"Western General Hospital\",\"Waverley Station\",\"Edinburgh Royal Infirmary\",\"Pleasance Courtyard\",\"Queen Margaret University\",\"Kings Buildings - Murchison House\",\"Gamekeeper's Road\",\"Dean Street\",\"Orchard Brae House\",\"Milton Road - Edinburgh College\",\"Leith Walk North\",\"Belford Road\",\"Murrayfield Tram\",\"Heriot Watt - Edinburgh Business School\",\"Edinburgh Zoo\",\"Musselburgh Lidl\",\"Edinburgh Park Station\",\"Ellersly Road\",\"Heriot Watt - Student Accommodation\",\"Royal Edinburgh Hospital\",\"Sighthill - Edinburgh College\",\"Musselburgh Brunton Hall\"],\"xaxis\":\"x\",\"y\":[13.37,9.55,9.29,9.0,8.27,7.51,7.39,6.61,6.23,6.18,6.14,6.07,5.65,5.62,5.58,5.49,5.34,5.23,5.17,4.74,4.5,4.22,4.21,4.18,4.12,3.82,3.77,3.74,3.66,3.65,3.65,3.62,3.52,3.3,3.23,3.22,3.12,3.09,3.05,3.04,2.95,2.93,2.83,2.69,2.67,2.5,2.48,2.45,2.38,2.38,2.26,2.26,2.16,2.07,2.05,1.97,1.91,1.77,1.76,1.75,1.74,1.69,1.65,1.63,1.56,1.49,1.42,1.19,1.14,1.11,1.09,1.04,1.03,1.0,1.0,0.91,0.91,0.83,0.8,0.75,0.75,0.57,0.56,0.5,0.42,0.41,0.35,0.24],\"yaxis\":\"y\",\"type\":\"bar\"},{\"alignmentgroup\":\"True\",\"hovertemplate\":\"variable=num_of_returns_per_day<br>Station name=%{x}<br>Bike rented / returned=%{y}<extra></extra>\",\"legendgroup\":\"num_of_returns_per_day\",\"marker\":{\"color\":\"#EF553B\",\"opacity\":0.8,\"pattern\":{\"shape\":\"\"}},\"name\":\"num_of_returns_per_day\",\"offsetgroup\":\"num_of_returns_per_day\",\"orientation\":\"v\",\"showlegend\":true,\"textposition\":\"auto\",\"x\":[\"Meadows East\",\"Meadow Place\",\"Bristo Square\",\"Portobello - Kings Road\",\"St Andrew Square\",\"Victoria Quay\",\"Pollock Halls\",\"Dundee Terrace\",\"Castle Street\",\"Canonmills\",\"Fountainbridge\",\"Waverley Bridge\",\"Charlotte Square\",\"Leith Walk\",\"Bruntsfield Links\",\"Duke Street\",\"Brunswick Place\",\"Cramond Foreshore\",\"Tollcross\",\"Lauriston Place\",\"George Square\",\"Stockbridge\",\"Causewayside\",\"Lothian Road\",\"City Chambers\",\"South Trinity Road\",\"West Crosscauseway\",\"Morningside Road\",\"Dynamic Earth\",\"Abbeyhill\",\"Warrender Park Road\",\"Castle Terrace\",\"Royal Commonwealth Pool\",\"Hillside Crescent\",\"Marchmont Crescent\",\"Kings Building 2\",\"Dalry Road Lidl\",\"Boroughmuir\",\"Holyrood Road\",\"EICC\",\"Dundas Street\",\"East London Street\",\"Inverleith Row\",\"Comely Bank Road\",\"McDonald Road\",\"Surgeons Hall\",\"Kings Building 3\",\"Colinton Road\",\"Crichton Street\",\"St Andrews House\",\"Haymarket Station\",\"Grassmarket\",\"Drumsheugh Place\",\"Gladstone Terrace\",\"Hunter Square\",\"Simon Square\",\"Scotland Street\",\"Chambers Street\",\"Haymarket Terrace\",\"Wester Coates Terrace\",\"Waitrose Comely Bank\",\"Meggetland\",\"Waverley Court\",\"Thirlestane Road\",\"Picardy Place\",\"Kings Buildings 1\",\"Western General Hospital\",\"Waverley Station\",\"Edinburgh Royal Infirmary\",\"Pleasance Courtyard\",\"Queen Margaret University\",\"Kings Buildings - Murchison House\",\"Gamekeeper's Road\",\"Dean Street\",\"Orchard Brae House\",\"Milton Road - Edinburgh College\",\"Leith Walk North\",\"Belford Road\",\"Murrayfield Tram\",\"Heriot Watt - Edinburgh Business School\",\"Edinburgh Zoo\",\"Musselburgh Lidl\",\"Edinburgh Park Station\",\"Ellersly Road\",\"Heriot Watt - Student Accommodation\",\"Royal Edinburgh Hospital\",\"Sighthill - Edinburgh College\",\"Musselburgh Brunton Hall\"],\"xaxis\":\"x\",\"y\":[11.75,7.59,5.81,12.9,6.12,11.07,5.13,6.78,5.51,8.4,5.59,6.37,3.61,8.22,3.53,8.7,6.15,6.41,5.04,2.86,4.52,5.84,3.91,3.09,2.01,4.82,2.85,4.34,4.63,4.22,2.9,2.97,3.12,4.02,2.43,3.64,3.66,3.38,3.38,2.49,3.8,3.11,3.92,3.8,3.06,1.75,2.36,1.79,2.09,1.46,2.16,2.25,1.98,1.97,1.91,1.92,2.03,1.09,1.72,1.88,2.11,2.26,1.7,1.12,1.2,1.52,1.64,1.0,1.36,1.11,1.1,1.05,1.05,1.14,1.04,1.17,1.24,0.79,0.89,0.77,0.76,0.67,0.64,0.5,0.34,0.34,0.47,0.3],\"yaxis\":\"y\",\"type\":\"bar\"}],                        {\"template\":{\"data\":{\"bar\":[{\"error_x\":{\"color\":\"#2a3f5f\"},\"error_y\":{\"color\":\"#2a3f5f\"},\"marker\":{\"line\":{\"color\":\"#E5ECF6\",\"width\":0.5},\"pattern\":{\"fillmode\":\"overlay\",\"size\":10,\"solidity\":0.2}},\"type\":\"bar\"}],\"barpolar\":[{\"marker\":{\"line\":{\"color\":\"#E5ECF6\",\"width\":0.5},\"pattern\":{\"fillmode\":\"overlay\",\"size\":10,\"solidity\":0.2}},\"type\":\"barpolar\"}],\"carpet\":[{\"aaxis\":{\"endlinecolor\":\"#2a3f5f\",\"gridcolor\":\"white\",\"linecolor\":\"white\",\"minorgridcolor\":\"white\",\"startlinecolor\":\"#2a3f5f\"},\"baxis\":{\"endlinecolor\":\"#2a3f5f\",\"gridcolor\":\"white\",\"linecolor\":\"white\",\"minorgridcolor\":\"white\",\"startlinecolor\":\"#2a3f5f\"},\"type\":\"carpet\"}],\"choropleth\":[{\"colorbar\":{\"outlinewidth\":0,\"ticks\":\"\"},\"type\":\"choropleth\"}],\"contour\":[{\"colorbar\":{\"outlinewidth\":0,\"ticks\":\"\"},\"colorscale\":[[0.0,\"#0d0887\"],[0.1111111111111111,\"#46039f\"],[0.2222222222222222,\"#7201a8\"],[0.3333333333333333,\"#9c179e\"],[0.4444444444444444,\"#bd3786\"],[0.5555555555555556,\"#d8576b\"],[0.6666666666666666,\"#ed7953\"],[0.7777777777777778,\"#fb9f3a\"],[0.8888888888888888,\"#fdca26\"],[1.0,\"#f0f921\"]],\"type\":\"contour\"}],\"contourcarpet\":[{\"colorbar\":{\"outlinewidth\":0,\"ticks\":\"\"},\"type\":\"contourcarpet\"}],\"heatmap\":[{\"colorbar\":{\"outlinewidth\":0,\"ticks\":\"\"},\"colorscale\":[[0.0,\"#0d0887\"],[0.1111111111111111,\"#46039f\"],[0.2222222222222222,\"#7201a8\"],[0.3333333333333333,\"#9c179e\"],[0.4444444444444444,\"#bd3786\"],[0.5555555555555556,\"#d8576b\"],[0.6666666666666666,\"#ed7953\"],[0.7777777777777778,\"#fb9f3a\"],[0.8888888888888888,\"#fdca26\"],[1.0,\"#f0f921\"]],\"type\":\"heatmap\"}],\"heatmapgl\":[{\"colorbar\":{\"outlinewidth\":0,\"ticks\":\"\"},\"colorscale\":[[0.0,\"#0d0887\"],[0.1111111111111111,\"#46039f\"],[0.2222222222222222,\"#7201a8\"],[0.3333333333333333,\"#9c179e\"],[0.4444444444444444,\"#bd3786\"],[0.5555555555555556,\"#d8576b\"],[0.6666666666666666,\"#ed7953\"],[0.7777777777777778,\"#fb9f3a\"],[0.8888888888888888,\"#fdca26\"],[1.0,\"#f0f921\"]],\"type\":\"heatmapgl\"}],\"histogram\":[{\"marker\":{\"pattern\":{\"fillmode\":\"overlay\",\"size\":10,\"solidity\":0.2}},\"type\":\"histogram\"}],\"histogram2d\":[{\"colorbar\":{\"outlinewidth\":0,\"ticks\":\"\"},\"colorscale\":[[0.0,\"#0d0887\"],[0.1111111111111111,\"#46039f\"],[0.2222222222222222,\"#7201a8\"],[0.3333333333333333,\"#9c179e\"],[0.4444444444444444,\"#bd3786\"],[0.5555555555555556,\"#d8576b\"],[0.6666666666666666,\"#ed7953\"],[0.7777777777777778,\"#fb9f3a\"],[0.8888888888888888,\"#fdca26\"],[1.0,\"#f0f921\"]],\"type\":\"histogram2d\"}],\"histogram2dcontour\":[{\"colorbar\":{\"outlinewidth\":0,\"ticks\":\"\"},\"colorscale\":[[0.0,\"#0d0887\"],[0.1111111111111111,\"#46039f\"],[0.2222222222222222,\"#7201a8\"],[0.3333333333333333,\"#9c179e\"],[0.4444444444444444,\"#bd3786\"],[0.5555555555555556,\"#d8576b\"],[0.6666666666666666,\"#ed7953\"],[0.7777777777777778,\"#fb9f3a\"],[0.8888888888888888,\"#fdca26\"],[1.0,\"#f0f921\"]],\"type\":\"histogram2dcontour\"}],\"mesh3d\":[{\"colorbar\":{\"outlinewidth\":0,\"ticks\":\"\"},\"type\":\"mesh3d\"}],\"parcoords\":[{\"line\":{\"colorbar\":{\"outlinewidth\":0,\"ticks\":\"\"}},\"type\":\"parcoords\"}],\"pie\":[{\"automargin\":true,\"type\":\"pie\"}],\"scatter\":[{\"marker\":{\"colorbar\":{\"outlinewidth\":0,\"ticks\":\"\"}},\"type\":\"scatter\"}],\"scatter3d\":[{\"line\":{\"colorbar\":{\"outlinewidth\":0,\"ticks\":\"\"}},\"marker\":{\"colorbar\":{\"outlinewidth\":0,\"ticks\":\"\"}},\"type\":\"scatter3d\"}],\"scattercarpet\":[{\"marker\":{\"colorbar\":{\"outlinewidth\":0,\"ticks\":\"\"}},\"type\":\"scattercarpet\"}],\"scattergeo\":[{\"marker\":{\"colorbar\":{\"outlinewidth\":0,\"ticks\":\"\"}},\"type\":\"scattergeo\"}],\"scattergl\":[{\"marker\":{\"colorbar\":{\"outlinewidth\":0,\"ticks\":\"\"}},\"type\":\"scattergl\"}],\"scattermapbox\":[{\"marker\":{\"colorbar\":{\"outlinewidth\":0,\"ticks\":\"\"}},\"type\":\"scattermapbox\"}],\"scatterpolar\":[{\"marker\":{\"colorbar\":{\"outlinewidth\":0,\"ticks\":\"\"}},\"type\":\"scatterpolar\"}],\"scatterpolargl\":[{\"marker\":{\"colorbar\":{\"outlinewidth\":0,\"ticks\":\"\"}},\"type\":\"scatterpolargl\"}],\"scatterternary\":[{\"marker\":{\"colorbar\":{\"outlinewidth\":0,\"ticks\":\"\"}},\"type\":\"scatterternary\"}],\"surface\":[{\"colorbar\":{\"outlinewidth\":0,\"ticks\":\"\"},\"colorscale\":[[0.0,\"#0d0887\"],[0.1111111111111111,\"#46039f\"],[0.2222222222222222,\"#7201a8\"],[0.3333333333333333,\"#9c179e\"],[0.4444444444444444,\"#bd3786\"],[0.5555555555555556,\"#d8576b\"],[0.6666666666666666,\"#ed7953\"],[0.7777777777777778,\"#fb9f3a\"],[0.8888888888888888,\"#fdca26\"],[1.0,\"#f0f921\"]],\"type\":\"surface\"}],\"table\":[{\"cells\":{\"fill\":{\"color\":\"#EBF0F8\"},\"line\":{\"color\":\"white\"}},\"header\":{\"fill\":{\"color\":\"#C8D4E3\"},\"line\":{\"color\":\"white\"}},\"type\":\"table\"}]},\"layout\":{\"annotationdefaults\":{\"arrowcolor\":\"#2a3f5f\",\"arrowhead\":0,\"arrowwidth\":1},\"autotypenumbers\":\"strict\",\"coloraxis\":{\"colorbar\":{\"outlinewidth\":0,\"ticks\":\"\"}},\"colorscale\":{\"diverging\":[[0,\"#8e0152\"],[0.1,\"#c51b7d\"],[0.2,\"#de77ae\"],[0.3,\"#f1b6da\"],[0.4,\"#fde0ef\"],[0.5,\"#f7f7f7\"],[0.6,\"#e6f5d0\"],[0.7,\"#b8e186\"],[0.8,\"#7fbc41\"],[0.9,\"#4d9221\"],[1,\"#276419\"]],\"sequential\":[[0.0,\"#0d0887\"],[0.1111111111111111,\"#46039f\"],[0.2222222222222222,\"#7201a8\"],[0.3333333333333333,\"#9c179e\"],[0.4444444444444444,\"#bd3786\"],[0.5555555555555556,\"#d8576b\"],[0.6666666666666666,\"#ed7953\"],[0.7777777777777778,\"#fb9f3a\"],[0.8888888888888888,\"#fdca26\"],[1.0,\"#f0f921\"]],\"sequentialminus\":[[0.0,\"#0d0887\"],[0.1111111111111111,\"#46039f\"],[0.2222222222222222,\"#7201a8\"],[0.3333333333333333,\"#9c179e\"],[0.4444444444444444,\"#bd3786\"],[0.5555555555555556,\"#d8576b\"],[0.6666666666666666,\"#ed7953\"],[0.7777777777777778,\"#fb9f3a\"],[0.8888888888888888,\"#fdca26\"],[1.0,\"#f0f921\"]]},\"colorway\":[\"#636efa\",\"#EF553B\",\"#00cc96\",\"#ab63fa\",\"#FFA15A\",\"#19d3f3\",\"#FF6692\",\"#B6E880\",\"#FF97FF\",\"#FECB52\"],\"font\":{\"color\":\"#2a3f5f\"},\"geo\":{\"bgcolor\":\"white\",\"lakecolor\":\"white\",\"landcolor\":\"#E5ECF6\",\"showlakes\":true,\"showland\":true,\"subunitcolor\":\"white\"},\"hoverlabel\":{\"align\":\"left\"},\"hovermode\":\"closest\",\"mapbox\":{\"style\":\"light\"},\"paper_bgcolor\":\"white\",\"plot_bgcolor\":\"#E5ECF6\",\"polar\":{\"angularaxis\":{\"gridcolor\":\"white\",\"linecolor\":\"white\",\"ticks\":\"\"},\"bgcolor\":\"#E5ECF6\",\"radialaxis\":{\"gridcolor\":\"white\",\"linecolor\":\"white\",\"ticks\":\"\"}},\"scene\":{\"xaxis\":{\"backgroundcolor\":\"#E5ECF6\",\"gridcolor\":\"white\",\"gridwidth\":2,\"linecolor\":\"white\",\"showbackground\":true,\"ticks\":\"\",\"zerolinecolor\":\"white\"},\"yaxis\":{\"backgroundcolor\":\"#E5ECF6\",\"gridcolor\":\"white\",\"gridwidth\":2,\"linecolor\":\"white\",\"showbackground\":true,\"ticks\":\"\",\"zerolinecolor\":\"white\"},\"zaxis\":{\"backgroundcolor\":\"#E5ECF6\",\"gridcolor\":\"white\",\"gridwidth\":2,\"linecolor\":\"white\",\"showbackground\":true,\"ticks\":\"\",\"zerolinecolor\":\"white\"}},\"shapedefaults\":{\"line\":{\"color\":\"#2a3f5f\"}},\"ternary\":{\"aaxis\":{\"gridcolor\":\"white\",\"linecolor\":\"white\",\"ticks\":\"\"},\"baxis\":{\"gridcolor\":\"white\",\"linecolor\":\"white\",\"ticks\":\"\"},\"bgcolor\":\"#E5ECF6\",\"caxis\":{\"gridcolor\":\"white\",\"linecolor\":\"white\",\"ticks\":\"\"}},\"title\":{\"x\":0.05},\"xaxis\":{\"automargin\":true,\"gridcolor\":\"white\",\"linecolor\":\"white\",\"ticks\":\"\",\"title\":{\"standoff\":15},\"zerolinecolor\":\"white\",\"zerolinewidth\":2},\"yaxis\":{\"automargin\":true,\"gridcolor\":\"white\",\"linecolor\":\"white\",\"ticks\":\"\",\"title\":{\"standoff\":15},\"zerolinecolor\":\"white\",\"zerolinewidth\":2}}},\"xaxis\":{\"anchor\":\"y\",\"domain\":[0.0,1.0],\"title\":{\"text\":\"Station name\"},\"tickangle\":45},\"yaxis\":{\"anchor\":\"x\",\"domain\":[0.0,1.0],\"title\":{\"text\":\"Bike rented / returned\"}},\"legend\":{\"title\":{\"text\":\"variable\"},\"tracegroupgap\":0},\"title\":{\"text\":\"Rentals and returns per station and day\"},\"barmode\":\"group\"},                        {\"responsive\": true}                    ).then(function(){\n",
       "                            \n",
       "var gd = document.getElementById('e7bc59be-85a6-4956-83b2-22025d214fb5');\n",
       "var x = new MutationObserver(function (mutations, observer) {{\n",
       "        var display = window.getComputedStyle(gd).display;\n",
       "        if (!display || display === 'none') {{\n",
       "            console.log([gd, 'removed!']);\n",
       "            Plotly.purge(gd);\n",
       "            observer.disconnect();\n",
       "        }}\n",
       "}});\n",
       "\n",
       "// Listen for the removal of the full notebook cells\n",
       "var notebookContainer = gd.closest('#notebook-container');\n",
       "if (notebookContainer) {{\n",
       "    x.observe(notebookContainer, {childList: true});\n",
       "}}\n",
       "\n",
       "// Listen for the clearing of the current output cell\n",
       "var outputEl = gd.closest('.output');\n",
       "if (outputEl) {{\n",
       "    x.observe(outputEl, {childList: true});\n",
       "}}\n",
       "\n",
       "                        })                };                });            </script>        </div>"
      ]
     },
     "metadata": {},
     "output_type": "display_data"
    },
    {
     "data": {
      "application/vnd.plotly.v1+json": {
       "config": {
        "plotlyServerURL": "https://plot.ly"
       },
       "data": [
        {
         "alignmentgroup": "True",
         "hovertemplate": "variable=num_of_rentals_per_day<br>Station name=%{x}<br>Bike rented / returned=%{y}<extra></extra>",
         "legendgroup": "num_of_rentals_per_day",
         "marker": {
          "color": "#636efa",
          "opacity": 0.8,
          "pattern": {
           "shape": ""
          }
         },
         "name": "num_of_rentals_per_day",
         "offsetgroup": "num_of_rentals_per_day",
         "orientation": "v",
         "showlegend": true,
         "textposition": "auto",
         "type": "bar",
         "x": [
          "Meadows East",
          "Meadow Place",
          "Bristo Square",
          "Portobello - Kings Road",
          "St Andrew Square",
          "Victoria Quay",
          "Pollock Halls",
          "Dundee Terrace",
          "Castle Street",
          "Canonmills",
          "Fountainbridge",
          "Waverley Bridge",
          "Charlotte Square",
          "Leith Walk",
          "Bruntsfield Links",
          "Duke Street",
          "Brunswick Place",
          "Cramond Foreshore",
          "Tollcross",
          "Lauriston Place",
          "George Square",
          "Stockbridge",
          "Causewayside",
          "Lothian Road",
          "City Chambers",
          "South Trinity Road",
          "West Crosscauseway",
          "Morningside Road",
          "Dynamic Earth",
          "Abbeyhill",
          "Warrender Park Road",
          "Castle Terrace",
          "Royal Commonwealth Pool",
          "Hillside Crescent",
          "Marchmont Crescent",
          "Kings Building 2",
          "Dalry Road Lidl",
          "Boroughmuir",
          "Holyrood Road",
          "EICC",
          "Dundas Street",
          "East London Street",
          "Inverleith Row",
          "Comely Bank Road",
          "McDonald Road",
          "Surgeons Hall",
          "Kings Building 3",
          "Colinton Road",
          "Crichton Street",
          "St Andrews House",
          "Haymarket Station",
          "Grassmarket",
          "Drumsheugh Place",
          "Gladstone Terrace",
          "Hunter Square",
          "Simon Square",
          "Scotland Street",
          "Chambers Street",
          "Haymarket Terrace",
          "Wester Coates Terrace",
          "Waitrose Comely Bank",
          "Meggetland",
          "Waverley Court",
          "Thirlestane Road",
          "Picardy Place",
          "Kings Buildings 1",
          "Western General Hospital",
          "Waverley Station",
          "Edinburgh Royal Infirmary",
          "Pleasance Courtyard",
          "Queen Margaret University",
          "Kings Buildings - Murchison House",
          "Gamekeeper's Road",
          "Dean Street",
          "Orchard Brae House",
          "Milton Road - Edinburgh College",
          "Leith Walk North",
          "Belford Road",
          "Murrayfield Tram",
          "Heriot Watt - Edinburgh Business School",
          "Edinburgh Zoo",
          "Musselburgh Lidl",
          "Edinburgh Park Station",
          "Ellersly Road",
          "Heriot Watt - Student Accommodation",
          "Royal Edinburgh Hospital",
          "Sighthill - Edinburgh College",
          "Musselburgh Brunton Hall"
         ],
         "xaxis": "x",
         "y": [
          13.37,
          9.55,
          9.29,
          9,
          8.27,
          7.51,
          7.39,
          6.61,
          6.23,
          6.18,
          6.14,
          6.07,
          5.65,
          5.62,
          5.58,
          5.49,
          5.34,
          5.23,
          5.17,
          4.74,
          4.5,
          4.22,
          4.21,
          4.18,
          4.12,
          3.82,
          3.77,
          3.74,
          3.66,
          3.65,
          3.65,
          3.62,
          3.52,
          3.3,
          3.23,
          3.22,
          3.12,
          3.09,
          3.05,
          3.04,
          2.95,
          2.93,
          2.83,
          2.69,
          2.67,
          2.5,
          2.48,
          2.45,
          2.38,
          2.38,
          2.26,
          2.26,
          2.16,
          2.07,
          2.05,
          1.97,
          1.91,
          1.77,
          1.76,
          1.75,
          1.74,
          1.69,
          1.65,
          1.63,
          1.56,
          1.49,
          1.42,
          1.19,
          1.14,
          1.11,
          1.09,
          1.04,
          1.03,
          1,
          1,
          0.91,
          0.91,
          0.83,
          0.8,
          0.75,
          0.75,
          0.57,
          0.56,
          0.5,
          0.42,
          0.41,
          0.35,
          0.24
         ],
         "yaxis": "y"
        },
        {
         "alignmentgroup": "True",
         "hovertemplate": "variable=num_of_returns_per_day<br>Station name=%{x}<br>Bike rented / returned=%{y}<extra></extra>",
         "legendgroup": "num_of_returns_per_day",
         "marker": {
          "color": "#EF553B",
          "opacity": 0.8,
          "pattern": {
           "shape": ""
          }
         },
         "name": "num_of_returns_per_day",
         "offsetgroup": "num_of_returns_per_day",
         "orientation": "v",
         "showlegend": true,
         "textposition": "auto",
         "type": "bar",
         "x": [
          "Meadows East",
          "Meadow Place",
          "Bristo Square",
          "Portobello - Kings Road",
          "St Andrew Square",
          "Victoria Quay",
          "Pollock Halls",
          "Dundee Terrace",
          "Castle Street",
          "Canonmills",
          "Fountainbridge",
          "Waverley Bridge",
          "Charlotte Square",
          "Leith Walk",
          "Bruntsfield Links",
          "Duke Street",
          "Brunswick Place",
          "Cramond Foreshore",
          "Tollcross",
          "Lauriston Place",
          "George Square",
          "Stockbridge",
          "Causewayside",
          "Lothian Road",
          "City Chambers",
          "South Trinity Road",
          "West Crosscauseway",
          "Morningside Road",
          "Dynamic Earth",
          "Abbeyhill",
          "Warrender Park Road",
          "Castle Terrace",
          "Royal Commonwealth Pool",
          "Hillside Crescent",
          "Marchmont Crescent",
          "Kings Building 2",
          "Dalry Road Lidl",
          "Boroughmuir",
          "Holyrood Road",
          "EICC",
          "Dundas Street",
          "East London Street",
          "Inverleith Row",
          "Comely Bank Road",
          "McDonald Road",
          "Surgeons Hall",
          "Kings Building 3",
          "Colinton Road",
          "Crichton Street",
          "St Andrews House",
          "Haymarket Station",
          "Grassmarket",
          "Drumsheugh Place",
          "Gladstone Terrace",
          "Hunter Square",
          "Simon Square",
          "Scotland Street",
          "Chambers Street",
          "Haymarket Terrace",
          "Wester Coates Terrace",
          "Waitrose Comely Bank",
          "Meggetland",
          "Waverley Court",
          "Thirlestane Road",
          "Picardy Place",
          "Kings Buildings 1",
          "Western General Hospital",
          "Waverley Station",
          "Edinburgh Royal Infirmary",
          "Pleasance Courtyard",
          "Queen Margaret University",
          "Kings Buildings - Murchison House",
          "Gamekeeper's Road",
          "Dean Street",
          "Orchard Brae House",
          "Milton Road - Edinburgh College",
          "Leith Walk North",
          "Belford Road",
          "Murrayfield Tram",
          "Heriot Watt - Edinburgh Business School",
          "Edinburgh Zoo",
          "Musselburgh Lidl",
          "Edinburgh Park Station",
          "Ellersly Road",
          "Heriot Watt - Student Accommodation",
          "Royal Edinburgh Hospital",
          "Sighthill - Edinburgh College",
          "Musselburgh Brunton Hall"
         ],
         "xaxis": "x",
         "y": [
          11.75,
          7.59,
          5.81,
          12.9,
          6.12,
          11.07,
          5.13,
          6.78,
          5.51,
          8.4,
          5.59,
          6.37,
          3.61,
          8.22,
          3.53,
          8.7,
          6.15,
          6.41,
          5.04,
          2.86,
          4.52,
          5.84,
          3.91,
          3.09,
          2.01,
          4.82,
          2.85,
          4.34,
          4.63,
          4.22,
          2.9,
          2.97,
          3.12,
          4.02,
          2.43,
          3.64,
          3.66,
          3.38,
          3.38,
          2.49,
          3.8,
          3.11,
          3.92,
          3.8,
          3.06,
          1.75,
          2.36,
          1.79,
          2.09,
          1.46,
          2.16,
          2.25,
          1.98,
          1.97,
          1.91,
          1.92,
          2.03,
          1.09,
          1.72,
          1.88,
          2.11,
          2.26,
          1.7,
          1.12,
          1.2,
          1.52,
          1.64,
          1,
          1.36,
          1.11,
          1.1,
          1.05,
          1.05,
          1.14,
          1.04,
          1.17,
          1.24,
          0.79,
          0.89,
          0.77,
          0.76,
          0.67,
          0.64,
          0.5,
          0.34,
          0.34,
          0.47,
          0.3
         ],
         "yaxis": "y"
        }
       ],
       "layout": {
        "barmode": "group",
        "legend": {
         "title": {
          "text": "variable"
         },
         "tracegroupgap": 0
        },
        "template": {
         "data": {
          "bar": [
           {
            "error_x": {
             "color": "#2a3f5f"
            },
            "error_y": {
             "color": "#2a3f5f"
            },
            "marker": {
             "line": {
              "color": "#E5ECF6",
              "width": 0.5
             },
             "pattern": {
              "fillmode": "overlay",
              "size": 10,
              "solidity": 0.2
             }
            },
            "type": "bar"
           }
          ],
          "barpolar": [
           {
            "marker": {
             "line": {
              "color": "#E5ECF6",
              "width": 0.5
             },
             "pattern": {
              "fillmode": "overlay",
              "size": 10,
              "solidity": 0.2
             }
            },
            "type": "barpolar"
           }
          ],
          "carpet": [
           {
            "aaxis": {
             "endlinecolor": "#2a3f5f",
             "gridcolor": "white",
             "linecolor": "white",
             "minorgridcolor": "white",
             "startlinecolor": "#2a3f5f"
            },
            "baxis": {
             "endlinecolor": "#2a3f5f",
             "gridcolor": "white",
             "linecolor": "white",
             "minorgridcolor": "white",
             "startlinecolor": "#2a3f5f"
            },
            "type": "carpet"
           }
          ],
          "choropleth": [
           {
            "colorbar": {
             "outlinewidth": 0,
             "ticks": ""
            },
            "type": "choropleth"
           }
          ],
          "contour": [
           {
            "colorbar": {
             "outlinewidth": 0,
             "ticks": ""
            },
            "colorscale": [
             [
              0,
              "#0d0887"
             ],
             [
              0.1111111111111111,
              "#46039f"
             ],
             [
              0.2222222222222222,
              "#7201a8"
             ],
             [
              0.3333333333333333,
              "#9c179e"
             ],
             [
              0.4444444444444444,
              "#bd3786"
             ],
             [
              0.5555555555555556,
              "#d8576b"
             ],
             [
              0.6666666666666666,
              "#ed7953"
             ],
             [
              0.7777777777777778,
              "#fb9f3a"
             ],
             [
              0.8888888888888888,
              "#fdca26"
             ],
             [
              1,
              "#f0f921"
             ]
            ],
            "type": "contour"
           }
          ],
          "contourcarpet": [
           {
            "colorbar": {
             "outlinewidth": 0,
             "ticks": ""
            },
            "type": "contourcarpet"
           }
          ],
          "heatmap": [
           {
            "colorbar": {
             "outlinewidth": 0,
             "ticks": ""
            },
            "colorscale": [
             [
              0,
              "#0d0887"
             ],
             [
              0.1111111111111111,
              "#46039f"
             ],
             [
              0.2222222222222222,
              "#7201a8"
             ],
             [
              0.3333333333333333,
              "#9c179e"
             ],
             [
              0.4444444444444444,
              "#bd3786"
             ],
             [
              0.5555555555555556,
              "#d8576b"
             ],
             [
              0.6666666666666666,
              "#ed7953"
             ],
             [
              0.7777777777777778,
              "#fb9f3a"
             ],
             [
              0.8888888888888888,
              "#fdca26"
             ],
             [
              1,
              "#f0f921"
             ]
            ],
            "type": "heatmap"
           }
          ],
          "heatmapgl": [
           {
            "colorbar": {
             "outlinewidth": 0,
             "ticks": ""
            },
            "colorscale": [
             [
              0,
              "#0d0887"
             ],
             [
              0.1111111111111111,
              "#46039f"
             ],
             [
              0.2222222222222222,
              "#7201a8"
             ],
             [
              0.3333333333333333,
              "#9c179e"
             ],
             [
              0.4444444444444444,
              "#bd3786"
             ],
             [
              0.5555555555555556,
              "#d8576b"
             ],
             [
              0.6666666666666666,
              "#ed7953"
             ],
             [
              0.7777777777777778,
              "#fb9f3a"
             ],
             [
              0.8888888888888888,
              "#fdca26"
             ],
             [
              1,
              "#f0f921"
             ]
            ],
            "type": "heatmapgl"
           }
          ],
          "histogram": [
           {
            "marker": {
             "pattern": {
              "fillmode": "overlay",
              "size": 10,
              "solidity": 0.2
             }
            },
            "type": "histogram"
           }
          ],
          "histogram2d": [
           {
            "colorbar": {
             "outlinewidth": 0,
             "ticks": ""
            },
            "colorscale": [
             [
              0,
              "#0d0887"
             ],
             [
              0.1111111111111111,
              "#46039f"
             ],
             [
              0.2222222222222222,
              "#7201a8"
             ],
             [
              0.3333333333333333,
              "#9c179e"
             ],
             [
              0.4444444444444444,
              "#bd3786"
             ],
             [
              0.5555555555555556,
              "#d8576b"
             ],
             [
              0.6666666666666666,
              "#ed7953"
             ],
             [
              0.7777777777777778,
              "#fb9f3a"
             ],
             [
              0.8888888888888888,
              "#fdca26"
             ],
             [
              1,
              "#f0f921"
             ]
            ],
            "type": "histogram2d"
           }
          ],
          "histogram2dcontour": [
           {
            "colorbar": {
             "outlinewidth": 0,
             "ticks": ""
            },
            "colorscale": [
             [
              0,
              "#0d0887"
             ],
             [
              0.1111111111111111,
              "#46039f"
             ],
             [
              0.2222222222222222,
              "#7201a8"
             ],
             [
              0.3333333333333333,
              "#9c179e"
             ],
             [
              0.4444444444444444,
              "#bd3786"
             ],
             [
              0.5555555555555556,
              "#d8576b"
             ],
             [
              0.6666666666666666,
              "#ed7953"
             ],
             [
              0.7777777777777778,
              "#fb9f3a"
             ],
             [
              0.8888888888888888,
              "#fdca26"
             ],
             [
              1,
              "#f0f921"
             ]
            ],
            "type": "histogram2dcontour"
           }
          ],
          "mesh3d": [
           {
            "colorbar": {
             "outlinewidth": 0,
             "ticks": ""
            },
            "type": "mesh3d"
           }
          ],
          "parcoords": [
           {
            "line": {
             "colorbar": {
              "outlinewidth": 0,
              "ticks": ""
             }
            },
            "type": "parcoords"
           }
          ],
          "pie": [
           {
            "automargin": true,
            "type": "pie"
           }
          ],
          "scatter": [
           {
            "marker": {
             "colorbar": {
              "outlinewidth": 0,
              "ticks": ""
             }
            },
            "type": "scatter"
           }
          ],
          "scatter3d": [
           {
            "line": {
             "colorbar": {
              "outlinewidth": 0,
              "ticks": ""
             }
            },
            "marker": {
             "colorbar": {
              "outlinewidth": 0,
              "ticks": ""
             }
            },
            "type": "scatter3d"
           }
          ],
          "scattercarpet": [
           {
            "marker": {
             "colorbar": {
              "outlinewidth": 0,
              "ticks": ""
             }
            },
            "type": "scattercarpet"
           }
          ],
          "scattergeo": [
           {
            "marker": {
             "colorbar": {
              "outlinewidth": 0,
              "ticks": ""
             }
            },
            "type": "scattergeo"
           }
          ],
          "scattergl": [
           {
            "marker": {
             "colorbar": {
              "outlinewidth": 0,
              "ticks": ""
             }
            },
            "type": "scattergl"
           }
          ],
          "scattermapbox": [
           {
            "marker": {
             "colorbar": {
              "outlinewidth": 0,
              "ticks": ""
             }
            },
            "type": "scattermapbox"
           }
          ],
          "scatterpolar": [
           {
            "marker": {
             "colorbar": {
              "outlinewidth": 0,
              "ticks": ""
             }
            },
            "type": "scatterpolar"
           }
          ],
          "scatterpolargl": [
           {
            "marker": {
             "colorbar": {
              "outlinewidth": 0,
              "ticks": ""
             }
            },
            "type": "scatterpolargl"
           }
          ],
          "scatterternary": [
           {
            "marker": {
             "colorbar": {
              "outlinewidth": 0,
              "ticks": ""
             }
            },
            "type": "scatterternary"
           }
          ],
          "surface": [
           {
            "colorbar": {
             "outlinewidth": 0,
             "ticks": ""
            },
            "colorscale": [
             [
              0,
              "#0d0887"
             ],
             [
              0.1111111111111111,
              "#46039f"
             ],
             [
              0.2222222222222222,
              "#7201a8"
             ],
             [
              0.3333333333333333,
              "#9c179e"
             ],
             [
              0.4444444444444444,
              "#bd3786"
             ],
             [
              0.5555555555555556,
              "#d8576b"
             ],
             [
              0.6666666666666666,
              "#ed7953"
             ],
             [
              0.7777777777777778,
              "#fb9f3a"
             ],
             [
              0.8888888888888888,
              "#fdca26"
             ],
             [
              1,
              "#f0f921"
             ]
            ],
            "type": "surface"
           }
          ],
          "table": [
           {
            "cells": {
             "fill": {
              "color": "#EBF0F8"
             },
             "line": {
              "color": "white"
             }
            },
            "header": {
             "fill": {
              "color": "#C8D4E3"
             },
             "line": {
              "color": "white"
             }
            },
            "type": "table"
           }
          ]
         },
         "layout": {
          "annotationdefaults": {
           "arrowcolor": "#2a3f5f",
           "arrowhead": 0,
           "arrowwidth": 1
          },
          "autotypenumbers": "strict",
          "coloraxis": {
           "colorbar": {
            "outlinewidth": 0,
            "ticks": ""
           }
          },
          "colorscale": {
           "diverging": [
            [
             0,
             "#8e0152"
            ],
            [
             0.1,
             "#c51b7d"
            ],
            [
             0.2,
             "#de77ae"
            ],
            [
             0.3,
             "#f1b6da"
            ],
            [
             0.4,
             "#fde0ef"
            ],
            [
             0.5,
             "#f7f7f7"
            ],
            [
             0.6,
             "#e6f5d0"
            ],
            [
             0.7,
             "#b8e186"
            ],
            [
             0.8,
             "#7fbc41"
            ],
            [
             0.9,
             "#4d9221"
            ],
            [
             1,
             "#276419"
            ]
           ],
           "sequential": [
            [
             0,
             "#0d0887"
            ],
            [
             0.1111111111111111,
             "#46039f"
            ],
            [
             0.2222222222222222,
             "#7201a8"
            ],
            [
             0.3333333333333333,
             "#9c179e"
            ],
            [
             0.4444444444444444,
             "#bd3786"
            ],
            [
             0.5555555555555556,
             "#d8576b"
            ],
            [
             0.6666666666666666,
             "#ed7953"
            ],
            [
             0.7777777777777778,
             "#fb9f3a"
            ],
            [
             0.8888888888888888,
             "#fdca26"
            ],
            [
             1,
             "#f0f921"
            ]
           ],
           "sequentialminus": [
            [
             0,
             "#0d0887"
            ],
            [
             0.1111111111111111,
             "#46039f"
            ],
            [
             0.2222222222222222,
             "#7201a8"
            ],
            [
             0.3333333333333333,
             "#9c179e"
            ],
            [
             0.4444444444444444,
             "#bd3786"
            ],
            [
             0.5555555555555556,
             "#d8576b"
            ],
            [
             0.6666666666666666,
             "#ed7953"
            ],
            [
             0.7777777777777778,
             "#fb9f3a"
            ],
            [
             0.8888888888888888,
             "#fdca26"
            ],
            [
             1,
             "#f0f921"
            ]
           ]
          },
          "colorway": [
           "#636efa",
           "#EF553B",
           "#00cc96",
           "#ab63fa",
           "#FFA15A",
           "#19d3f3",
           "#FF6692",
           "#B6E880",
           "#FF97FF",
           "#FECB52"
          ],
          "font": {
           "color": "#2a3f5f"
          },
          "geo": {
           "bgcolor": "white",
           "lakecolor": "white",
           "landcolor": "#E5ECF6",
           "showlakes": true,
           "showland": true,
           "subunitcolor": "white"
          },
          "hoverlabel": {
           "align": "left"
          },
          "hovermode": "closest",
          "mapbox": {
           "style": "light"
          },
          "paper_bgcolor": "white",
          "plot_bgcolor": "#E5ECF6",
          "polar": {
           "angularaxis": {
            "gridcolor": "white",
            "linecolor": "white",
            "ticks": ""
           },
           "bgcolor": "#E5ECF6",
           "radialaxis": {
            "gridcolor": "white",
            "linecolor": "white",
            "ticks": ""
           }
          },
          "scene": {
           "xaxis": {
            "backgroundcolor": "#E5ECF6",
            "gridcolor": "white",
            "gridwidth": 2,
            "linecolor": "white",
            "showbackground": true,
            "ticks": "",
            "zerolinecolor": "white"
           },
           "yaxis": {
            "backgroundcolor": "#E5ECF6",
            "gridcolor": "white",
            "gridwidth": 2,
            "linecolor": "white",
            "showbackground": true,
            "ticks": "",
            "zerolinecolor": "white"
           },
           "zaxis": {
            "backgroundcolor": "#E5ECF6",
            "gridcolor": "white",
            "gridwidth": 2,
            "linecolor": "white",
            "showbackground": true,
            "ticks": "",
            "zerolinecolor": "white"
           }
          },
          "shapedefaults": {
           "line": {
            "color": "#2a3f5f"
           }
          },
          "ternary": {
           "aaxis": {
            "gridcolor": "white",
            "linecolor": "white",
            "ticks": ""
           },
           "baxis": {
            "gridcolor": "white",
            "linecolor": "white",
            "ticks": ""
           },
           "bgcolor": "#E5ECF6",
           "caxis": {
            "gridcolor": "white",
            "linecolor": "white",
            "ticks": ""
           }
          },
          "title": {
           "x": 0.05
          },
          "xaxis": {
           "automargin": true,
           "gridcolor": "white",
           "linecolor": "white",
           "ticks": "",
           "title": {
            "standoff": 15
           },
           "zerolinecolor": "white",
           "zerolinewidth": 2
          },
          "yaxis": {
           "automargin": true,
           "gridcolor": "white",
           "linecolor": "white",
           "ticks": "",
           "title": {
            "standoff": 15
           },
           "zerolinecolor": "white",
           "zerolinewidth": 2
          }
         }
        },
        "title": {
         "text": "Rentals and returns per station and day"
        },
        "xaxis": {
         "anchor": "y",
         "domain": [
          0,
          1
         ],
         "tickangle": 45,
         "title": {
          "text": "Station name"
         }
        },
        "yaxis": {
         "anchor": "x",
         "domain": [
          0,
          1
         ],
         "title": {
          "text": "Bike rented / returned"
         }
        }
       }
      },
      "text/html": [
       "<div>                            <div id=\"7d772621-45e9-42b5-9f6c-e44a0d8ca715\" class=\"plotly-graph-div\" style=\"height:525px; width:100%;\"></div>            <script type=\"text/javascript\">                require([\"plotly\"], function(Plotly) {                    window.PLOTLYENV=window.PLOTLYENV || {};                                    if (document.getElementById(\"7d772621-45e9-42b5-9f6c-e44a0d8ca715\")) {                    Plotly.newPlot(                        \"7d772621-45e9-42b5-9f6c-e44a0d8ca715\",                        [{\"alignmentgroup\":\"True\",\"hovertemplate\":\"variable=num_of_rentals_per_day<br>Station name=%{x}<br>Bike rented / returned=%{y}<extra></extra>\",\"legendgroup\":\"num_of_rentals_per_day\",\"marker\":{\"color\":\"#636efa\",\"opacity\":0.8,\"pattern\":{\"shape\":\"\"}},\"name\":\"num_of_rentals_per_day\",\"offsetgroup\":\"num_of_rentals_per_day\",\"orientation\":\"v\",\"showlegend\":true,\"textposition\":\"auto\",\"x\":[\"Meadows East\",\"Meadow Place\",\"Bristo Square\",\"Portobello - Kings Road\",\"St Andrew Square\",\"Victoria Quay\",\"Pollock Halls\",\"Dundee Terrace\",\"Castle Street\",\"Canonmills\",\"Fountainbridge\",\"Waverley Bridge\",\"Charlotte Square\",\"Leith Walk\",\"Bruntsfield Links\",\"Duke Street\",\"Brunswick Place\",\"Cramond Foreshore\",\"Tollcross\",\"Lauriston Place\",\"George Square\",\"Stockbridge\",\"Causewayside\",\"Lothian Road\",\"City Chambers\",\"South Trinity Road\",\"West Crosscauseway\",\"Morningside Road\",\"Dynamic Earth\",\"Abbeyhill\",\"Warrender Park Road\",\"Castle Terrace\",\"Royal Commonwealth Pool\",\"Hillside Crescent\",\"Marchmont Crescent\",\"Kings Building 2\",\"Dalry Road Lidl\",\"Boroughmuir\",\"Holyrood Road\",\"EICC\",\"Dundas Street\",\"East London Street\",\"Inverleith Row\",\"Comely Bank Road\",\"McDonald Road\",\"Surgeons Hall\",\"Kings Building 3\",\"Colinton Road\",\"Crichton Street\",\"St Andrews House\",\"Haymarket Station\",\"Grassmarket\",\"Drumsheugh Place\",\"Gladstone Terrace\",\"Hunter Square\",\"Simon Square\",\"Scotland Street\",\"Chambers Street\",\"Haymarket Terrace\",\"Wester Coates Terrace\",\"Waitrose Comely Bank\",\"Meggetland\",\"Waverley Court\",\"Thirlestane Road\",\"Picardy Place\",\"Kings Buildings 1\",\"Western General Hospital\",\"Waverley Station\",\"Edinburgh Royal Infirmary\",\"Pleasance Courtyard\",\"Queen Margaret University\",\"Kings Buildings - Murchison House\",\"Gamekeeper's Road\",\"Dean Street\",\"Orchard Brae House\",\"Milton Road - Edinburgh College\",\"Leith Walk North\",\"Belford Road\",\"Murrayfield Tram\",\"Heriot Watt - Edinburgh Business School\",\"Edinburgh Zoo\",\"Musselburgh Lidl\",\"Edinburgh Park Station\",\"Ellersly Road\",\"Heriot Watt - Student Accommodation\",\"Royal Edinburgh Hospital\",\"Sighthill - Edinburgh College\",\"Musselburgh Brunton Hall\"],\"xaxis\":\"x\",\"y\":[13.37,9.55,9.29,9.0,8.27,7.51,7.39,6.61,6.23,6.18,6.14,6.07,5.65,5.62,5.58,5.49,5.34,5.23,5.17,4.74,4.5,4.22,4.21,4.18,4.12,3.82,3.77,3.74,3.66,3.65,3.65,3.62,3.52,3.3,3.23,3.22,3.12,3.09,3.05,3.04,2.95,2.93,2.83,2.69,2.67,2.5,2.48,2.45,2.38,2.38,2.26,2.26,2.16,2.07,2.05,1.97,1.91,1.77,1.76,1.75,1.74,1.69,1.65,1.63,1.56,1.49,1.42,1.19,1.14,1.11,1.09,1.04,1.03,1.0,1.0,0.91,0.91,0.83,0.8,0.75,0.75,0.57,0.56,0.5,0.42,0.41,0.35,0.24],\"yaxis\":\"y\",\"type\":\"bar\"},{\"alignmentgroup\":\"True\",\"hovertemplate\":\"variable=num_of_returns_per_day<br>Station name=%{x}<br>Bike rented / returned=%{y}<extra></extra>\",\"legendgroup\":\"num_of_returns_per_day\",\"marker\":{\"color\":\"#EF553B\",\"opacity\":0.8,\"pattern\":{\"shape\":\"\"}},\"name\":\"num_of_returns_per_day\",\"offsetgroup\":\"num_of_returns_per_day\",\"orientation\":\"v\",\"showlegend\":true,\"textposition\":\"auto\",\"x\":[\"Meadows East\",\"Meadow Place\",\"Bristo Square\",\"Portobello - Kings Road\",\"St Andrew Square\",\"Victoria Quay\",\"Pollock Halls\",\"Dundee Terrace\",\"Castle Street\",\"Canonmills\",\"Fountainbridge\",\"Waverley Bridge\",\"Charlotte Square\",\"Leith Walk\",\"Bruntsfield Links\",\"Duke Street\",\"Brunswick Place\",\"Cramond Foreshore\",\"Tollcross\",\"Lauriston Place\",\"George Square\",\"Stockbridge\",\"Causewayside\",\"Lothian Road\",\"City Chambers\",\"South Trinity Road\",\"West Crosscauseway\",\"Morningside Road\",\"Dynamic Earth\",\"Abbeyhill\",\"Warrender Park Road\",\"Castle Terrace\",\"Royal Commonwealth Pool\",\"Hillside Crescent\",\"Marchmont Crescent\",\"Kings Building 2\",\"Dalry Road Lidl\",\"Boroughmuir\",\"Holyrood Road\",\"EICC\",\"Dundas Street\",\"East London Street\",\"Inverleith Row\",\"Comely Bank Road\",\"McDonald Road\",\"Surgeons Hall\",\"Kings Building 3\",\"Colinton Road\",\"Crichton Street\",\"St Andrews House\",\"Haymarket Station\",\"Grassmarket\",\"Drumsheugh Place\",\"Gladstone Terrace\",\"Hunter Square\",\"Simon Square\",\"Scotland Street\",\"Chambers Street\",\"Haymarket Terrace\",\"Wester Coates Terrace\",\"Waitrose Comely Bank\",\"Meggetland\",\"Waverley Court\",\"Thirlestane Road\",\"Picardy Place\",\"Kings Buildings 1\",\"Western General Hospital\",\"Waverley Station\",\"Edinburgh Royal Infirmary\",\"Pleasance Courtyard\",\"Queen Margaret University\",\"Kings Buildings - Murchison House\",\"Gamekeeper's Road\",\"Dean Street\",\"Orchard Brae House\",\"Milton Road - Edinburgh College\",\"Leith Walk North\",\"Belford Road\",\"Murrayfield Tram\",\"Heriot Watt - Edinburgh Business School\",\"Edinburgh Zoo\",\"Musselburgh Lidl\",\"Edinburgh Park Station\",\"Ellersly Road\",\"Heriot Watt - Student Accommodation\",\"Royal Edinburgh Hospital\",\"Sighthill - Edinburgh College\",\"Musselburgh Brunton Hall\"],\"xaxis\":\"x\",\"y\":[11.75,7.59,5.81,12.9,6.12,11.07,5.13,6.78,5.51,8.4,5.59,6.37,3.61,8.22,3.53,8.7,6.15,6.41,5.04,2.86,4.52,5.84,3.91,3.09,2.01,4.82,2.85,4.34,4.63,4.22,2.9,2.97,3.12,4.02,2.43,3.64,3.66,3.38,3.38,2.49,3.8,3.11,3.92,3.8,3.06,1.75,2.36,1.79,2.09,1.46,2.16,2.25,1.98,1.97,1.91,1.92,2.03,1.09,1.72,1.88,2.11,2.26,1.7,1.12,1.2,1.52,1.64,1.0,1.36,1.11,1.1,1.05,1.05,1.14,1.04,1.17,1.24,0.79,0.89,0.77,0.76,0.67,0.64,0.5,0.34,0.34,0.47,0.3],\"yaxis\":\"y\",\"type\":\"bar\"}],                        {\"template\":{\"data\":{\"bar\":[{\"error_x\":{\"color\":\"#2a3f5f\"},\"error_y\":{\"color\":\"#2a3f5f\"},\"marker\":{\"line\":{\"color\":\"#E5ECF6\",\"width\":0.5},\"pattern\":{\"fillmode\":\"overlay\",\"size\":10,\"solidity\":0.2}},\"type\":\"bar\"}],\"barpolar\":[{\"marker\":{\"line\":{\"color\":\"#E5ECF6\",\"width\":0.5},\"pattern\":{\"fillmode\":\"overlay\",\"size\":10,\"solidity\":0.2}},\"type\":\"barpolar\"}],\"carpet\":[{\"aaxis\":{\"endlinecolor\":\"#2a3f5f\",\"gridcolor\":\"white\",\"linecolor\":\"white\",\"minorgridcolor\":\"white\",\"startlinecolor\":\"#2a3f5f\"},\"baxis\":{\"endlinecolor\":\"#2a3f5f\",\"gridcolor\":\"white\",\"linecolor\":\"white\",\"minorgridcolor\":\"white\",\"startlinecolor\":\"#2a3f5f\"},\"type\":\"carpet\"}],\"choropleth\":[{\"colorbar\":{\"outlinewidth\":0,\"ticks\":\"\"},\"type\":\"choropleth\"}],\"contour\":[{\"colorbar\":{\"outlinewidth\":0,\"ticks\":\"\"},\"colorscale\":[[0.0,\"#0d0887\"],[0.1111111111111111,\"#46039f\"],[0.2222222222222222,\"#7201a8\"],[0.3333333333333333,\"#9c179e\"],[0.4444444444444444,\"#bd3786\"],[0.5555555555555556,\"#d8576b\"],[0.6666666666666666,\"#ed7953\"],[0.7777777777777778,\"#fb9f3a\"],[0.8888888888888888,\"#fdca26\"],[1.0,\"#f0f921\"]],\"type\":\"contour\"}],\"contourcarpet\":[{\"colorbar\":{\"outlinewidth\":0,\"ticks\":\"\"},\"type\":\"contourcarpet\"}],\"heatmap\":[{\"colorbar\":{\"outlinewidth\":0,\"ticks\":\"\"},\"colorscale\":[[0.0,\"#0d0887\"],[0.1111111111111111,\"#46039f\"],[0.2222222222222222,\"#7201a8\"],[0.3333333333333333,\"#9c179e\"],[0.4444444444444444,\"#bd3786\"],[0.5555555555555556,\"#d8576b\"],[0.6666666666666666,\"#ed7953\"],[0.7777777777777778,\"#fb9f3a\"],[0.8888888888888888,\"#fdca26\"],[1.0,\"#f0f921\"]],\"type\":\"heatmap\"}],\"heatmapgl\":[{\"colorbar\":{\"outlinewidth\":0,\"ticks\":\"\"},\"colorscale\":[[0.0,\"#0d0887\"],[0.1111111111111111,\"#46039f\"],[0.2222222222222222,\"#7201a8\"],[0.3333333333333333,\"#9c179e\"],[0.4444444444444444,\"#bd3786\"],[0.5555555555555556,\"#d8576b\"],[0.6666666666666666,\"#ed7953\"],[0.7777777777777778,\"#fb9f3a\"],[0.8888888888888888,\"#fdca26\"],[1.0,\"#f0f921\"]],\"type\":\"heatmapgl\"}],\"histogram\":[{\"marker\":{\"pattern\":{\"fillmode\":\"overlay\",\"size\":10,\"solidity\":0.2}},\"type\":\"histogram\"}],\"histogram2d\":[{\"colorbar\":{\"outlinewidth\":0,\"ticks\":\"\"},\"colorscale\":[[0.0,\"#0d0887\"],[0.1111111111111111,\"#46039f\"],[0.2222222222222222,\"#7201a8\"],[0.3333333333333333,\"#9c179e\"],[0.4444444444444444,\"#bd3786\"],[0.5555555555555556,\"#d8576b\"],[0.6666666666666666,\"#ed7953\"],[0.7777777777777778,\"#fb9f3a\"],[0.8888888888888888,\"#fdca26\"],[1.0,\"#f0f921\"]],\"type\":\"histogram2d\"}],\"histogram2dcontour\":[{\"colorbar\":{\"outlinewidth\":0,\"ticks\":\"\"},\"colorscale\":[[0.0,\"#0d0887\"],[0.1111111111111111,\"#46039f\"],[0.2222222222222222,\"#7201a8\"],[0.3333333333333333,\"#9c179e\"],[0.4444444444444444,\"#bd3786\"],[0.5555555555555556,\"#d8576b\"],[0.6666666666666666,\"#ed7953\"],[0.7777777777777778,\"#fb9f3a\"],[0.8888888888888888,\"#fdca26\"],[1.0,\"#f0f921\"]],\"type\":\"histogram2dcontour\"}],\"mesh3d\":[{\"colorbar\":{\"outlinewidth\":0,\"ticks\":\"\"},\"type\":\"mesh3d\"}],\"parcoords\":[{\"line\":{\"colorbar\":{\"outlinewidth\":0,\"ticks\":\"\"}},\"type\":\"parcoords\"}],\"pie\":[{\"automargin\":true,\"type\":\"pie\"}],\"scatter\":[{\"marker\":{\"colorbar\":{\"outlinewidth\":0,\"ticks\":\"\"}},\"type\":\"scatter\"}],\"scatter3d\":[{\"line\":{\"colorbar\":{\"outlinewidth\":0,\"ticks\":\"\"}},\"marker\":{\"colorbar\":{\"outlinewidth\":0,\"ticks\":\"\"}},\"type\":\"scatter3d\"}],\"scattercarpet\":[{\"marker\":{\"colorbar\":{\"outlinewidth\":0,\"ticks\":\"\"}},\"type\":\"scattercarpet\"}],\"scattergeo\":[{\"marker\":{\"colorbar\":{\"outlinewidth\":0,\"ticks\":\"\"}},\"type\":\"scattergeo\"}],\"scattergl\":[{\"marker\":{\"colorbar\":{\"outlinewidth\":0,\"ticks\":\"\"}},\"type\":\"scattergl\"}],\"scattermapbox\":[{\"marker\":{\"colorbar\":{\"outlinewidth\":0,\"ticks\":\"\"}},\"type\":\"scattermapbox\"}],\"scatterpolar\":[{\"marker\":{\"colorbar\":{\"outlinewidth\":0,\"ticks\":\"\"}},\"type\":\"scatterpolar\"}],\"scatterpolargl\":[{\"marker\":{\"colorbar\":{\"outlinewidth\":0,\"ticks\":\"\"}},\"type\":\"scatterpolargl\"}],\"scatterternary\":[{\"marker\":{\"colorbar\":{\"outlinewidth\":0,\"ticks\":\"\"}},\"type\":\"scatterternary\"}],\"surface\":[{\"colorbar\":{\"outlinewidth\":0,\"ticks\":\"\"},\"colorscale\":[[0.0,\"#0d0887\"],[0.1111111111111111,\"#46039f\"],[0.2222222222222222,\"#7201a8\"],[0.3333333333333333,\"#9c179e\"],[0.4444444444444444,\"#bd3786\"],[0.5555555555555556,\"#d8576b\"],[0.6666666666666666,\"#ed7953\"],[0.7777777777777778,\"#fb9f3a\"],[0.8888888888888888,\"#fdca26\"],[1.0,\"#f0f921\"]],\"type\":\"surface\"}],\"table\":[{\"cells\":{\"fill\":{\"color\":\"#EBF0F8\"},\"line\":{\"color\":\"white\"}},\"header\":{\"fill\":{\"color\":\"#C8D4E3\"},\"line\":{\"color\":\"white\"}},\"type\":\"table\"}]},\"layout\":{\"annotationdefaults\":{\"arrowcolor\":\"#2a3f5f\",\"arrowhead\":0,\"arrowwidth\":1},\"autotypenumbers\":\"strict\",\"coloraxis\":{\"colorbar\":{\"outlinewidth\":0,\"ticks\":\"\"}},\"colorscale\":{\"diverging\":[[0,\"#8e0152\"],[0.1,\"#c51b7d\"],[0.2,\"#de77ae\"],[0.3,\"#f1b6da\"],[0.4,\"#fde0ef\"],[0.5,\"#f7f7f7\"],[0.6,\"#e6f5d0\"],[0.7,\"#b8e186\"],[0.8,\"#7fbc41\"],[0.9,\"#4d9221\"],[1,\"#276419\"]],\"sequential\":[[0.0,\"#0d0887\"],[0.1111111111111111,\"#46039f\"],[0.2222222222222222,\"#7201a8\"],[0.3333333333333333,\"#9c179e\"],[0.4444444444444444,\"#bd3786\"],[0.5555555555555556,\"#d8576b\"],[0.6666666666666666,\"#ed7953\"],[0.7777777777777778,\"#fb9f3a\"],[0.8888888888888888,\"#fdca26\"],[1.0,\"#f0f921\"]],\"sequentialminus\":[[0.0,\"#0d0887\"],[0.1111111111111111,\"#46039f\"],[0.2222222222222222,\"#7201a8\"],[0.3333333333333333,\"#9c179e\"],[0.4444444444444444,\"#bd3786\"],[0.5555555555555556,\"#d8576b\"],[0.6666666666666666,\"#ed7953\"],[0.7777777777777778,\"#fb9f3a\"],[0.8888888888888888,\"#fdca26\"],[1.0,\"#f0f921\"]]},\"colorway\":[\"#636efa\",\"#EF553B\",\"#00cc96\",\"#ab63fa\",\"#FFA15A\",\"#19d3f3\",\"#FF6692\",\"#B6E880\",\"#FF97FF\",\"#FECB52\"],\"font\":{\"color\":\"#2a3f5f\"},\"geo\":{\"bgcolor\":\"white\",\"lakecolor\":\"white\",\"landcolor\":\"#E5ECF6\",\"showlakes\":true,\"showland\":true,\"subunitcolor\":\"white\"},\"hoverlabel\":{\"align\":\"left\"},\"hovermode\":\"closest\",\"mapbox\":{\"style\":\"light\"},\"paper_bgcolor\":\"white\",\"plot_bgcolor\":\"#E5ECF6\",\"polar\":{\"angularaxis\":{\"gridcolor\":\"white\",\"linecolor\":\"white\",\"ticks\":\"\"},\"bgcolor\":\"#E5ECF6\",\"radialaxis\":{\"gridcolor\":\"white\",\"linecolor\":\"white\",\"ticks\":\"\"}},\"scene\":{\"xaxis\":{\"backgroundcolor\":\"#E5ECF6\",\"gridcolor\":\"white\",\"gridwidth\":2,\"linecolor\":\"white\",\"showbackground\":true,\"ticks\":\"\",\"zerolinecolor\":\"white\"},\"yaxis\":{\"backgroundcolor\":\"#E5ECF6\",\"gridcolor\":\"white\",\"gridwidth\":2,\"linecolor\":\"white\",\"showbackground\":true,\"ticks\":\"\",\"zerolinecolor\":\"white\"},\"zaxis\":{\"backgroundcolor\":\"#E5ECF6\",\"gridcolor\":\"white\",\"gridwidth\":2,\"linecolor\":\"white\",\"showbackground\":true,\"ticks\":\"\",\"zerolinecolor\":\"white\"}},\"shapedefaults\":{\"line\":{\"color\":\"#2a3f5f\"}},\"ternary\":{\"aaxis\":{\"gridcolor\":\"white\",\"linecolor\":\"white\",\"ticks\":\"\"},\"baxis\":{\"gridcolor\":\"white\",\"linecolor\":\"white\",\"ticks\":\"\"},\"bgcolor\":\"#E5ECF6\",\"caxis\":{\"gridcolor\":\"white\",\"linecolor\":\"white\",\"ticks\":\"\"}},\"title\":{\"x\":0.05},\"xaxis\":{\"automargin\":true,\"gridcolor\":\"white\",\"linecolor\":\"white\",\"ticks\":\"\",\"title\":{\"standoff\":15},\"zerolinecolor\":\"white\",\"zerolinewidth\":2},\"yaxis\":{\"automargin\":true,\"gridcolor\":\"white\",\"linecolor\":\"white\",\"ticks\":\"\",\"title\":{\"standoff\":15},\"zerolinecolor\":\"white\",\"zerolinewidth\":2}}},\"xaxis\":{\"anchor\":\"y\",\"domain\":[0.0,1.0],\"title\":{\"text\":\"Station name\"},\"tickangle\":45},\"yaxis\":{\"anchor\":\"x\",\"domain\":[0.0,1.0],\"title\":{\"text\":\"Bike rented / returned\"}},\"legend\":{\"title\":{\"text\":\"variable\"},\"tracegroupgap\":0},\"title\":{\"text\":\"Rentals and returns per station and day\"},\"barmode\":\"group\"},                        {\"responsive\": true}                    ).then(function(){\n",
       "                            \n",
       "var gd = document.getElementById('7d772621-45e9-42b5-9f6c-e44a0d8ca715');\n",
       "var x = new MutationObserver(function (mutations, observer) {{\n",
       "        var display = window.getComputedStyle(gd).display;\n",
       "        if (!display || display === 'none') {{\n",
       "            console.log([gd, 'removed!']);\n",
       "            Plotly.purge(gd);\n",
       "            observer.disconnect();\n",
       "        }}\n",
       "}});\n",
       "\n",
       "// Listen for the removal of the full notebook cells\n",
       "var notebookContainer = gd.closest('#notebook-container');\n",
       "if (notebookContainer) {{\n",
       "    x.observe(notebookContainer, {childList: true});\n",
       "}}\n",
       "\n",
       "// Listen for the clearing of the current output cell\n",
       "var outputEl = gd.closest('.output');\n",
       "if (outputEl) {{\n",
       "    x.observe(outputEl, {childList: true});\n",
       "}}\n",
       "\n",
       "                        })                };                });            </script>        </div>"
      ]
     },
     "metadata": {},
     "output_type": "display_data"
    }
   ],
   "source": [
    "condition = df[\"station_status\"] == \"active\"\n",
    "df_active = df[condition]\n",
    "# df_active.groupby(\"date\").count() - 1220 days in df\n",
    "\n",
    "df_rentals_per_station = df_active.groupby(\"start_station_name\")[[\"rental_period\"]].count().reset_index().rename(columns = {\"start_station_name\" : \"station_name\", \"rental_period\" : \"num_of_rentals\"})\n",
    "df_returns_per_station = df_active.groupby(\"end_station_name\")[[\"rental_period\"]].count().reset_index().rename(columns = {\"end_station_name\" : \"station_name\", \"rental_period\" : \"num_of_returns\"})\n",
    "\n",
    "# df1 = df_active.groupby(\"start_station_name\")[[\"rental_period\"]].sum().reset_index().set_index(\"start_station_name\")\n",
    "\n",
    "df_mobility = df_rentals_per_station.merge(df_returns_per_station).sort_values(\"num_of_rentals\", ascending = False)\n",
    "\n",
    "df_mobility[\"num_of_rentals_per_day\"] = (df_mobility[\"num_of_rentals\"] / 1220).round(2) # mean per day during 2018 - 2021\n",
    "df_mobility[\"num_of_returns_per_day\"] = (df_mobility[\"num_of_returns\"] / 1220).round(2)\n",
    "df_mobility[\"bike_mobility_per_day\"] = (df_mobility[\"num_of_rentals_per_day\"] - df_mobility[\"num_of_returns_per_day\"]).round(2)\n",
    "\n",
    "# Per station and day on average merely more then 3 bikes are rented / returned\n",
    "\n",
    "fig = px.bar(\n",
    "    data_frame = df_mobility,\n",
    "    x = \"station_name\",\n",
    "    y = [\"num_of_rentals_per_day\",\"num_of_returns_per_day\"],\n",
    "    opacity = 0.8,\n",
    "    orientation = \"v\",\n",
    "    barmode = 'group',\n",
    "    title='Rentals and returns per station and day',\n",
    "    labels ={\"station_name\" : \"Station name\", \"value\" : \"Bike rented / returned\"}\n",
    ")\n",
    "\n",
    "fig.update_xaxes(tickangle=45)\n",
    "fig.show()\n",
    "\n",
    "# Chart is interactive, can be zoomed in"
   ]
  },
  {
   "cell_type": "markdown",
   "id": "7892d116",
   "metadata": {},
   "source": [
    "## Identification of the busiest stations (in observed timespan)"
   ]
  },
  {
   "cell_type": "code",
   "execution_count": 373,
   "id": "37102891",
   "metadata": {},
   "outputs": [
    {
     "data": {
      "application/vnd.plotly.v1+json": {
       "config": {
        "plotlyServerURL": "https://plot.ly"
       },
       "data": [
        {
         "marker": {
          "color": "blue"
         },
         "name": "rentals",
         "type": "bar",
         "x": [
          "Meadows East",
          "Meadow Place",
          "Bristo Square",
          "Portobello - Kings Road",
          "St Andrew Square",
          "Victoria Quay",
          "Pollock Halls",
          "Dundee Terrace",
          "Castle Street",
          "Canonmills",
          "Fountainbridge",
          "Waverley Bridge",
          "Charlotte Square",
          "Leith Walk",
          "Bruntsfield Links",
          "Duke Street",
          "Brunswick Place",
          "Cramond Foreshore",
          "Tollcross",
          "Lauriston Place",
          "George Square",
          "Stockbridge",
          "Causewayside",
          "Lothian Road",
          "City Chambers",
          "South Trinity Road",
          "West Crosscauseway",
          "Morningside Road",
          "Dynamic Earth",
          "Abbeyhill",
          "Warrender Park Road",
          "Castle Terrace",
          "Royal Commonwealth Pool",
          "Hillside Crescent",
          "Marchmont Crescent",
          "Kings Building 2",
          "Dalry Road Lidl",
          "Boroughmuir",
          "Holyrood Road",
          "EICC",
          "Dundas Street",
          "East London Street",
          "Inverleith Row",
          "Comely Bank Road",
          "McDonald Road",
          "Surgeons Hall",
          "Kings Building 3",
          "Colinton Road",
          "Crichton Street",
          "St Andrews House",
          "Haymarket Station",
          "Grassmarket",
          "Drumsheugh Place",
          "Gladstone Terrace",
          "Hunter Square",
          "Simon Square",
          "Scotland Street",
          "Chambers Street",
          "Haymarket Terrace",
          "Wester Coates Terrace",
          "Waitrose Comely Bank",
          "Meggetland",
          "Waverley Court",
          "Thirlestane Road",
          "Picardy Place",
          "Kings Buildings 1",
          "Western General Hospital",
          "Waverley Station",
          "Edinburgh Royal Infirmary",
          "Pleasance Courtyard",
          "Queen Margaret University",
          "Kings Buildings - Murchison House",
          "Gamekeeper's Road",
          "Dean Street",
          "Orchard Brae House",
          "Milton Road - Edinburgh College",
          "Leith Walk North",
          "Belford Road",
          "Murrayfield Tram",
          "Heriot Watt - Edinburgh Business School",
          "Edinburgh Zoo",
          "Musselburgh Lidl",
          "Edinburgh Park Station",
          "Ellersly Road",
          "Heriot Watt - Student Accommodation",
          "Royal Edinburgh Hospital",
          "Sighthill - Edinburgh College",
          "Musselburgh Brunton Hall"
         ],
         "y": [
          16317,
          11656,
          11338,
          10981,
          10092,
          9162,
          9020,
          8066,
          7605,
          7544,
          7491,
          7400,
          6892,
          6861,
          6811,
          6693,
          6511,
          6382,
          6309,
          5786,
          5485,
          5144,
          5138,
          5097,
          5021,
          4657,
          4601,
          4566,
          4466,
          4454,
          4454,
          4415,
          4300,
          4029,
          3935,
          3930,
          3803,
          3768,
          3716,
          3705,
          3604,
          3576,
          3447,
          3281,
          3261,
          3047,
          3020,
          2984,
          2909,
          2901,
          2761,
          2759,
          2630,
          2523,
          2501,
          2401,
          2330,
          2158,
          2144,
          2137,
          2121,
          2058,
          2010,
          1989,
          1898,
          1823,
          1735,
          1455,
          1387,
          1349,
          1332,
          1271,
          1252,
          1224,
          1218,
          1112,
          1106,
          1011,
          980,
          919,
          912,
          694,
          681,
          607,
          507,
          505,
          425,
          290
         ]
        },
        {
         "marker": {
          "color": "green"
         },
         "name": "returns",
         "type": "bar",
         "x": [
          "Meadows East",
          "Meadow Place",
          "Bristo Square",
          "Portobello - Kings Road",
          "St Andrew Square",
          "Victoria Quay",
          "Pollock Halls",
          "Dundee Terrace",
          "Castle Street",
          "Canonmills",
          "Fountainbridge",
          "Waverley Bridge",
          "Charlotte Square",
          "Leith Walk",
          "Bruntsfield Links",
          "Duke Street",
          "Brunswick Place",
          "Cramond Foreshore",
          "Tollcross",
          "Lauriston Place",
          "George Square",
          "Stockbridge",
          "Causewayside",
          "Lothian Road",
          "City Chambers",
          "South Trinity Road",
          "West Crosscauseway",
          "Morningside Road",
          "Dynamic Earth",
          "Abbeyhill",
          "Warrender Park Road",
          "Castle Terrace",
          "Royal Commonwealth Pool",
          "Hillside Crescent",
          "Marchmont Crescent",
          "Kings Building 2",
          "Dalry Road Lidl",
          "Boroughmuir",
          "Holyrood Road",
          "EICC",
          "Dundas Street",
          "East London Street",
          "Inverleith Row",
          "Comely Bank Road",
          "McDonald Road",
          "Surgeons Hall",
          "Kings Building 3",
          "Colinton Road",
          "Crichton Street",
          "St Andrews House",
          "Haymarket Station",
          "Grassmarket",
          "Drumsheugh Place",
          "Gladstone Terrace",
          "Hunter Square",
          "Simon Square",
          "Scotland Street",
          "Chambers Street",
          "Haymarket Terrace",
          "Wester Coates Terrace",
          "Waitrose Comely Bank",
          "Meggetland",
          "Waverley Court",
          "Thirlestane Road",
          "Picardy Place",
          "Kings Buildings 1",
          "Western General Hospital",
          "Waverley Station",
          "Edinburgh Royal Infirmary",
          "Pleasance Courtyard",
          "Queen Margaret University",
          "Kings Buildings - Murchison House",
          "Gamekeeper's Road",
          "Dean Street",
          "Orchard Brae House",
          "Milton Road - Edinburgh College",
          "Leith Walk North",
          "Belford Road",
          "Murrayfield Tram",
          "Heriot Watt - Edinburgh Business School",
          "Edinburgh Zoo",
          "Musselburgh Lidl",
          "Edinburgh Park Station",
          "Ellersly Road",
          "Heriot Watt - Student Accommodation",
          "Royal Edinburgh Hospital",
          "Sighthill - Edinburgh College",
          "Musselburgh Brunton Hall"
         ],
         "y": [
          14341,
          9255,
          7090,
          15734,
          7465,
          13507,
          6263,
          8272,
          6722,
          10254,
          6817,
          7768,
          4407,
          10033,
          4305,
          10618,
          7497,
          7819,
          6154,
          3490,
          5517,
          7119,
          4769,
          3772,
          2458,
          5882,
          3471,
          5290,
          5645,
          5152,
          3532,
          3624,
          3811,
          4903,
          2969,
          4445,
          4467,
          4120,
          4118,
          3035,
          4639,
          3796,
          4788,
          4632,
          3736,
          2131,
          2877,
          2181,
          2549,
          1787,
          2633,
          2751,
          2410,
          2407,
          2332,
          2348,
          2482,
          1327,
          2098,
          2295,
          2572,
          2755,
          2075,
          1366,
          1468,
          1849,
          2006,
          1216,
          1659,
          1358,
          1341,
          1283,
          1286,
          1394,
          1263,
          1432,
          1508,
          959,
          1087,
          940,
          930,
          821,
          785,
          606,
          415,
          418,
          576,
          369
         ]
        }
       ],
       "layout": {
        "bargap": 0.15,
        "bargroupgap": 0.1,
        "barmode": "group",
        "legend": {
         "x": 1,
         "y": 0.5
        },
        "template": {
         "data": {
          "bar": [
           {
            "error_x": {
             "color": "#2a3f5f"
            },
            "error_y": {
             "color": "#2a3f5f"
            },
            "marker": {
             "line": {
              "color": "#E5ECF6",
              "width": 0.5
             },
             "pattern": {
              "fillmode": "overlay",
              "size": 10,
              "solidity": 0.2
             }
            },
            "type": "bar"
           }
          ],
          "barpolar": [
           {
            "marker": {
             "line": {
              "color": "#E5ECF6",
              "width": 0.5
             },
             "pattern": {
              "fillmode": "overlay",
              "size": 10,
              "solidity": 0.2
             }
            },
            "type": "barpolar"
           }
          ],
          "carpet": [
           {
            "aaxis": {
             "endlinecolor": "#2a3f5f",
             "gridcolor": "white",
             "linecolor": "white",
             "minorgridcolor": "white",
             "startlinecolor": "#2a3f5f"
            },
            "baxis": {
             "endlinecolor": "#2a3f5f",
             "gridcolor": "white",
             "linecolor": "white",
             "minorgridcolor": "white",
             "startlinecolor": "#2a3f5f"
            },
            "type": "carpet"
           }
          ],
          "choropleth": [
           {
            "colorbar": {
             "outlinewidth": 0,
             "ticks": ""
            },
            "type": "choropleth"
           }
          ],
          "contour": [
           {
            "colorbar": {
             "outlinewidth": 0,
             "ticks": ""
            },
            "colorscale": [
             [
              0,
              "#0d0887"
             ],
             [
              0.1111111111111111,
              "#46039f"
             ],
             [
              0.2222222222222222,
              "#7201a8"
             ],
             [
              0.3333333333333333,
              "#9c179e"
             ],
             [
              0.4444444444444444,
              "#bd3786"
             ],
             [
              0.5555555555555556,
              "#d8576b"
             ],
             [
              0.6666666666666666,
              "#ed7953"
             ],
             [
              0.7777777777777778,
              "#fb9f3a"
             ],
             [
              0.8888888888888888,
              "#fdca26"
             ],
             [
              1,
              "#f0f921"
             ]
            ],
            "type": "contour"
           }
          ],
          "contourcarpet": [
           {
            "colorbar": {
             "outlinewidth": 0,
             "ticks": ""
            },
            "type": "contourcarpet"
           }
          ],
          "heatmap": [
           {
            "colorbar": {
             "outlinewidth": 0,
             "ticks": ""
            },
            "colorscale": [
             [
              0,
              "#0d0887"
             ],
             [
              0.1111111111111111,
              "#46039f"
             ],
             [
              0.2222222222222222,
              "#7201a8"
             ],
             [
              0.3333333333333333,
              "#9c179e"
             ],
             [
              0.4444444444444444,
              "#bd3786"
             ],
             [
              0.5555555555555556,
              "#d8576b"
             ],
             [
              0.6666666666666666,
              "#ed7953"
             ],
             [
              0.7777777777777778,
              "#fb9f3a"
             ],
             [
              0.8888888888888888,
              "#fdca26"
             ],
             [
              1,
              "#f0f921"
             ]
            ],
            "type": "heatmap"
           }
          ],
          "heatmapgl": [
           {
            "colorbar": {
             "outlinewidth": 0,
             "ticks": ""
            },
            "colorscale": [
             [
              0,
              "#0d0887"
             ],
             [
              0.1111111111111111,
              "#46039f"
             ],
             [
              0.2222222222222222,
              "#7201a8"
             ],
             [
              0.3333333333333333,
              "#9c179e"
             ],
             [
              0.4444444444444444,
              "#bd3786"
             ],
             [
              0.5555555555555556,
              "#d8576b"
             ],
             [
              0.6666666666666666,
              "#ed7953"
             ],
             [
              0.7777777777777778,
              "#fb9f3a"
             ],
             [
              0.8888888888888888,
              "#fdca26"
             ],
             [
              1,
              "#f0f921"
             ]
            ],
            "type": "heatmapgl"
           }
          ],
          "histogram": [
           {
            "marker": {
             "pattern": {
              "fillmode": "overlay",
              "size": 10,
              "solidity": 0.2
             }
            },
            "type": "histogram"
           }
          ],
          "histogram2d": [
           {
            "colorbar": {
             "outlinewidth": 0,
             "ticks": ""
            },
            "colorscale": [
             [
              0,
              "#0d0887"
             ],
             [
              0.1111111111111111,
              "#46039f"
             ],
             [
              0.2222222222222222,
              "#7201a8"
             ],
             [
              0.3333333333333333,
              "#9c179e"
             ],
             [
              0.4444444444444444,
              "#bd3786"
             ],
             [
              0.5555555555555556,
              "#d8576b"
             ],
             [
              0.6666666666666666,
              "#ed7953"
             ],
             [
              0.7777777777777778,
              "#fb9f3a"
             ],
             [
              0.8888888888888888,
              "#fdca26"
             ],
             [
              1,
              "#f0f921"
             ]
            ],
            "type": "histogram2d"
           }
          ],
          "histogram2dcontour": [
           {
            "colorbar": {
             "outlinewidth": 0,
             "ticks": ""
            },
            "colorscale": [
             [
              0,
              "#0d0887"
             ],
             [
              0.1111111111111111,
              "#46039f"
             ],
             [
              0.2222222222222222,
              "#7201a8"
             ],
             [
              0.3333333333333333,
              "#9c179e"
             ],
             [
              0.4444444444444444,
              "#bd3786"
             ],
             [
              0.5555555555555556,
              "#d8576b"
             ],
             [
              0.6666666666666666,
              "#ed7953"
             ],
             [
              0.7777777777777778,
              "#fb9f3a"
             ],
             [
              0.8888888888888888,
              "#fdca26"
             ],
             [
              1,
              "#f0f921"
             ]
            ],
            "type": "histogram2dcontour"
           }
          ],
          "mesh3d": [
           {
            "colorbar": {
             "outlinewidth": 0,
             "ticks": ""
            },
            "type": "mesh3d"
           }
          ],
          "parcoords": [
           {
            "line": {
             "colorbar": {
              "outlinewidth": 0,
              "ticks": ""
             }
            },
            "type": "parcoords"
           }
          ],
          "pie": [
           {
            "automargin": true,
            "type": "pie"
           }
          ],
          "scatter": [
           {
            "marker": {
             "colorbar": {
              "outlinewidth": 0,
              "ticks": ""
             }
            },
            "type": "scatter"
           }
          ],
          "scatter3d": [
           {
            "line": {
             "colorbar": {
              "outlinewidth": 0,
              "ticks": ""
             }
            },
            "marker": {
             "colorbar": {
              "outlinewidth": 0,
              "ticks": ""
             }
            },
            "type": "scatter3d"
           }
          ],
          "scattercarpet": [
           {
            "marker": {
             "colorbar": {
              "outlinewidth": 0,
              "ticks": ""
             }
            },
            "type": "scattercarpet"
           }
          ],
          "scattergeo": [
           {
            "marker": {
             "colorbar": {
              "outlinewidth": 0,
              "ticks": ""
             }
            },
            "type": "scattergeo"
           }
          ],
          "scattergl": [
           {
            "marker": {
             "colorbar": {
              "outlinewidth": 0,
              "ticks": ""
             }
            },
            "type": "scattergl"
           }
          ],
          "scattermapbox": [
           {
            "marker": {
             "colorbar": {
              "outlinewidth": 0,
              "ticks": ""
             }
            },
            "type": "scattermapbox"
           }
          ],
          "scatterpolar": [
           {
            "marker": {
             "colorbar": {
              "outlinewidth": 0,
              "ticks": ""
             }
            },
            "type": "scatterpolar"
           }
          ],
          "scatterpolargl": [
           {
            "marker": {
             "colorbar": {
              "outlinewidth": 0,
              "ticks": ""
             }
            },
            "type": "scatterpolargl"
           }
          ],
          "scatterternary": [
           {
            "marker": {
             "colorbar": {
              "outlinewidth": 0,
              "ticks": ""
             }
            },
            "type": "scatterternary"
           }
          ],
          "surface": [
           {
            "colorbar": {
             "outlinewidth": 0,
             "ticks": ""
            },
            "colorscale": [
             [
              0,
              "#0d0887"
             ],
             [
              0.1111111111111111,
              "#46039f"
             ],
             [
              0.2222222222222222,
              "#7201a8"
             ],
             [
              0.3333333333333333,
              "#9c179e"
             ],
             [
              0.4444444444444444,
              "#bd3786"
             ],
             [
              0.5555555555555556,
              "#d8576b"
             ],
             [
              0.6666666666666666,
              "#ed7953"
             ],
             [
              0.7777777777777778,
              "#fb9f3a"
             ],
             [
              0.8888888888888888,
              "#fdca26"
             ],
             [
              1,
              "#f0f921"
             ]
            ],
            "type": "surface"
           }
          ],
          "table": [
           {
            "cells": {
             "fill": {
              "color": "#EBF0F8"
             },
             "line": {
              "color": "white"
             }
            },
            "header": {
             "fill": {
              "color": "#C8D4E3"
             },
             "line": {
              "color": "white"
             }
            },
            "type": "table"
           }
          ]
         },
         "layout": {
          "annotationdefaults": {
           "arrowcolor": "#2a3f5f",
           "arrowhead": 0,
           "arrowwidth": 1
          },
          "autotypenumbers": "strict",
          "coloraxis": {
           "colorbar": {
            "outlinewidth": 0,
            "ticks": ""
           }
          },
          "colorscale": {
           "diverging": [
            [
             0,
             "#8e0152"
            ],
            [
             0.1,
             "#c51b7d"
            ],
            [
             0.2,
             "#de77ae"
            ],
            [
             0.3,
             "#f1b6da"
            ],
            [
             0.4,
             "#fde0ef"
            ],
            [
             0.5,
             "#f7f7f7"
            ],
            [
             0.6,
             "#e6f5d0"
            ],
            [
             0.7,
             "#b8e186"
            ],
            [
             0.8,
             "#7fbc41"
            ],
            [
             0.9,
             "#4d9221"
            ],
            [
             1,
             "#276419"
            ]
           ],
           "sequential": [
            [
             0,
             "#0d0887"
            ],
            [
             0.1111111111111111,
             "#46039f"
            ],
            [
             0.2222222222222222,
             "#7201a8"
            ],
            [
             0.3333333333333333,
             "#9c179e"
            ],
            [
             0.4444444444444444,
             "#bd3786"
            ],
            [
             0.5555555555555556,
             "#d8576b"
            ],
            [
             0.6666666666666666,
             "#ed7953"
            ],
            [
             0.7777777777777778,
             "#fb9f3a"
            ],
            [
             0.8888888888888888,
             "#fdca26"
            ],
            [
             1,
             "#f0f921"
            ]
           ],
           "sequentialminus": [
            [
             0,
             "#0d0887"
            ],
            [
             0.1111111111111111,
             "#46039f"
            ],
            [
             0.2222222222222222,
             "#7201a8"
            ],
            [
             0.3333333333333333,
             "#9c179e"
            ],
            [
             0.4444444444444444,
             "#bd3786"
            ],
            [
             0.5555555555555556,
             "#d8576b"
            ],
            [
             0.6666666666666666,
             "#ed7953"
            ],
            [
             0.7777777777777778,
             "#fb9f3a"
            ],
            [
             0.8888888888888888,
             "#fdca26"
            ],
            [
             1,
             "#f0f921"
            ]
           ]
          },
          "colorway": [
           "#636efa",
           "#EF553B",
           "#00cc96",
           "#ab63fa",
           "#FFA15A",
           "#19d3f3",
           "#FF6692",
           "#B6E880",
           "#FF97FF",
           "#FECB52"
          ],
          "font": {
           "color": "#2a3f5f"
          },
          "geo": {
           "bgcolor": "white",
           "lakecolor": "white",
           "landcolor": "#E5ECF6",
           "showlakes": true,
           "showland": true,
           "subunitcolor": "white"
          },
          "hoverlabel": {
           "align": "left"
          },
          "hovermode": "closest",
          "mapbox": {
           "style": "light"
          },
          "paper_bgcolor": "white",
          "plot_bgcolor": "#E5ECF6",
          "polar": {
           "angularaxis": {
            "gridcolor": "white",
            "linecolor": "white",
            "ticks": ""
           },
           "bgcolor": "#E5ECF6",
           "radialaxis": {
            "gridcolor": "white",
            "linecolor": "white",
            "ticks": ""
           }
          },
          "scene": {
           "xaxis": {
            "backgroundcolor": "#E5ECF6",
            "gridcolor": "white",
            "gridwidth": 2,
            "linecolor": "white",
            "showbackground": true,
            "ticks": "",
            "zerolinecolor": "white"
           },
           "yaxis": {
            "backgroundcolor": "#E5ECF6",
            "gridcolor": "white",
            "gridwidth": 2,
            "linecolor": "white",
            "showbackground": true,
            "ticks": "",
            "zerolinecolor": "white"
           },
           "zaxis": {
            "backgroundcolor": "#E5ECF6",
            "gridcolor": "white",
            "gridwidth": 2,
            "linecolor": "white",
            "showbackground": true,
            "ticks": "",
            "zerolinecolor": "white"
           }
          },
          "shapedefaults": {
           "line": {
            "color": "#2a3f5f"
           }
          },
          "ternary": {
           "aaxis": {
            "gridcolor": "white",
            "linecolor": "white",
            "ticks": ""
           },
           "baxis": {
            "gridcolor": "white",
            "linecolor": "white",
            "ticks": ""
           },
           "bgcolor": "#E5ECF6",
           "caxis": {
            "gridcolor": "white",
            "linecolor": "white",
            "ticks": ""
           }
          },
          "title": {
           "x": 0.05
          },
          "xaxis": {
           "automargin": true,
           "gridcolor": "white",
           "linecolor": "white",
           "ticks": "",
           "title": {
            "standoff": 15
           },
           "zerolinecolor": "white",
           "zerolinewidth": 2
          },
          "yaxis": {
           "automargin": true,
           "gridcolor": "white",
           "linecolor": "white",
           "ticks": "",
           "title": {
            "standoff": 15
           },
           "zerolinecolor": "white",
           "zerolinewidth": 2
          }
         }
        },
        "title": {
         "text": "Rentals and returns per station"
        },
        "xaxis": {
         "tickfont": {
          "size": 12
         }
        },
        "yaxis": {
         "tickfont": {
          "size": 14
         },
         "title": {
          "font": {
           "size": 16
          },
          "text": "Total"
         }
        }
       }
      },
      "text/html": [
       "<div>                            <div id=\"2d4a3cbe-4e91-4d35-b4cf-2c4c03f204a1\" class=\"plotly-graph-div\" style=\"height:525px; width:100%;\"></div>            <script type=\"text/javascript\">                require([\"plotly\"], function(Plotly) {                    window.PLOTLYENV=window.PLOTLYENV || {};                                    if (document.getElementById(\"2d4a3cbe-4e91-4d35-b4cf-2c4c03f204a1\")) {                    Plotly.newPlot(                        \"2d4a3cbe-4e91-4d35-b4cf-2c4c03f204a1\",                        [{\"marker\":{\"color\":\"blue\"},\"name\":\"rentals\",\"x\":[\"Meadows East\",\"Meadow Place\",\"Bristo Square\",\"Portobello - Kings Road\",\"St Andrew Square\",\"Victoria Quay\",\"Pollock Halls\",\"Dundee Terrace\",\"Castle Street\",\"Canonmills\",\"Fountainbridge\",\"Waverley Bridge\",\"Charlotte Square\",\"Leith Walk\",\"Bruntsfield Links\",\"Duke Street\",\"Brunswick Place\",\"Cramond Foreshore\",\"Tollcross\",\"Lauriston Place\",\"George Square\",\"Stockbridge\",\"Causewayside\",\"Lothian Road\",\"City Chambers\",\"South Trinity Road\",\"West Crosscauseway\",\"Morningside Road\",\"Dynamic Earth\",\"Abbeyhill\",\"Warrender Park Road\",\"Castle Terrace\",\"Royal Commonwealth Pool\",\"Hillside Crescent\",\"Marchmont Crescent\",\"Kings Building 2\",\"Dalry Road Lidl\",\"Boroughmuir\",\"Holyrood Road\",\"EICC\",\"Dundas Street\",\"East London Street\",\"Inverleith Row\",\"Comely Bank Road\",\"McDonald Road\",\"Surgeons Hall\",\"Kings Building 3\",\"Colinton Road\",\"Crichton Street\",\"St Andrews House\",\"Haymarket Station\",\"Grassmarket\",\"Drumsheugh Place\",\"Gladstone Terrace\",\"Hunter Square\",\"Simon Square\",\"Scotland Street\",\"Chambers Street\",\"Haymarket Terrace\",\"Wester Coates Terrace\",\"Waitrose Comely Bank\",\"Meggetland\",\"Waverley Court\",\"Thirlestane Road\",\"Picardy Place\",\"Kings Buildings 1\",\"Western General Hospital\",\"Waverley Station\",\"Edinburgh Royal Infirmary\",\"Pleasance Courtyard\",\"Queen Margaret University\",\"Kings Buildings - Murchison House\",\"Gamekeeper's Road\",\"Dean Street\",\"Orchard Brae House\",\"Milton Road - Edinburgh College\",\"Leith Walk North\",\"Belford Road\",\"Murrayfield Tram\",\"Heriot Watt - Edinburgh Business School\",\"Edinburgh Zoo\",\"Musselburgh Lidl\",\"Edinburgh Park Station\",\"Ellersly Road\",\"Heriot Watt - Student Accommodation\",\"Royal Edinburgh Hospital\",\"Sighthill - Edinburgh College\",\"Musselburgh Brunton Hall\"],\"y\":[16317,11656,11338,10981,10092,9162,9020,8066,7605,7544,7491,7400,6892,6861,6811,6693,6511,6382,6309,5786,5485,5144,5138,5097,5021,4657,4601,4566,4466,4454,4454,4415,4300,4029,3935,3930,3803,3768,3716,3705,3604,3576,3447,3281,3261,3047,3020,2984,2909,2901,2761,2759,2630,2523,2501,2401,2330,2158,2144,2137,2121,2058,2010,1989,1898,1823,1735,1455,1387,1349,1332,1271,1252,1224,1218,1112,1106,1011,980,919,912,694,681,607,507,505,425,290],\"type\":\"bar\"},{\"marker\":{\"color\":\"green\"},\"name\":\"returns\",\"x\":[\"Meadows East\",\"Meadow Place\",\"Bristo Square\",\"Portobello - Kings Road\",\"St Andrew Square\",\"Victoria Quay\",\"Pollock Halls\",\"Dundee Terrace\",\"Castle Street\",\"Canonmills\",\"Fountainbridge\",\"Waverley Bridge\",\"Charlotte Square\",\"Leith Walk\",\"Bruntsfield Links\",\"Duke Street\",\"Brunswick Place\",\"Cramond Foreshore\",\"Tollcross\",\"Lauriston Place\",\"George Square\",\"Stockbridge\",\"Causewayside\",\"Lothian Road\",\"City Chambers\",\"South Trinity Road\",\"West Crosscauseway\",\"Morningside Road\",\"Dynamic Earth\",\"Abbeyhill\",\"Warrender Park Road\",\"Castle Terrace\",\"Royal Commonwealth Pool\",\"Hillside Crescent\",\"Marchmont Crescent\",\"Kings Building 2\",\"Dalry Road Lidl\",\"Boroughmuir\",\"Holyrood Road\",\"EICC\",\"Dundas Street\",\"East London Street\",\"Inverleith Row\",\"Comely Bank Road\",\"McDonald Road\",\"Surgeons Hall\",\"Kings Building 3\",\"Colinton Road\",\"Crichton Street\",\"St Andrews House\",\"Haymarket Station\",\"Grassmarket\",\"Drumsheugh Place\",\"Gladstone Terrace\",\"Hunter Square\",\"Simon Square\",\"Scotland Street\",\"Chambers Street\",\"Haymarket Terrace\",\"Wester Coates Terrace\",\"Waitrose Comely Bank\",\"Meggetland\",\"Waverley Court\",\"Thirlestane Road\",\"Picardy Place\",\"Kings Buildings 1\",\"Western General Hospital\",\"Waverley Station\",\"Edinburgh Royal Infirmary\",\"Pleasance Courtyard\",\"Queen Margaret University\",\"Kings Buildings - Murchison House\",\"Gamekeeper's Road\",\"Dean Street\",\"Orchard Brae House\",\"Milton Road - Edinburgh College\",\"Leith Walk North\",\"Belford Road\",\"Murrayfield Tram\",\"Heriot Watt - Edinburgh Business School\",\"Edinburgh Zoo\",\"Musselburgh Lidl\",\"Edinburgh Park Station\",\"Ellersly Road\",\"Heriot Watt - Student Accommodation\",\"Royal Edinburgh Hospital\",\"Sighthill - Edinburgh College\",\"Musselburgh Brunton Hall\"],\"y\":[14341,9255,7090,15734,7465,13507,6263,8272,6722,10254,6817,7768,4407,10033,4305,10618,7497,7819,6154,3490,5517,7119,4769,3772,2458,5882,3471,5290,5645,5152,3532,3624,3811,4903,2969,4445,4467,4120,4118,3035,4639,3796,4788,4632,3736,2131,2877,2181,2549,1787,2633,2751,2410,2407,2332,2348,2482,1327,2098,2295,2572,2755,2075,1366,1468,1849,2006,1216,1659,1358,1341,1283,1286,1394,1263,1432,1508,959,1087,940,930,821,785,606,415,418,576,369],\"type\":\"bar\"}],                        {\"template\":{\"data\":{\"bar\":[{\"error_x\":{\"color\":\"#2a3f5f\"},\"error_y\":{\"color\":\"#2a3f5f\"},\"marker\":{\"line\":{\"color\":\"#E5ECF6\",\"width\":0.5},\"pattern\":{\"fillmode\":\"overlay\",\"size\":10,\"solidity\":0.2}},\"type\":\"bar\"}],\"barpolar\":[{\"marker\":{\"line\":{\"color\":\"#E5ECF6\",\"width\":0.5},\"pattern\":{\"fillmode\":\"overlay\",\"size\":10,\"solidity\":0.2}},\"type\":\"barpolar\"}],\"carpet\":[{\"aaxis\":{\"endlinecolor\":\"#2a3f5f\",\"gridcolor\":\"white\",\"linecolor\":\"white\",\"minorgridcolor\":\"white\",\"startlinecolor\":\"#2a3f5f\"},\"baxis\":{\"endlinecolor\":\"#2a3f5f\",\"gridcolor\":\"white\",\"linecolor\":\"white\",\"minorgridcolor\":\"white\",\"startlinecolor\":\"#2a3f5f\"},\"type\":\"carpet\"}],\"choropleth\":[{\"colorbar\":{\"outlinewidth\":0,\"ticks\":\"\"},\"type\":\"choropleth\"}],\"contour\":[{\"colorbar\":{\"outlinewidth\":0,\"ticks\":\"\"},\"colorscale\":[[0.0,\"#0d0887\"],[0.1111111111111111,\"#46039f\"],[0.2222222222222222,\"#7201a8\"],[0.3333333333333333,\"#9c179e\"],[0.4444444444444444,\"#bd3786\"],[0.5555555555555556,\"#d8576b\"],[0.6666666666666666,\"#ed7953\"],[0.7777777777777778,\"#fb9f3a\"],[0.8888888888888888,\"#fdca26\"],[1.0,\"#f0f921\"]],\"type\":\"contour\"}],\"contourcarpet\":[{\"colorbar\":{\"outlinewidth\":0,\"ticks\":\"\"},\"type\":\"contourcarpet\"}],\"heatmap\":[{\"colorbar\":{\"outlinewidth\":0,\"ticks\":\"\"},\"colorscale\":[[0.0,\"#0d0887\"],[0.1111111111111111,\"#46039f\"],[0.2222222222222222,\"#7201a8\"],[0.3333333333333333,\"#9c179e\"],[0.4444444444444444,\"#bd3786\"],[0.5555555555555556,\"#d8576b\"],[0.6666666666666666,\"#ed7953\"],[0.7777777777777778,\"#fb9f3a\"],[0.8888888888888888,\"#fdca26\"],[1.0,\"#f0f921\"]],\"type\":\"heatmap\"}],\"heatmapgl\":[{\"colorbar\":{\"outlinewidth\":0,\"ticks\":\"\"},\"colorscale\":[[0.0,\"#0d0887\"],[0.1111111111111111,\"#46039f\"],[0.2222222222222222,\"#7201a8\"],[0.3333333333333333,\"#9c179e\"],[0.4444444444444444,\"#bd3786\"],[0.5555555555555556,\"#d8576b\"],[0.6666666666666666,\"#ed7953\"],[0.7777777777777778,\"#fb9f3a\"],[0.8888888888888888,\"#fdca26\"],[1.0,\"#f0f921\"]],\"type\":\"heatmapgl\"}],\"histogram\":[{\"marker\":{\"pattern\":{\"fillmode\":\"overlay\",\"size\":10,\"solidity\":0.2}},\"type\":\"histogram\"}],\"histogram2d\":[{\"colorbar\":{\"outlinewidth\":0,\"ticks\":\"\"},\"colorscale\":[[0.0,\"#0d0887\"],[0.1111111111111111,\"#46039f\"],[0.2222222222222222,\"#7201a8\"],[0.3333333333333333,\"#9c179e\"],[0.4444444444444444,\"#bd3786\"],[0.5555555555555556,\"#d8576b\"],[0.6666666666666666,\"#ed7953\"],[0.7777777777777778,\"#fb9f3a\"],[0.8888888888888888,\"#fdca26\"],[1.0,\"#f0f921\"]],\"type\":\"histogram2d\"}],\"histogram2dcontour\":[{\"colorbar\":{\"outlinewidth\":0,\"ticks\":\"\"},\"colorscale\":[[0.0,\"#0d0887\"],[0.1111111111111111,\"#46039f\"],[0.2222222222222222,\"#7201a8\"],[0.3333333333333333,\"#9c179e\"],[0.4444444444444444,\"#bd3786\"],[0.5555555555555556,\"#d8576b\"],[0.6666666666666666,\"#ed7953\"],[0.7777777777777778,\"#fb9f3a\"],[0.8888888888888888,\"#fdca26\"],[1.0,\"#f0f921\"]],\"type\":\"histogram2dcontour\"}],\"mesh3d\":[{\"colorbar\":{\"outlinewidth\":0,\"ticks\":\"\"},\"type\":\"mesh3d\"}],\"parcoords\":[{\"line\":{\"colorbar\":{\"outlinewidth\":0,\"ticks\":\"\"}},\"type\":\"parcoords\"}],\"pie\":[{\"automargin\":true,\"type\":\"pie\"}],\"scatter\":[{\"marker\":{\"colorbar\":{\"outlinewidth\":0,\"ticks\":\"\"}},\"type\":\"scatter\"}],\"scatter3d\":[{\"line\":{\"colorbar\":{\"outlinewidth\":0,\"ticks\":\"\"}},\"marker\":{\"colorbar\":{\"outlinewidth\":0,\"ticks\":\"\"}},\"type\":\"scatter3d\"}],\"scattercarpet\":[{\"marker\":{\"colorbar\":{\"outlinewidth\":0,\"ticks\":\"\"}},\"type\":\"scattercarpet\"}],\"scattergeo\":[{\"marker\":{\"colorbar\":{\"outlinewidth\":0,\"ticks\":\"\"}},\"type\":\"scattergeo\"}],\"scattergl\":[{\"marker\":{\"colorbar\":{\"outlinewidth\":0,\"ticks\":\"\"}},\"type\":\"scattergl\"}],\"scattermapbox\":[{\"marker\":{\"colorbar\":{\"outlinewidth\":0,\"ticks\":\"\"}},\"type\":\"scattermapbox\"}],\"scatterpolar\":[{\"marker\":{\"colorbar\":{\"outlinewidth\":0,\"ticks\":\"\"}},\"type\":\"scatterpolar\"}],\"scatterpolargl\":[{\"marker\":{\"colorbar\":{\"outlinewidth\":0,\"ticks\":\"\"}},\"type\":\"scatterpolargl\"}],\"scatterternary\":[{\"marker\":{\"colorbar\":{\"outlinewidth\":0,\"ticks\":\"\"}},\"type\":\"scatterternary\"}],\"surface\":[{\"colorbar\":{\"outlinewidth\":0,\"ticks\":\"\"},\"colorscale\":[[0.0,\"#0d0887\"],[0.1111111111111111,\"#46039f\"],[0.2222222222222222,\"#7201a8\"],[0.3333333333333333,\"#9c179e\"],[0.4444444444444444,\"#bd3786\"],[0.5555555555555556,\"#d8576b\"],[0.6666666666666666,\"#ed7953\"],[0.7777777777777778,\"#fb9f3a\"],[0.8888888888888888,\"#fdca26\"],[1.0,\"#f0f921\"]],\"type\":\"surface\"}],\"table\":[{\"cells\":{\"fill\":{\"color\":\"#EBF0F8\"},\"line\":{\"color\":\"white\"}},\"header\":{\"fill\":{\"color\":\"#C8D4E3\"},\"line\":{\"color\":\"white\"}},\"type\":\"table\"}]},\"layout\":{\"annotationdefaults\":{\"arrowcolor\":\"#2a3f5f\",\"arrowhead\":0,\"arrowwidth\":1},\"autotypenumbers\":\"strict\",\"coloraxis\":{\"colorbar\":{\"outlinewidth\":0,\"ticks\":\"\"}},\"colorscale\":{\"diverging\":[[0,\"#8e0152\"],[0.1,\"#c51b7d\"],[0.2,\"#de77ae\"],[0.3,\"#f1b6da\"],[0.4,\"#fde0ef\"],[0.5,\"#f7f7f7\"],[0.6,\"#e6f5d0\"],[0.7,\"#b8e186\"],[0.8,\"#7fbc41\"],[0.9,\"#4d9221\"],[1,\"#276419\"]],\"sequential\":[[0.0,\"#0d0887\"],[0.1111111111111111,\"#46039f\"],[0.2222222222222222,\"#7201a8\"],[0.3333333333333333,\"#9c179e\"],[0.4444444444444444,\"#bd3786\"],[0.5555555555555556,\"#d8576b\"],[0.6666666666666666,\"#ed7953\"],[0.7777777777777778,\"#fb9f3a\"],[0.8888888888888888,\"#fdca26\"],[1.0,\"#f0f921\"]],\"sequentialminus\":[[0.0,\"#0d0887\"],[0.1111111111111111,\"#46039f\"],[0.2222222222222222,\"#7201a8\"],[0.3333333333333333,\"#9c179e\"],[0.4444444444444444,\"#bd3786\"],[0.5555555555555556,\"#d8576b\"],[0.6666666666666666,\"#ed7953\"],[0.7777777777777778,\"#fb9f3a\"],[0.8888888888888888,\"#fdca26\"],[1.0,\"#f0f921\"]]},\"colorway\":[\"#636efa\",\"#EF553B\",\"#00cc96\",\"#ab63fa\",\"#FFA15A\",\"#19d3f3\",\"#FF6692\",\"#B6E880\",\"#FF97FF\",\"#FECB52\"],\"font\":{\"color\":\"#2a3f5f\"},\"geo\":{\"bgcolor\":\"white\",\"lakecolor\":\"white\",\"landcolor\":\"#E5ECF6\",\"showlakes\":true,\"showland\":true,\"subunitcolor\":\"white\"},\"hoverlabel\":{\"align\":\"left\"},\"hovermode\":\"closest\",\"mapbox\":{\"style\":\"light\"},\"paper_bgcolor\":\"white\",\"plot_bgcolor\":\"#E5ECF6\",\"polar\":{\"angularaxis\":{\"gridcolor\":\"white\",\"linecolor\":\"white\",\"ticks\":\"\"},\"bgcolor\":\"#E5ECF6\",\"radialaxis\":{\"gridcolor\":\"white\",\"linecolor\":\"white\",\"ticks\":\"\"}},\"scene\":{\"xaxis\":{\"backgroundcolor\":\"#E5ECF6\",\"gridcolor\":\"white\",\"gridwidth\":2,\"linecolor\":\"white\",\"showbackground\":true,\"ticks\":\"\",\"zerolinecolor\":\"white\"},\"yaxis\":{\"backgroundcolor\":\"#E5ECF6\",\"gridcolor\":\"white\",\"gridwidth\":2,\"linecolor\":\"white\",\"showbackground\":true,\"ticks\":\"\",\"zerolinecolor\":\"white\"},\"zaxis\":{\"backgroundcolor\":\"#E5ECF6\",\"gridcolor\":\"white\",\"gridwidth\":2,\"linecolor\":\"white\",\"showbackground\":true,\"ticks\":\"\",\"zerolinecolor\":\"white\"}},\"shapedefaults\":{\"line\":{\"color\":\"#2a3f5f\"}},\"ternary\":{\"aaxis\":{\"gridcolor\":\"white\",\"linecolor\":\"white\",\"ticks\":\"\"},\"baxis\":{\"gridcolor\":\"white\",\"linecolor\":\"white\",\"ticks\":\"\"},\"bgcolor\":\"#E5ECF6\",\"caxis\":{\"gridcolor\":\"white\",\"linecolor\":\"white\",\"ticks\":\"\"}},\"title\":{\"x\":0.05},\"xaxis\":{\"automargin\":true,\"gridcolor\":\"white\",\"linecolor\":\"white\",\"ticks\":\"\",\"title\":{\"standoff\":15},\"zerolinecolor\":\"white\",\"zerolinewidth\":2},\"yaxis\":{\"automargin\":true,\"gridcolor\":\"white\",\"linecolor\":\"white\",\"ticks\":\"\",\"title\":{\"standoff\":15},\"zerolinecolor\":\"white\",\"zerolinewidth\":2}}},\"xaxis\":{\"tickfont\":{\"size\":12}},\"yaxis\":{\"title\":{\"text\":\"Total\",\"font\":{\"size\":16}},\"tickfont\":{\"size\":14}},\"legend\":{\"x\":1,\"y\":0.5},\"title\":{\"text\":\"Rentals and returns per station\"},\"barmode\":\"group\",\"bargap\":0.15,\"bargroupgap\":0.1},                        {\"responsive\": true}                    ).then(function(){\n",
       "                            \n",
       "var gd = document.getElementById('2d4a3cbe-4e91-4d35-b4cf-2c4c03f204a1');\n",
       "var x = new MutationObserver(function (mutations, observer) {{\n",
       "        var display = window.getComputedStyle(gd).display;\n",
       "        if (!display || display === 'none') {{\n",
       "            console.log([gd, 'removed!']);\n",
       "            Plotly.purge(gd);\n",
       "            observer.disconnect();\n",
       "        }}\n",
       "}});\n",
       "\n",
       "// Listen for the removal of the full notebook cells\n",
       "var notebookContainer = gd.closest('#notebook-container');\n",
       "if (notebookContainer) {{\n",
       "    x.observe(notebookContainer, {childList: true});\n",
       "}}\n",
       "\n",
       "// Listen for the clearing of the current output cell\n",
       "var outputEl = gd.closest('.output');\n",
       "if (outputEl) {{\n",
       "    x.observe(outputEl, {childList: true});\n",
       "}}\n",
       "\n",
       "                        })                };                });            </script>        </div>"
      ]
     },
     "metadata": {},
     "output_type": "display_data"
    }
   ],
   "source": [
    "fig = go.Figure()\n",
    "fig.add_trace(go.Bar(\n",
    "    x=df_mobility[\"station_name\"], \n",
    "    y = df_mobility[\"num_of_rentals\"], \n",
    "    marker_color=\"blue\", \n",
    "    name = \"rentals\"))\n",
    "                     \n",
    "fig.add_trace(go.Bar(\n",
    "    x=df_mobility[\"station_name\"], \n",
    "    y = df_mobility[\"num_of_returns\"], \n",
    "    marker_color=\"green\", \n",
    "    name = \"returns\"))                     \n",
    "            \n",
    "fig.update_layout(\n",
    "    title='Rentals and returns per station',\n",
    "    xaxis_tickfont_size=12,\n",
    "    yaxis=dict(\n",
    "        title='Total',\n",
    "        titlefont_size=16,\n",
    "        tickfont_size=14,\n",
    "    ),\n",
    "    legend=dict(\n",
    "        x=1,\n",
    "        y=0.5,\n",
    "    ),\n",
    "    barmode='group',\n",
    "    bargap=0.15, \n",
    "    bargroupgap=0.1 \n",
    ")\n",
    "fig.show()\n",
    "\n",
    "# Chart is interactive, can be zoomed in"
   ]
  },
  {
   "cell_type": "code",
   "execution_count": 374,
   "id": "fffc890c",
   "metadata": {},
   "outputs": [
    {
     "data": {
      "text/html": [
       "\n",
       "<div id=\"altair-viz-e35f5ca349e249a8a07cc91df72ddb9b\"></div>\n",
       "<script type=\"text/javascript\">\n",
       "  var VEGA_DEBUG = (typeof VEGA_DEBUG == \"undefined\") ? {} : VEGA_DEBUG;\n",
       "  (function(spec, embedOpt){\n",
       "    let outputDiv = document.currentScript.previousElementSibling;\n",
       "    if (outputDiv.id !== \"altair-viz-e35f5ca349e249a8a07cc91df72ddb9b\") {\n",
       "      outputDiv = document.getElementById(\"altair-viz-e35f5ca349e249a8a07cc91df72ddb9b\");\n",
       "    }\n",
       "    const paths = {\n",
       "      \"vega\": \"https://cdn.jsdelivr.net/npm//vega@5?noext\",\n",
       "      \"vega-lib\": \"https://cdn.jsdelivr.net/npm//vega-lib?noext\",\n",
       "      \"vega-lite\": \"https://cdn.jsdelivr.net/npm//vega-lite@4.17.0?noext\",\n",
       "      \"vega-embed\": \"https://cdn.jsdelivr.net/npm//vega-embed@6?noext\",\n",
       "    };\n",
       "\n",
       "    function maybeLoadScript(lib, version) {\n",
       "      var key = `${lib.replace(\"-\", \"\")}_version`;\n",
       "      return (VEGA_DEBUG[key] == version) ?\n",
       "        Promise.resolve(paths[lib]) :\n",
       "        new Promise(function(resolve, reject) {\n",
       "          var s = document.createElement('script');\n",
       "          document.getElementsByTagName(\"head\")[0].appendChild(s);\n",
       "          s.async = true;\n",
       "          s.onload = () => {\n",
       "            VEGA_DEBUG[key] = version;\n",
       "            return resolve(paths[lib]);\n",
       "          };\n",
       "          s.onerror = () => reject(`Error loading script: ${paths[lib]}`);\n",
       "          s.src = paths[lib];\n",
       "        });\n",
       "    }\n",
       "\n",
       "    function showError(err) {\n",
       "      outputDiv.innerHTML = `<div class=\"error\" style=\"color:red;\">${err}</div>`;\n",
       "      throw err;\n",
       "    }\n",
       "\n",
       "    function displayChart(vegaEmbed) {\n",
       "      vegaEmbed(outputDiv, spec, embedOpt)\n",
       "        .catch(err => showError(`Javascript Error: ${err.message}<br>This usually means there's a typo in your chart specification. See the javascript console for the full traceback.`));\n",
       "    }\n",
       "\n",
       "    if(typeof define === \"function\" && define.amd) {\n",
       "      requirejs.config({paths});\n",
       "      require([\"vega-embed\"], displayChart, err => showError(`Error loading script: ${err.message}`));\n",
       "    } else {\n",
       "      maybeLoadScript(\"vega\", \"5\")\n",
       "        .then(() => maybeLoadScript(\"vega-lite\", \"4.17.0\"))\n",
       "        .then(() => maybeLoadScript(\"vega-embed\", \"6\"))\n",
       "        .catch(showError)\n",
       "        .then(() => displayChart(vegaEmbed));\n",
       "    }\n",
       "  })({\"config\": {\"view\": {\"continuousWidth\": 400, \"continuousHeight\": 300}}, \"data\": {\"name\": \"data-4886d0a9a99222e66cee8b1d24630d58\"}, \"mark\": {\"type\": \"bar\", \"opacity\": 0.6}, \"encoding\": {\"color\": {\"field\": \"station_name\", \"type\": \"nominal\"}, \"x\": {\"axis\": {\"title\": \"Bike rentals during 2018 - 2021\"}, \"field\": \"num_of_rentals\", \"type\": \"quantitative\"}, \"y\": {\"axis\": {\"title\": \"Station name\"}, \"field\": \"station_name\", \"sort\": \"-x\", \"type\": \"nominal\"}}, \"$schema\": \"https://vega.github.io/schema/vega-lite/v4.17.0.json\", \"datasets\": {\"data-4886d0a9a99222e66cee8b1d24630d58\": [{\"station_name\": \"Meadows East\", \"num_of_rentals\": 16317, \"num_of_returns\": 14341, \"num_of_rentals_per_day\": 13.37, \"num_of_returns_per_day\": 11.75, \"bike_mobility_per_day\": 1.62}, {\"station_name\": \"Meadow Place\", \"num_of_rentals\": 11656, \"num_of_returns\": 9255, \"num_of_rentals_per_day\": 9.55, \"num_of_returns_per_day\": 7.59, \"bike_mobility_per_day\": 1.96}, {\"station_name\": \"Bristo Square\", \"num_of_rentals\": 11338, \"num_of_returns\": 7090, \"num_of_rentals_per_day\": 9.29, \"num_of_returns_per_day\": 5.81, \"bike_mobility_per_day\": 3.48}, {\"station_name\": \"Portobello - Kings Road\", \"num_of_rentals\": 10981, \"num_of_returns\": 15734, \"num_of_rentals_per_day\": 9.0, \"num_of_returns_per_day\": 12.9, \"bike_mobility_per_day\": -3.9}, {\"station_name\": \"St Andrew Square\", \"num_of_rentals\": 10092, \"num_of_returns\": 7465, \"num_of_rentals_per_day\": 8.27, \"num_of_returns_per_day\": 6.12, \"bike_mobility_per_day\": 2.15}, {\"station_name\": \"Victoria Quay\", \"num_of_rentals\": 9162, \"num_of_returns\": 13507, \"num_of_rentals_per_day\": 7.51, \"num_of_returns_per_day\": 11.07, \"bike_mobility_per_day\": -3.56}, {\"station_name\": \"Pollock Halls\", \"num_of_rentals\": 9020, \"num_of_returns\": 6263, \"num_of_rentals_per_day\": 7.39, \"num_of_returns_per_day\": 5.13, \"bike_mobility_per_day\": 2.26}, {\"station_name\": \"Dundee Terrace\", \"num_of_rentals\": 8066, \"num_of_returns\": 8272, \"num_of_rentals_per_day\": 6.61, \"num_of_returns_per_day\": 6.78, \"bike_mobility_per_day\": -0.17}, {\"station_name\": \"Castle Street\", \"num_of_rentals\": 7605, \"num_of_returns\": 6722, \"num_of_rentals_per_day\": 6.23, \"num_of_returns_per_day\": 5.51, \"bike_mobility_per_day\": 0.72}, {\"station_name\": \"Canonmills\", \"num_of_rentals\": 7544, \"num_of_returns\": 10254, \"num_of_rentals_per_day\": 6.18, \"num_of_returns_per_day\": 8.4, \"bike_mobility_per_day\": -2.22}, {\"station_name\": \"Fountainbridge\", \"num_of_rentals\": 7491, \"num_of_returns\": 6817, \"num_of_rentals_per_day\": 6.14, \"num_of_returns_per_day\": 5.59, \"bike_mobility_per_day\": 0.55}, {\"station_name\": \"Waverley Bridge\", \"num_of_rentals\": 7400, \"num_of_returns\": 7768, \"num_of_rentals_per_day\": 6.07, \"num_of_returns_per_day\": 6.37, \"bike_mobility_per_day\": -0.3}, {\"station_name\": \"Charlotte Square\", \"num_of_rentals\": 6892, \"num_of_returns\": 4407, \"num_of_rentals_per_day\": 5.65, \"num_of_returns_per_day\": 3.61, \"bike_mobility_per_day\": 2.04}, {\"station_name\": \"Leith Walk\", \"num_of_rentals\": 6861, \"num_of_returns\": 10033, \"num_of_rentals_per_day\": 5.62, \"num_of_returns_per_day\": 8.22, \"bike_mobility_per_day\": -2.6}, {\"station_name\": \"Bruntsfield Links\", \"num_of_rentals\": 6811, \"num_of_returns\": 4305, \"num_of_rentals_per_day\": 5.58, \"num_of_returns_per_day\": 3.53, \"bike_mobility_per_day\": 2.05}, {\"station_name\": \"Duke Street\", \"num_of_rentals\": 6693, \"num_of_returns\": 10618, \"num_of_rentals_per_day\": 5.49, \"num_of_returns_per_day\": 8.7, \"bike_mobility_per_day\": -3.21}, {\"station_name\": \"Brunswick Place\", \"num_of_rentals\": 6511, \"num_of_returns\": 7497, \"num_of_rentals_per_day\": 5.34, \"num_of_returns_per_day\": 6.15, \"bike_mobility_per_day\": -0.81}, {\"station_name\": \"Cramond Foreshore\", \"num_of_rentals\": 6382, \"num_of_returns\": 7819, \"num_of_rentals_per_day\": 5.23, \"num_of_returns_per_day\": 6.41, \"bike_mobility_per_day\": -1.18}, {\"station_name\": \"Tollcross\", \"num_of_rentals\": 6309, \"num_of_returns\": 6154, \"num_of_rentals_per_day\": 5.17, \"num_of_returns_per_day\": 5.04, \"bike_mobility_per_day\": 0.13}, {\"station_name\": \"Lauriston Place\", \"num_of_rentals\": 5786, \"num_of_returns\": 3490, \"num_of_rentals_per_day\": 4.74, \"num_of_returns_per_day\": 2.86, \"bike_mobility_per_day\": 1.88}, {\"station_name\": \"George Square\", \"num_of_rentals\": 5485, \"num_of_returns\": 5517, \"num_of_rentals_per_day\": 4.5, \"num_of_returns_per_day\": 4.52, \"bike_mobility_per_day\": -0.02}, {\"station_name\": \"Stockbridge\", \"num_of_rentals\": 5144, \"num_of_returns\": 7119, \"num_of_rentals_per_day\": 4.22, \"num_of_returns_per_day\": 5.84, \"bike_mobility_per_day\": -1.62}, {\"station_name\": \"Causewayside\", \"num_of_rentals\": 5138, \"num_of_returns\": 4769, \"num_of_rentals_per_day\": 4.21, \"num_of_returns_per_day\": 3.91, \"bike_mobility_per_day\": 0.3}, {\"station_name\": \"Lothian Road\", \"num_of_rentals\": 5097, \"num_of_returns\": 3772, \"num_of_rentals_per_day\": 4.18, \"num_of_returns_per_day\": 3.09, \"bike_mobility_per_day\": 1.09}, {\"station_name\": \"City Chambers\", \"num_of_rentals\": 5021, \"num_of_returns\": 2458, \"num_of_rentals_per_day\": 4.12, \"num_of_returns_per_day\": 2.01, \"bike_mobility_per_day\": 2.11}, {\"station_name\": \"South Trinity Road\", \"num_of_rentals\": 4657, \"num_of_returns\": 5882, \"num_of_rentals_per_day\": 3.82, \"num_of_returns_per_day\": 4.82, \"bike_mobility_per_day\": -1.0}, {\"station_name\": \"West Crosscauseway\", \"num_of_rentals\": 4601, \"num_of_returns\": 3471, \"num_of_rentals_per_day\": 3.77, \"num_of_returns_per_day\": 2.85, \"bike_mobility_per_day\": 0.92}, {\"station_name\": \"Morningside Road\", \"num_of_rentals\": 4566, \"num_of_returns\": 5290, \"num_of_rentals_per_day\": 3.74, \"num_of_returns_per_day\": 4.34, \"bike_mobility_per_day\": -0.6}, {\"station_name\": \"Dynamic Earth\", \"num_of_rentals\": 4466, \"num_of_returns\": 5645, \"num_of_rentals_per_day\": 3.66, \"num_of_returns_per_day\": 4.63, \"bike_mobility_per_day\": -0.97}, {\"station_name\": \"Abbeyhill\", \"num_of_rentals\": 4454, \"num_of_returns\": 5152, \"num_of_rentals_per_day\": 3.65, \"num_of_returns_per_day\": 4.22, \"bike_mobility_per_day\": -0.57}, {\"station_name\": \"Warrender Park Road\", \"num_of_rentals\": 4454, \"num_of_returns\": 3532, \"num_of_rentals_per_day\": 3.65, \"num_of_returns_per_day\": 2.9, \"bike_mobility_per_day\": 0.75}, {\"station_name\": \"Castle Terrace\", \"num_of_rentals\": 4415, \"num_of_returns\": 3624, \"num_of_rentals_per_day\": 3.62, \"num_of_returns_per_day\": 2.97, \"bike_mobility_per_day\": 0.65}, {\"station_name\": \"Royal Commonwealth Pool\", \"num_of_rentals\": 4300, \"num_of_returns\": 3811, \"num_of_rentals_per_day\": 3.52, \"num_of_returns_per_day\": 3.12, \"bike_mobility_per_day\": 0.4}, {\"station_name\": \"Hillside Crescent\", \"num_of_rentals\": 4029, \"num_of_returns\": 4903, \"num_of_rentals_per_day\": 3.3, \"num_of_returns_per_day\": 4.02, \"bike_mobility_per_day\": -0.72}, {\"station_name\": \"Marchmont Crescent\", \"num_of_rentals\": 3935, \"num_of_returns\": 2969, \"num_of_rentals_per_day\": 3.23, \"num_of_returns_per_day\": 2.43, \"bike_mobility_per_day\": 0.8}, {\"station_name\": \"Kings Building 2\", \"num_of_rentals\": 3930, \"num_of_returns\": 4445, \"num_of_rentals_per_day\": 3.22, \"num_of_returns_per_day\": 3.64, \"bike_mobility_per_day\": -0.42}, {\"station_name\": \"Dalry Road Lidl\", \"num_of_rentals\": 3803, \"num_of_returns\": 4467, \"num_of_rentals_per_day\": 3.12, \"num_of_returns_per_day\": 3.66, \"bike_mobility_per_day\": -0.54}, {\"station_name\": \"Boroughmuir\", \"num_of_rentals\": 3768, \"num_of_returns\": 4120, \"num_of_rentals_per_day\": 3.09, \"num_of_returns_per_day\": 3.38, \"bike_mobility_per_day\": -0.29}, {\"station_name\": \"Holyrood Road\", \"num_of_rentals\": 3716, \"num_of_returns\": 4118, \"num_of_rentals_per_day\": 3.05, \"num_of_returns_per_day\": 3.38, \"bike_mobility_per_day\": -0.33}, {\"station_name\": \"EICC\", \"num_of_rentals\": 3705, \"num_of_returns\": 3035, \"num_of_rentals_per_day\": 3.04, \"num_of_returns_per_day\": 2.49, \"bike_mobility_per_day\": 0.55}, {\"station_name\": \"Dundas Street\", \"num_of_rentals\": 3604, \"num_of_returns\": 4639, \"num_of_rentals_per_day\": 2.95, \"num_of_returns_per_day\": 3.8, \"bike_mobility_per_day\": -0.85}, {\"station_name\": \"East London Street\", \"num_of_rentals\": 3576, \"num_of_returns\": 3796, \"num_of_rentals_per_day\": 2.93, \"num_of_returns_per_day\": 3.11, \"bike_mobility_per_day\": -0.18}, {\"station_name\": \"Inverleith Row\", \"num_of_rentals\": 3447, \"num_of_returns\": 4788, \"num_of_rentals_per_day\": 2.83, \"num_of_returns_per_day\": 3.92, \"bike_mobility_per_day\": -1.09}, {\"station_name\": \"Comely Bank Road\", \"num_of_rentals\": 3281, \"num_of_returns\": 4632, \"num_of_rentals_per_day\": 2.69, \"num_of_returns_per_day\": 3.8, \"bike_mobility_per_day\": -1.11}, {\"station_name\": \"McDonald Road\", \"num_of_rentals\": 3261, \"num_of_returns\": 3736, \"num_of_rentals_per_day\": 2.67, \"num_of_returns_per_day\": 3.06, \"bike_mobility_per_day\": -0.39}, {\"station_name\": \"Surgeons Hall\", \"num_of_rentals\": 3047, \"num_of_returns\": 2131, \"num_of_rentals_per_day\": 2.5, \"num_of_returns_per_day\": 1.75, \"bike_mobility_per_day\": 0.75}, {\"station_name\": \"Kings Building 3\", \"num_of_rentals\": 3020, \"num_of_returns\": 2877, \"num_of_rentals_per_day\": 2.48, \"num_of_returns_per_day\": 2.36, \"bike_mobility_per_day\": 0.12}, {\"station_name\": \"Colinton Road\", \"num_of_rentals\": 2984, \"num_of_returns\": 2181, \"num_of_rentals_per_day\": 2.45, \"num_of_returns_per_day\": 1.79, \"bike_mobility_per_day\": 0.66}, {\"station_name\": \"Crichton Street\", \"num_of_rentals\": 2909, \"num_of_returns\": 2549, \"num_of_rentals_per_day\": 2.38, \"num_of_returns_per_day\": 2.09, \"bike_mobility_per_day\": 0.29}, {\"station_name\": \"St Andrews House\", \"num_of_rentals\": 2901, \"num_of_returns\": 1787, \"num_of_rentals_per_day\": 2.38, \"num_of_returns_per_day\": 1.46, \"bike_mobility_per_day\": 0.92}, {\"station_name\": \"Haymarket Station\", \"num_of_rentals\": 2761, \"num_of_returns\": 2633, \"num_of_rentals_per_day\": 2.26, \"num_of_returns_per_day\": 2.16, \"bike_mobility_per_day\": 0.1}, {\"station_name\": \"Grassmarket\", \"num_of_rentals\": 2759, \"num_of_returns\": 2751, \"num_of_rentals_per_day\": 2.26, \"num_of_returns_per_day\": 2.25, \"bike_mobility_per_day\": 0.01}, {\"station_name\": \"Drumsheugh Place\", \"num_of_rentals\": 2630, \"num_of_returns\": 2410, \"num_of_rentals_per_day\": 2.16, \"num_of_returns_per_day\": 1.98, \"bike_mobility_per_day\": 0.18}, {\"station_name\": \"Gladstone Terrace\", \"num_of_rentals\": 2523, \"num_of_returns\": 2407, \"num_of_rentals_per_day\": 2.07, \"num_of_returns_per_day\": 1.97, \"bike_mobility_per_day\": 0.1}, {\"station_name\": \"Hunter Square\", \"num_of_rentals\": 2501, \"num_of_returns\": 2332, \"num_of_rentals_per_day\": 2.05, \"num_of_returns_per_day\": 1.91, \"bike_mobility_per_day\": 0.14}, {\"station_name\": \"Simon Square\", \"num_of_rentals\": 2401, \"num_of_returns\": 2348, \"num_of_rentals_per_day\": 1.97, \"num_of_returns_per_day\": 1.92, \"bike_mobility_per_day\": 0.05}, {\"station_name\": \"Scotland Street\", \"num_of_rentals\": 2330, \"num_of_returns\": 2482, \"num_of_rentals_per_day\": 1.91, \"num_of_returns_per_day\": 2.03, \"bike_mobility_per_day\": -0.12}, {\"station_name\": \"Chambers Street\", \"num_of_rentals\": 2158, \"num_of_returns\": 1327, \"num_of_rentals_per_day\": 1.77, \"num_of_returns_per_day\": 1.09, \"bike_mobility_per_day\": 0.68}, {\"station_name\": \"Haymarket Terrace\", \"num_of_rentals\": 2144, \"num_of_returns\": 2098, \"num_of_rentals_per_day\": 1.76, \"num_of_returns_per_day\": 1.72, \"bike_mobility_per_day\": 0.04}, {\"station_name\": \"Wester Coates Terrace\", \"num_of_rentals\": 2137, \"num_of_returns\": 2295, \"num_of_rentals_per_day\": 1.75, \"num_of_returns_per_day\": 1.88, \"bike_mobility_per_day\": -0.13}, {\"station_name\": \"Waitrose Comely Bank\", \"num_of_rentals\": 2121, \"num_of_returns\": 2572, \"num_of_rentals_per_day\": 1.74, \"num_of_returns_per_day\": 2.11, \"bike_mobility_per_day\": -0.37}, {\"station_name\": \"Meggetland\", \"num_of_rentals\": 2058, \"num_of_returns\": 2755, \"num_of_rentals_per_day\": 1.69, \"num_of_returns_per_day\": 2.26, \"bike_mobility_per_day\": -0.57}, {\"station_name\": \"Waverley Court\", \"num_of_rentals\": 2010, \"num_of_returns\": 2075, \"num_of_rentals_per_day\": 1.65, \"num_of_returns_per_day\": 1.7, \"bike_mobility_per_day\": -0.05}, {\"station_name\": \"Thirlestane Road\", \"num_of_rentals\": 1989, \"num_of_returns\": 1366, \"num_of_rentals_per_day\": 1.63, \"num_of_returns_per_day\": 1.12, \"bike_mobility_per_day\": 0.51}, {\"station_name\": \"Picardy Place\", \"num_of_rentals\": 1898, \"num_of_returns\": 1468, \"num_of_rentals_per_day\": 1.56, \"num_of_returns_per_day\": 1.2, \"bike_mobility_per_day\": 0.36}, {\"station_name\": \"Kings Buildings 1\", \"num_of_rentals\": 1823, \"num_of_returns\": 1849, \"num_of_rentals_per_day\": 1.49, \"num_of_returns_per_day\": 1.52, \"bike_mobility_per_day\": -0.03}, {\"station_name\": \"Western General Hospital\", \"num_of_rentals\": 1735, \"num_of_returns\": 2006, \"num_of_rentals_per_day\": 1.42, \"num_of_returns_per_day\": 1.64, \"bike_mobility_per_day\": -0.22}, {\"station_name\": \"Waverley Station\", \"num_of_rentals\": 1455, \"num_of_returns\": 1216, \"num_of_rentals_per_day\": 1.19, \"num_of_returns_per_day\": 1.0, \"bike_mobility_per_day\": 0.19}, {\"station_name\": \"Edinburgh Royal Infirmary\", \"num_of_rentals\": 1387, \"num_of_returns\": 1659, \"num_of_rentals_per_day\": 1.14, \"num_of_returns_per_day\": 1.36, \"bike_mobility_per_day\": -0.22}, {\"station_name\": \"Pleasance Courtyard\", \"num_of_rentals\": 1349, \"num_of_returns\": 1358, \"num_of_rentals_per_day\": 1.11, \"num_of_returns_per_day\": 1.11, \"bike_mobility_per_day\": 0.0}, {\"station_name\": \"Queen Margaret University\", \"num_of_rentals\": 1332, \"num_of_returns\": 1341, \"num_of_rentals_per_day\": 1.09, \"num_of_returns_per_day\": 1.1, \"bike_mobility_per_day\": -0.01}, {\"station_name\": \"Kings Buildings - Murchison House\", \"num_of_rentals\": 1271, \"num_of_returns\": 1283, \"num_of_rentals_per_day\": 1.04, \"num_of_returns_per_day\": 1.05, \"bike_mobility_per_day\": -0.01}, {\"station_name\": \"Gamekeeper's Road\", \"num_of_rentals\": 1252, \"num_of_returns\": 1286, \"num_of_rentals_per_day\": 1.03, \"num_of_returns_per_day\": 1.05, \"bike_mobility_per_day\": -0.02}, {\"station_name\": \"Dean Street\", \"num_of_rentals\": 1224, \"num_of_returns\": 1394, \"num_of_rentals_per_day\": 1.0, \"num_of_returns_per_day\": 1.14, \"bike_mobility_per_day\": -0.14}, {\"station_name\": \"Orchard Brae House\", \"num_of_rentals\": 1218, \"num_of_returns\": 1263, \"num_of_rentals_per_day\": 1.0, \"num_of_returns_per_day\": 1.04, \"bike_mobility_per_day\": -0.04}, {\"station_name\": \"Milton Road - Edinburgh College\", \"num_of_rentals\": 1112, \"num_of_returns\": 1432, \"num_of_rentals_per_day\": 0.91, \"num_of_returns_per_day\": 1.17, \"bike_mobility_per_day\": -0.26}, {\"station_name\": \"Leith Walk North\", \"num_of_rentals\": 1106, \"num_of_returns\": 1508, \"num_of_rentals_per_day\": 0.91, \"num_of_returns_per_day\": 1.24, \"bike_mobility_per_day\": -0.33}, {\"station_name\": \"Belford Road\", \"num_of_rentals\": 1011, \"num_of_returns\": 959, \"num_of_rentals_per_day\": 0.83, \"num_of_returns_per_day\": 0.79, \"bike_mobility_per_day\": 0.04}, {\"station_name\": \"Murrayfield Tram\", \"num_of_rentals\": 980, \"num_of_returns\": 1087, \"num_of_rentals_per_day\": 0.8, \"num_of_returns_per_day\": 0.89, \"bike_mobility_per_day\": -0.09}, {\"station_name\": \"Heriot Watt - Edinburgh Business School\", \"num_of_rentals\": 919, \"num_of_returns\": 940, \"num_of_rentals_per_day\": 0.75, \"num_of_returns_per_day\": 0.77, \"bike_mobility_per_day\": -0.02}, {\"station_name\": \"Edinburgh Zoo\", \"num_of_rentals\": 912, \"num_of_returns\": 930, \"num_of_rentals_per_day\": 0.75, \"num_of_returns_per_day\": 0.76, \"bike_mobility_per_day\": -0.01}, {\"station_name\": \"Musselburgh Lidl\", \"num_of_rentals\": 694, \"num_of_returns\": 821, \"num_of_rentals_per_day\": 0.57, \"num_of_returns_per_day\": 0.67, \"bike_mobility_per_day\": -0.1}, {\"station_name\": \"Edinburgh Park Station\", \"num_of_rentals\": 681, \"num_of_returns\": 785, \"num_of_rentals_per_day\": 0.56, \"num_of_returns_per_day\": 0.64, \"bike_mobility_per_day\": -0.08}, {\"station_name\": \"Ellersly Road\", \"num_of_rentals\": 607, \"num_of_returns\": 606, \"num_of_rentals_per_day\": 0.5, \"num_of_returns_per_day\": 0.5, \"bike_mobility_per_day\": 0.0}, {\"station_name\": \"Heriot Watt - Student Accommodation\", \"num_of_rentals\": 507, \"num_of_returns\": 415, \"num_of_rentals_per_day\": 0.42, \"num_of_returns_per_day\": 0.34, \"bike_mobility_per_day\": 0.08}, {\"station_name\": \"Royal Edinburgh Hospital\", \"num_of_rentals\": 505, \"num_of_returns\": 418, \"num_of_rentals_per_day\": 0.41, \"num_of_returns_per_day\": 0.34, \"bike_mobility_per_day\": 0.07}, {\"station_name\": \"Sighthill - Edinburgh College\", \"num_of_rentals\": 425, \"num_of_returns\": 576, \"num_of_rentals_per_day\": 0.35, \"num_of_returns_per_day\": 0.47, \"bike_mobility_per_day\": -0.12}, {\"station_name\": \"Musselburgh Brunton Hall\", \"num_of_rentals\": 290, \"num_of_returns\": 369, \"num_of_rentals_per_day\": 0.24, \"num_of_returns_per_day\": 0.3, \"bike_mobility_per_day\": -0.06}]}}, {\"mode\": \"vega-lite\"});\n",
       "</script>"
      ],
      "text/plain": [
       "alt.Chart(...)"
      ]
     },
     "execution_count": 374,
     "metadata": {},
     "output_type": "execute_result"
    }
   ],
   "source": [
    "# Alternative in altair (only bike rentals, without returns)\n",
    "\n",
    "alt.Chart(df_mobility).mark_bar(opacity=0.6).encode(\n",
    "    y = alt.Y(\n",
    "        \"station_name\", \n",
    "        sort = '-x',\n",
    "        axis=alt.Axis(title = \"Station name\")),\n",
    "    x = alt.X(\n",
    "        \"num_of_rentals\",\n",
    "        axis=alt.Axis(title =\"Bike rentals during 2018 - 2021\")),\n",
    "    color = \"station_name\" \n",
    ")"
   ]
  },
  {
   "cell_type": "markdown",
   "id": "4cd4a296",
   "metadata": {},
   "source": [
    "## Bike overflow vs shortage per station in time"
   ]
  },
  {
   "cell_type": "code",
   "execution_count": 375,
   "id": "6b49016c",
   "metadata": {},
   "outputs": [
    {
     "data": {
      "text/html": [
       "<div>\n",
       "<style scoped>\n",
       "    .dataframe tbody tr th:only-of-type {\n",
       "        vertical-align: middle;\n",
       "    }\n",
       "\n",
       "    .dataframe tbody tr th {\n",
       "        vertical-align: top;\n",
       "    }\n",
       "\n",
       "    .dataframe thead th {\n",
       "        text-align: right;\n",
       "    }\n",
       "</style>\n",
       "<table border=\"1\" class=\"dataframe\">\n",
       "  <thead>\n",
       "    <tr style=\"text-align: right;\">\n",
       "      <th></th>\n",
       "      <th>station_name</th>\n",
       "      <th>num_of_rentals</th>\n",
       "      <th>num_of_returns</th>\n",
       "      <th>num_of_rentals_per_day</th>\n",
       "      <th>num_of_returns_per_day</th>\n",
       "      <th>bike_mobility_per_day</th>\n",
       "      <th>bike_mobility</th>\n",
       "    </tr>\n",
       "  </thead>\n",
       "  <tbody>\n",
       "    <tr>\n",
       "      <th>3</th>\n",
       "      <td>Bristo Square</td>\n",
       "      <td>11338</td>\n",
       "      <td>7090</td>\n",
       "      <td>9.29</td>\n",
       "      <td>5.81</td>\n",
       "      <td>3.48</td>\n",
       "      <td>4248</td>\n",
       "    </tr>\n",
       "    <tr>\n",
       "      <th>64</th>\n",
       "      <td>Pollock Halls</td>\n",
       "      <td>9020</td>\n",
       "      <td>6263</td>\n",
       "      <td>7.39</td>\n",
       "      <td>5.13</td>\n",
       "      <td>2.26</td>\n",
       "      <td>2757</td>\n",
       "    </tr>\n",
       "    <tr>\n",
       "      <th>73</th>\n",
       "      <td>St Andrew Square</td>\n",
       "      <td>10092</td>\n",
       "      <td>7465</td>\n",
       "      <td>8.27</td>\n",
       "      <td>6.12</td>\n",
       "      <td>2.15</td>\n",
       "      <td>2627</td>\n",
       "    </tr>\n",
       "    <tr>\n",
       "      <th>12</th>\n",
       "      <td>City Chambers</td>\n",
       "      <td>5021</td>\n",
       "      <td>2458</td>\n",
       "      <td>4.12</td>\n",
       "      <td>2.01</td>\n",
       "      <td>2.11</td>\n",
       "      <td>2563</td>\n",
       "    </tr>\n",
       "    <tr>\n",
       "      <th>5</th>\n",
       "      <td>Bruntsfield Links</td>\n",
       "      <td>6811</td>\n",
       "      <td>4305</td>\n",
       "      <td>5.58</td>\n",
       "      <td>3.53</td>\n",
       "      <td>2.05</td>\n",
       "      <td>2506</td>\n",
       "    </tr>\n",
       "    <tr>\n",
       "      <th>...</th>\n",
       "      <td>...</td>\n",
       "      <td>...</td>\n",
       "      <td>...</td>\n",
       "      <td>...</td>\n",
       "      <td>...</td>\n",
       "      <td>...</td>\n",
       "      <td>...</td>\n",
       "    </tr>\n",
       "    <tr>\n",
       "      <th>6</th>\n",
       "      <td>Canonmills</td>\n",
       "      <td>7544</td>\n",
       "      <td>10254</td>\n",
       "      <td>6.18</td>\n",
       "      <td>8.40</td>\n",
       "      <td>-2.22</td>\n",
       "      <td>-2710</td>\n",
       "    </tr>\n",
       "    <tr>\n",
       "      <th>48</th>\n",
       "      <td>Leith Walk</td>\n",
       "      <td>6861</td>\n",
       "      <td>10033</td>\n",
       "      <td>5.62</td>\n",
       "      <td>8.22</td>\n",
       "      <td>-2.60</td>\n",
       "      <td>-3172</td>\n",
       "    </tr>\n",
       "    <tr>\n",
       "      <th>20</th>\n",
       "      <td>Duke Street</td>\n",
       "      <td>6693</td>\n",
       "      <td>10618</td>\n",
       "      <td>5.49</td>\n",
       "      <td>8.70</td>\n",
       "      <td>-3.21</td>\n",
       "      <td>-3925</td>\n",
       "    </tr>\n",
       "    <tr>\n",
       "      <th>79</th>\n",
       "      <td>Victoria Quay</td>\n",
       "      <td>9162</td>\n",
       "      <td>13507</td>\n",
       "      <td>7.51</td>\n",
       "      <td>11.07</td>\n",
       "      <td>-3.56</td>\n",
       "      <td>-4345</td>\n",
       "    </tr>\n",
       "    <tr>\n",
       "      <th>65</th>\n",
       "      <td>Portobello - Kings Road</td>\n",
       "      <td>10981</td>\n",
       "      <td>15734</td>\n",
       "      <td>9.00</td>\n",
       "      <td>12.90</td>\n",
       "      <td>-3.90</td>\n",
       "      <td>-4753</td>\n",
       "    </tr>\n",
       "  </tbody>\n",
       "</table>\n",
       "<p>88 rows × 7 columns</p>\n",
       "</div>"
      ],
      "text/plain": [
       "               station_name  num_of_rentals  num_of_returns  \\\n",
       "3             Bristo Square           11338            7090   \n",
       "64            Pollock Halls            9020            6263   \n",
       "73         St Andrew Square           10092            7465   \n",
       "12            City Chambers            5021            2458   \n",
       "5         Bruntsfield Links            6811            4305   \n",
       "..                      ...             ...             ...   \n",
       "6                Canonmills            7544           10254   \n",
       "48               Leith Walk            6861           10033   \n",
       "20              Duke Street            6693           10618   \n",
       "79            Victoria Quay            9162           13507   \n",
       "65  Portobello - Kings Road           10981           15734   \n",
       "\n",
       "    num_of_rentals_per_day  num_of_returns_per_day  bike_mobility_per_day  \\\n",
       "3                     9.29                    5.81                   3.48   \n",
       "64                    7.39                    5.13                   2.26   \n",
       "73                    8.27                    6.12                   2.15   \n",
       "12                    4.12                    2.01                   2.11   \n",
       "5                     5.58                    3.53                   2.05   \n",
       "..                     ...                     ...                    ...   \n",
       "6                     6.18                    8.40                  -2.22   \n",
       "48                    5.62                    8.22                  -2.60   \n",
       "20                    5.49                    8.70                  -3.21   \n",
       "79                    7.51                   11.07                  -3.56   \n",
       "65                    9.00                   12.90                  -3.90   \n",
       "\n",
       "    bike_mobility  \n",
       "3            4248  \n",
       "64           2757  \n",
       "73           2627  \n",
       "12           2563  \n",
       "5            2506  \n",
       "..            ...  \n",
       "6           -2710  \n",
       "48          -3172  \n",
       "20          -3925  \n",
       "79          -4345  \n",
       "65          -4753  \n",
       "\n",
       "[88 rows x 7 columns]"
      ]
     },
     "execution_count": 375,
     "metadata": {},
     "output_type": "execute_result"
    }
   ],
   "source": [
    "df_mobility = df_mobility.assign(bike_mobility = df_mobility[\"num_of_rentals\"] - df_mobility[\"num_of_returns\"]).sort_values(\"bike_mobility\", ascending = False)\n",
    "\n",
    "df_mobility"
   ]
  },
  {
   "cell_type": "code",
   "execution_count": 376,
   "id": "59aa1e76",
   "metadata": {},
   "outputs": [
    {
     "data": {
      "image/png": "[encoded data removed]",
      "text/plain": [
       "<Figure size 1440x648 with 1 Axes>"
      ]
     },
     "metadata": {
      "needs_background": "light"
     },
     "output_type": "display_data"
    }
   ],
   "source": [
    "# Visualisation of bike mobility (overflow vs shortage) in the observed period (2018 - 2021)\n",
    "\n",
    "fig, ax = plt.subplots(figsize = (20,9))\n",
    "df_mobility.set_index(\"station_name\")[\"bike_mobility\"].plot.bar(\n",
    "    ax = ax, \n",
    "    edgecolor = \"blue\",\n",
    "    linewidth=1,\n",
    "    width=0.3\n",
    "    )\n",
    "\n",
    "ax.set_title(\"Bike overflow vs shortage in total per station during 2018 - 2021\", fontsize=22)\n",
    "ax.set_xlabel(\"Station name\", fontsize=18)\n",
    "ax.set_ylabel(\"Trend in time\", fontsize=18)\n",
    "ax.axhline(0, color=\"black\", label=\"equilibrium\") # rentals == returns\n",
    "ax.legend(bbox_to_anchor=(1.,1.), fontsize=16)\n",
    "ax.grid(alpha=0.5)\n",
    "\n",
    "plt.show()\n",
    "\n",
    "# ax.set_xticklabels(\"station_name\", rotation=45, ha='right', rotation_mode='anchor') Nejede"
   ]
  },
  {
   "cell_type": "code",
   "execution_count": null,
   "id": "b5622854",
   "metadata": {},
   "outputs": [],
   "source": [
    "# Visualisation of bike mobility (overflow vs shortage) per day\n",
    "\n",
    "fig, ax = plt.subplots(figsize = (20,9))\n",
    "df_mobility.sort_values(\"bike_mobility_per_day\", ascending = False).set_index(\"station_name\")[\"bike_mobility_per_day\"].plot.bar(\n",
    "    ax = ax, \n",
    "    edgecolor = \"blue\",\n",
    "    linewidth=1,\n",
    "    width=0.3\n",
    "    )\n",
    "\n",
    "ax.set_title(\"Bike overflow vs shortage per station and day during 2018 - 2021\", fontsize=22)\n",
    "ax.set_xlabel(\"Station name\", fontsize=18)\n",
    "ax.set_ylabel(\"Trend per day\", fontsize=18)\n",
    "ax.axhline(0, color=\"black\", label=\"equilibrium\") # rentals == returns\n",
    "ax.legend(bbox_to_anchor=(1.,1.), fontsize=16)\n",
    "ax.grid(alpha=0.5)\n",
    "\n",
    "plt.show()"
   ]
  },
  {
   "cell_type": "markdown",
   "id": "1a493ff4",
   "metadata": {},
   "source": [
    "## Distance in km between stations"
   ]
  },
  {
   "cell_type": "code",
   "execution_count": null,
   "id": "2b0759ad",
   "metadata": {},
   "outputs": [],
   "source": [
    "df_locations = df_mobility.merge(df_active.groupby(\"start_station_name\")[[\"start_station_longitude\", \"start_station_latitude\"]].mean().reset_index().rename(columns = {\"start_station_name\" : \"station_name\", \"start_station_longitude\" : \"longitude\", \"start_station_latitude\" : \"latitude\"}))\n",
    "\n",
    "df_array = df_locations[[\"latitude\", \"longitude\"]].to_numpy()\n",
    "dist_mat = squareform(pdist(df_array,metric=haversine))\n",
    "df_distance_matrix = pd.DataFrame(dist_mat, columns = df_locations[\"station_name\"], index = df_locations[\"station_name\"])\n",
    "\n",
    "df_distance_matrix = df_distance_matrix.round(2)\n",
    "\n",
    "# df_distance_matrix.loc[\"Bristo Square\", \"City Chambers\"] # Testing\n",
    "np.fill_diagonal(df_distance_matrix.values, np.nan) \n",
    "\n",
    "df_distance_matrix[\"closest_station\"] = df_distance_matrix.loc[df_distance_matrix.index, df_distance_matrix.columns].idxmin()\n",
    "df_distance_matrix[\"distance_to_closest_station_in_km\"] = df_distance_matrix.loc[df_distance_matrix.index, df_distance_matrix.columns].min()\n",
    "\n",
    "# generating a new column for each station - closest station and distance\n",
    "df_locations = df_locations.set_index(\"station_name\").join(df_distance_matrix[[\"closest_station\", \"distance_to_closest_station_in_km\"]])\n",
    "\n",
    "df_distance_matrix"
   ]
  },
  {
   "cell_type": "markdown",
   "id": "2cd73f1c",
   "metadata": {},
   "source": [
    "## Map visualisation"
   ]
  },
  {
   "cell_type": "code",
   "execution_count": null,
   "id": "d9b72191",
   "metadata": {},
   "outputs": [],
   "source": [
    "df_map = df_locations.reset_index().sort_values(by='num_of_rentals_per_day', ascending=False).rename(\n",
    "    columns = {'num_of_rentals_per_day' : 'Bike rentals per day',\n",
    "              'num_of_returns_per_day' : 'Bike returns per day'})\n",
    "\n",
    "fig = px.scatter_mapbox(df_map,lat='latitude', \n",
    "                        lon='longitude', \n",
    "                        color = 'Bike rentals per day', \n",
    "                        zoom=11, \n",
    "                        height=600, \n",
    "                        hover_name='station_name', \n",
    "                        hover_data=['Bike rentals per day', 'Bike returns per day', 'closest_station', 'distance_to_closest_station_in_km'], \n",
    "                        size=\"Bike rentals per day\", \n",
    "                        size_max = 17,\n",
    "                        color_continuous_scale=px.colors.sequential.Hot)\n",
    "fig.update_layout(mapbox_style=\"open-street-map\")\n",
    "fig.show()"
   ]
  },
  {
   "cell_type": "code",
   "execution_count": null,
   "id": "8a885938",
   "metadata": {},
   "outputs": [],
   "source": [
    "df_map = df_locations.reset_index().sort_values(by='num_of_rentals_per_day', ascending=False)\n",
    "df_map['bike_overflow_vs_shortage'] = df_map['num_of_rentals_per_day'] - df_map['num_of_returns_per_day']\n",
    "df_map['bike_overflow_vs_shortage'] = np.where(df_map.bike_overflow_vs_shortage >= 0, \"overflow\", \"shortage\")\n",
    "\n",
    "fig = px.scatter_mapbox(df_map,lat='latitude', \n",
    "                        lon='longitude', \n",
    "                        color = 'bike_overflow_vs_shortage', \n",
    "                        zoom=11, \n",
    "                        height=600, \n",
    "                        hover_name='station_name', \n",
    "                        hover_data=['num_of_rentals_per_day', 'num_of_returns_per_day', 'closest_station', 'distance_to_closest_station_in_km'], \n",
    "                        size=\"num_of_rentals_per_day\", \n",
    "                        size_max = 17)\n",
    "fig.update_layout(mapbox_style=\"open-street-map\")\n",
    "# fig.update_layout(margin={\"r\":1,\"t\":2,\"l\":10,\"b\":100})\n",
    "fig.show()\n",
    "\n",
    "print(\"City center = bike overflow, outskirts = bike shortage\")\n"
   ]
  },
  {
   "cell_type": "markdown",
   "id": "654cc942",
   "metadata": {},
   "source": [
    "## Rental period distribution - histogram"
   ]
  },
  {
   "cell_type": "code",
   "execution_count": null,
   "id": "d64379e4",
   "metadata": {},
   "outputs": [],
   "source": [
    "print(df[\"rental_period\"].describe().round(2)) # Especially max value is very far from mean - suggesting outliers in DataFrame\n",
    "\n",
    "# Due to huge differences in values can´t be histogram (or boxplot) appropriately displayed --> histogram without outliers below:\n",
    "# outlier : zscore > 3 and zscore < 3\n",
    "\n",
    "outliers = np.abs(stats.zscore(df[\"rental_period\"])) > 3\n",
    "df_outliers = df[outliers] # Saving of outliers, if needed\n",
    "\n",
    "# Outliers temporarily filtered out from df\n",
    "x = df[~outliers][\"rental_period\"] / 60 # converting from seconds to minutes\n",
    "\n",
    "fig, ax = plt.subplots(figsize = (14,7))\n",
    "ax.hist(x, bins=15, alpha=0.5)\n",
    "ax.grid(alpha=0.7)\n",
    "ax.set_xlabel(\"Rental duration in minutes\", fontsize = 14)\n",
    "ax.set_ylabel(\"Occurency\", fontsize = 14)\n",
    "ax.set_title(\"Rental duration distribution\", fontsize = 18)\n",
    "plt.show()\n",
    "\n",
    "# Distribution is not normal even after removal of outliers, the majority of bike rentals lasts less then hour. "
   ]
  },
  {
   "cell_type": "markdown",
   "id": "aebaebfc",
   "metadata": {},
   "source": [
    "# Data analysis"
   ]
  },
  {
   "cell_type": "code",
   "execution_count": null,
   "id": "c74bd835",
   "metadata": {},
   "outputs": [],
   "source": [
    "# Bike rentals in total per day\n",
    "df_rentals_per_day = df.groupby(\"date\")[\"rental_period\"].count().reset_index().rename(columns = {\"rental_period\" : \"rentals_per_day\"})\n",
    "\n",
    "# Bike rentals in total per month\n",
    "df_rentals_per_day[\"formated_date\"] = df_rentals_per_day[\"date\"].dt.strftime(\"%Y-%m\")\n",
    "df_rentals_per_month = df_rentals_per_day.drop(\"date\", axis = 1)\n",
    "df_rentals_per_month = df_rentals_per_month.groupby(\"formated_date\").sum().reset_index().rename(columns = {\"rentals_per_day\" : \"rentals_per_month\", \"formated_date\" : \"date\"})\n",
    "\n",
    "condition = df_rentals_per_month[\"date\"] == \"2018-09\" # First month is not complete - shoult be filtered out\n",
    "df_rentals_per_month = df_rentals_per_month[~condition] \n",
    "\n",
    "# Visualisation - bike rentals per month\n",
    "\n",
    "chart1 = alt.Chart(df_rentals_per_month).mark_line(opacity=0.6).encode(\n",
    "    x = alt.X(\n",
    "        \"date\", \n",
    "        axis=alt.Axis(title = \"Date\", labelAngle = -45, labelFontSize=13, titleFontSize=15, titleColor = \"grey\")),\n",
    "    y = alt.Y(\n",
    "        \"rentals_per_month\",\n",
    "        axis=alt.Axis(title =\"Bike rentals\", labelFontSize=13, titleFontSize=15, titleColor = \"grey\")),\n",
    "    tooltip= [\"date\", \"rentals_per_month\"],\n",
    "    strokeWidth = alt.value(8)\n",
    ").properties(\n",
    "    width = 800,\n",
    "    title='Bike rentals in 2018 - 2021 per month'\n",
    ").configure_axis(\n",
    "    domainWidth=0.8\n",
    ").interactive()\n",
    "\n",
    "chart1.configure_title(\n",
    "    fontSize=20,\n",
    "    font='Courier',\n",
    "    align = \"center\",\n",
    "    color='gray')"
   ]
  },
  {
   "cell_type": "code",
   "execution_count": null,
   "id": "58a06443",
   "metadata": {},
   "outputs": [],
   "source": [
    "#### Same for selected stations (later in streamlit)\n",
    "\n",
    "# Bike rentals in total per day\n",
    "df_rentals_per_day = df.groupby([\"date\", \"start_station_name\"])[\"rental_period\"].count().reset_index().rename(columns = {\"rental_period\" : \"rentals_per_day\"})\n",
    "\n",
    "# Bike rentals in total per month\n",
    "df_rentals_per_day[\"formated_date\"] = df_rentals_per_day[\"date\"].dt.strftime(\"%Y-%m\")\n",
    "df_rentals_per_month = df_rentals_per_day.drop(\"date\", axis = 1)\n",
    "df_rentals_per_month = df_rentals_per_month.groupby([\"formated_date\", \"start_station_name\"]).sum().reset_index().rename(columns = {\"rentals_per_day\" : \"rentals_per_month\", \"formated_date\" : \"date\"})\n",
    "\n",
    "condition = df_rentals_per_month[\"date\"] == \"2018-09\" # First month is not complete - shoult be filtered out\n",
    "df_rentals_per_month = df_rentals_per_month[~condition] \n",
    "\n",
    "# Visualisation - bike rentals per month\n",
    "\n",
    "chart1 = alt.Chart(df_rentals_per_month).mark_line(opacity=0.6).encode(\n",
    "    x = alt.X(\n",
    "        \"date\", \n",
    "        axis=alt.Axis(title = \"Date\", labelAngle = -45, labelFontSize=13, titleFontSize=15, titleColor = \"grey\")),\n",
    "    y = alt.Y(\n",
    "        \"rentals_per_month\",\n",
    "        axis=alt.Axis(title =\"Bike rentals\", labelFontSize=13, titleFontSize=15, titleColor = \"grey\")),\n",
    "    color = \"start_station_name\",\n",
    "    tooltip= [\"date\", \"rentals_per_month\"],\n",
    "    strokeWidth = alt.value(8)\n",
    ").properties(\n",
    "    width = 800,\n",
    "    title='Bike rentals in 2018 - 2021 per month'\n",
    ").configure_axis(\n",
    "    domainWidth=0.8\n",
    ").interactive()\n",
    "\n",
    "chart1.configure_title(\n",
    "    fontSize=20,\n",
    "    font='Courier',\n",
    "    align = \"center\",\n",
    "    color='gray')"
   ]
  },
  {
   "cell_type": "markdown",
   "id": "1942ffb0",
   "metadata": {},
   "source": [
    "## Causes of fluctuation in demand"
   ]
  },
  {
   "cell_type": "markdown",
   "id": "52366fb3",
   "metadata": {},
   "source": [
    "#### Season"
   ]
  },
  {
   "cell_type": "code",
   "execution_count": null,
   "id": "48fcdc0b",
   "metadata": {
    "scrolled": false
   },
   "outputs": [],
   "source": [
    "# identifikujte příčiny výkyvů poptávky\n",
    "\n",
    "# Bike rentals in total per day - without grouping per station\n",
    "df_rentals_per_day = df.groupby(\"date\")[\"rental_period\"].count().reset_index().rename(columns = {\"rental_period\" : \"rentals_per_day\"})\n",
    "\n",
    "# Bike rentals in total per month\n",
    "df_rentals_per_day[\"formated_date\"] = df_rentals_per_day[\"date\"].dt.strftime(\"%Y-%m\")\n",
    "df_rentals_per_month = df_rentals_per_day.drop(\"date\", axis = 1)\n",
    "df_rentals_per_month = df_rentals_per_month.groupby(\"formated_date\").sum().reset_index().rename(columns = {\"rentals_per_day\" : \"rentals_per_month\", \"formated_date\" : \"date\"})\n",
    "\n",
    "condition = df_rentals_per_month[\"date\"] == \"2018-09\" # First month is not complete - shoult be filtered out\n",
    "df_rentals_per_month = df_rentals_per_month[~condition] \n",
    "\n",
    "# Converting to month name and grouping\n",
    "\n",
    "df_rentals_per_month['month'] = pd.DatetimeIndex(df_rentals_per_month['date']).month\n",
    "df_rentals_per_month_name = df_rentals_per_month.groupby(\"month\")[\"rentals_per_month\"].mean().astype(int).reset_index().rename(columns = {\"rentals_per_month\" : \"avg_rentals_per_month\"})\n",
    "\n",
    "d = dict(enumerate(calendar.month_name))\n",
    "df_rentals_per_month_name['month'] = df_rentals_per_month_name['month'].map(d)\n",
    "df_rentals_per_month_name.index = range(1,13)\n",
    "\n",
    "df_rentals_per_month_name\n",
    "\n",
    "chart2 = alt.Chart(df_rentals_per_month_name).mark_line(opacity=0.6).encode(\n",
    "    x = alt.X(\n",
    "        \"month\", \n",
    "        sort = None,\n",
    "        axis=alt.Axis(title = \"Month\", labelAngle = -45, labelFontSize=13, titleFontSize=15, titleColor = \"grey\")),\n",
    "    y = alt.Y(\n",
    "        \"avg_rentals_per_month\",\n",
    "        axis=alt.Axis(title =\"Bike rentals\", labelFontSize=13, titleFontSize=15, titleColor = \"grey\")),\n",
    "    tooltip= [\"month\", \"avg_rentals_per_month\"],\n",
    "    strokeWidth = alt.value(8)\n",
    ").properties(\n",
    "    width = 800,\n",
    "    title='Average bike rentals in 2018 - 2021'\n",
    ").configure_axis(\n",
    "    domainWidth=0.8\n",
    ").interactive()\n",
    "\n",
    "chart2.configure_title(\n",
    "    fontSize=20,\n",
    "    font='Courier',\n",
    "    align = \"center\",\n",
    "    color='gray')\n",
    "\n"
   ]
  },
  {
   "cell_type": "markdown",
   "id": "e8438350",
   "metadata": {},
   "source": [
    "#### Covid"
   ]
  },
  {
   "cell_type": "code",
   "execution_count": null,
   "id": "c6456536",
   "metadata": {},
   "outputs": [],
   "source": [
    "# loading of covid data - applied country filter in SQL (United Kingdom)\n",
    "# Data are for whole UK, we do not have covid cases specific for Edinburg\n",
    "\n",
    "df_covid_UK = pd.read_csv('covid19_UK.csv').dropna() # deleting NaN values in the first row\n",
    "df_covid_UK[\"date\"] = pd.to_datetime(df_covid_UK[\"date\"]).dt.date.astype(\"datetime64\")\n",
    "\n",
    "# Merging data; using inner join - covid dataframe has only 487 records - shorter observed period\n",
    "df_bikes_covid = df_rentals_per_day.drop('formated_date', axis = 1).merge(df_covid_UK, how = 'inner').rename(columns = {\"confirmed\": \"tested_positive\", \"deaths\" : \"covid_deaths\"})\n",
    "\n",
    "\n",
    "condition = df_bikes_covid[\"tested_positive\"] >= 0  # Error in dataframe - two negative values in column tested_positive --> filtered out\n",
    "df_bikes_covid = df_bikes_covid[condition]\n",
    "\n",
    "# Correlation between rentals per day and covid cases\n",
    "corr = df_bikes_covid.corr(method ='pearson').round(2).loc[[\"rentals_per_day\"], [\"tested_positive\", \"covid_deaths\"]]\n",
    "        \n",
    "corr    \n",
    "# corr.loc[\"rentals_per_day\", \"tested_positive\"]\n",
    "# There is a negative relationship between rentals per day and confirmed covid cases (and deaths)\n",
    "\n",
    "# Hypothesis: During covid cases explosion, more employees worked from home --> decrease in rented bikes\n",
    "# ! Correlation is not causality\n"
   ]
  },
  {
   "cell_type": "code",
   "execution_count": null,
   "id": "eb94c42b",
   "metadata": {},
   "outputs": [],
   "source": [
    "# Displaying relationship with scatterplot + regression line\n",
    "\n",
    "chart3 = alt.Chart(df_bikes_covid).mark_circle(size=60).encode(\n",
    "    x = alt.X(\n",
    "        \"tested_positive\", \n",
    "        axis=alt.Axis(title = \"Confirmed covid cases\", labelAngle = -45, labelFontSize=13, titleFontSize=15, titleColor = \"grey\")),\n",
    "    y = alt.Y(\n",
    "        \"rentals_per_day\",\n",
    "        axis=alt.Axis(title =\"Bike rentals per day\", labelFontSize=13, titleFontSize=15, titleColor = \"grey\")),\n",
    "    tooltip= [\"date\", \"rentals_per_day\", \"tested_positive\", \"covid_deaths\"],\n",
    "    strokeWidth = alt.value(4)\n",
    ").properties(\n",
    "    width = 800,\n",
    "    title=\"Relationship between bike rentals and positive covid tests\"\n",
    ")\n",
    "\n",
    "# Seems like exponential decrease --> fitting an exponential regression\n",
    "\n",
    "# chart3 + chart3.transform_regression(\"tested_positive\", \"rentals_per_day\", method = \"exp\").mark_line(color = \"red\")\n",
    "\n",
    "chart_regression_line = chart3.transform_regression(\"tested_positive\", \"rentals_per_day\", method = \"exp\").mark_line(color = \"red\")\n",
    "\n",
    "# Top level graph object\n",
    "chart3 = alt.layer(chart3, chart_regression_line).configure_view(\n",
    "    stroke = \"transparent\"\n",
    ").configure_axis(\n",
    "    domainWidth=0.8\n",
    ").configure_title(\n",
    "    fontSize=20,\n",
    "    font=\"Courier\",\n",
    "    align = \"center\",\n",
    "    color=\"gray\"\n",
    ").interactive()\n",
    "\n",
    "chart3.display()\n",
    "\n",
    "# The relationship seems not to be linear - data suggests high covid values have greater impact on bike rentals (lockdown?).\n",
    "# Low number of covid cases = large variance in bike rentals - it is obvious that there is a greater influence of season / temperature"
   ]
  },
  {
   "cell_type": "markdown",
   "id": "1c41eba8",
   "metadata": {},
   "source": [
    "#### Weather"
   ]
  },
  {
   "cell_type": "code",
   "execution_count": null,
   "id": "c7e4dbbe",
   "metadata": {},
   "outputs": [],
   "source": [
    "# Note: weather functions probably as a mediator variable between season and bike rentals\n",
    "\n",
    "df_weather = pd.read_csv('edinburgh_weather.csv') # Loading of table containing weather data from Edinburgh\n",
    "\n",
    "df_weather[\"vis\"] = df_weather[\"vis\"].map({\"Excellent\" : 4, \"Good\" : 3, \"Average\" : 2,\"Poor\" : 1}) \n",
    "df_weather.drop([\"feels\", \"gust\", \"time\"], axis = 1, inplace = True) # One information about wind and temperature is enough, concrete time is for me at the moment also not relevant\n",
    "\n",
    "for column in df_weather[[\"rain\", \"pressure\", \"temp\", \"wind\"]].columns:\n",
    "    df_weather[column] = df_weather[column].apply(lambda x: x.split(\" \")[0]) # Clearing values from string\n",
    "\n",
    "for column in df_weather[[\"humidity\",\"cloud\"]].columns:\n",
    "    df_weather[column] = df_weather[column].apply(lambda x: x.split(\"%\")[0]) \n",
    "\n",
    "df_weather = df_weather.astype({\"date\" : \"datetime64\", \"temp\" : \"int64\", \"wind\" : \"int64\", \"rain\" : \"float64\", \"humidity\" : \"int64\", \"cloud\" : \"int64\", \"pressure\" : \"int64\"}) # Converting from object \n",
    "df_weather_avg = df_weather.groupby(\"date\").mean().round(2).reset_index().rename(columns = {\"temp\" : \"temperature\", \"rain\" : \"rain_mm\", \"wind\" : \"wind_km/h\", \"humidity\": \"humidity_in_pct\", \"cloud\" : \"clouds_in_pct\", \"pressure\": \"pressure_in_mb\", \"vis\" : \"visibility\"}) # Grouping by date, calculation of average values per day\n",
    "\n",
    "\n",
    "df_final = df_bikes_covid.merge(df_weather_avg, how = \"inner\")\n",
    "# Problem - when merging these two datasets, we lost valuable information about covid cases \n",
    "# Dates do not sufficiently overlap, this is a limit of merging 3 datasets\n",
    "# Using left join by merging covid data is on my openion not suitable option -- covid appeared in 2019, before that we would have 0 in covid cases which affects correlations etc.\n",
    "\n",
    "df_weather_final  = df_rentals_per_day.merge(df_weather_avg).drop(\"formated_date\", axis = 1)"
   ]
  },
  {
   "cell_type": "code",
   "execution_count": null,
   "id": "8272e3bd",
   "metadata": {
    "scrolled": true
   },
   "outputs": [],
   "source": [
    "# Correlation matrix\n",
    "\n",
    "correlation_matrix = df_weather_final.corr(method ='pearson').round(2).sort_values(\"rentals_per_day\")[[\"rentals_per_day\"]]\n",
    "temperature_rentals_correlation = correlation_matrix.loc[\"temperature\", \"rentals_per_day\"]\n",
    "\n",
    "print(f\"Temperature and number of rented bikes per day seems to be strongly corelated: r = {temperature_rentals_correlation}\")\n",
    "display(correlation_matrix)"
   ]
  },
  {
   "cell_type": "code",
   "execution_count": null,
   "id": "68cc0d12",
   "metadata": {},
   "outputs": [],
   "source": [
    "# Selecting only variables with considerable correlations (0.2 > r < 0.2)\n",
    "# --> humidity, wind and temperature \n",
    "\n",
    "columns = [\"humidity_in_pct\", \"wind_km/h\", \"temperature\"]\n",
    "\n",
    "charts = []\n",
    "for column in df_weather_final[columns]:  \n",
    "    charts.append(alt.Chart(df_weather_final).mark_circle(size=60).encode(\n",
    "        x = alt.X(\n",
    "            column, \n",
    "            axis=alt.Axis(title = column, labelAngle = -45, labelFontSize=13, titleFontSize=15, titleColor = \"grey\")),\n",
    "        y = alt.Y(\n",
    "            \"rentals_per_day\",\n",
    "            axis=alt.Axis(title =\"Bike rentals per day\", labelFontSize=13, titleFontSize=15, titleColor = \"grey\")),\n",
    "        tooltip= [\"date\", \"rentals_per_day\", column],\n",
    "        strokeWidth = alt.value(4)\n",
    "    ).properties(\n",
    "        width = 800,\n",
    "        title=f\"Relationship between bike rentals and {column}\"\n",
    "    ).configure_axis(\n",
    "    domainWidth=0.8\n",
    ").configure_title(\n",
    "    fontSize=20,\n",
    "    font='Courier',\n",
    "    align = \"center\",\n",
    "    color='gray').interactive()                 \n",
    ")\n",
    "\n",
    "                  \n",
    "for chart in charts:\n",
    "    chart.display()\n",
    "    "
   ]
  },
  {
   "cell_type": "code",
   "execution_count": null,
   "id": "a2352dbc",
   "metadata": {},
   "outputs": [],
   "source": [
    "charts = []\n",
    "for column in df_weather_final[columns]:  \n",
    "    charts.append(alt.Chart(df_weather_final).mark_circle(size=60).encode(\n",
    "        x = alt.X(\n",
    "            column, \n",
    "            axis=alt.Axis(title = column, labelAngle = -45, labelFontSize=13, titleFontSize=15, titleColor = \"grey\")),\n",
    "        y = alt.Y(\n",
    "            \"rentals_per_day\",\n",
    "            axis=alt.Axis(title =\"Bike rentals per day\", labelFontSize=13, titleFontSize=15, titleColor = \"grey\")),\n",
    "        tooltip= [\"date\", \"rentals_per_day\", column],\n",
    "        strokeWidth = alt.value(4)\n",
    "    ).properties(\n",
    "        width = 800,\n",
    "        title=f\"Relationship between bike rentals and {column}\"\n",
    "    ))\n",
    "    for chart in charts:\n",
    "        chart_regression_line_2 = chart.transform_regression(column, \"rentals_per_day\", method = \"exp\").mark_line(color = \"red\")\n",
    "        \n",
    "        alt.layer(chart, chart_regression_line_2).configure_view(\n",
    "            stroke = \"transparent\"\n",
    "        ).configure_axis(\n",
    "            domainWidth=0.8\n",
    "        ).configure_title(\n",
    "            fontSize=20,\n",
    "            font=\"Courier\",\n",
    "            align = \"center\",\n",
    "            color=\"gray\"\n",
    "        ).interactive().display()\n",
    "            "
   ]
  },
  {
   "cell_type": "markdown",
   "id": "05a4a26c",
   "metadata": {},
   "source": [
    "#### Business day vs Weekend"
   ]
  },
  {
   "cell_type": "code",
   "execution_count": null,
   "id": "b4765b47",
   "metadata": {},
   "outputs": [],
   "source": [
    "# New column - distinction of business day vs weekend\n",
    "\n",
    "business_days = pd.date_range(df_rentals_per_day[\"date\"].min(), df_rentals_per_day[\"date\"].max(), freq = \"B\") # Range of dates excluding weekends\n",
    "df_business_days = pd.DataFrame(business_days).rename(columns = {0: \"date\"}) # Converting to df\n",
    "\n",
    "list_of_business_days = df_business_days[\"date\"].tolist()\n",
    "df_rentals_per_day[\"day\"] = np.where(df_rentals_per_day.date.isin(list_of_business_days), \"business day\", \"weekend\")\n",
    "                        \n",
    "df_weekday = df_rentals_per_day.groupby(\"day\")[[\"rentals_per_day\"]].mean().round().reset_index()\n",
    "df_weekday[\"pct_increase\"] = df_weekday[[\"rentals_per_day\"]].pct_change().round(2)\n",
    "\n",
    "pct_increase = int(df_weekday.loc[1, \"pct_increase\"] * 100)\n",
    "print(f\"During the weekend, there is an increase of {pct_increase} % rented bikes compared to business day\")"
   ]
  },
  {
   "cell_type": "code",
   "execution_count": null,
   "id": "363cf582",
   "metadata": {},
   "outputs": [],
   "source": [
    "chart4 = alt.Chart(df_weekday).mark_bar(opacity=0.6).encode(\n",
    "    x = alt.X(\n",
    "        \"day\", \n",
    "        axis=alt.Axis(title = \"\", labelAngle = 0, labelFontSize=17)),\n",
    "    y = alt.Y(\n",
    "        \"rentals_per_day\",\n",
    "        axis=alt.Axis(title =\"Bike rentals\", labelFontSize=17, titleFontSize=17, titleColor = \"grey\")),\n",
    ").properties(\n",
    "    title='Average number of rented bikes during the weekend and business day',\n",
    "    width = 250\n",
    ").configure_title(\n",
    "    fontSize=20,\n",
    "    font='Courier',\n",
    "    align = \"center\",\n",
    "    color='gray')\n",
    "\n",
    "chart4"
   ]
  },
  {
   "cell_type": "markdown",
   "id": "595fdf6b",
   "metadata": {},
   "source": [
    "#### Prediction - bike rentals"
   ]
  },
  {
   "cell_type": "code",
   "execution_count": null,
   "id": "cc5a51c0",
   "metadata": {},
   "outputs": [],
   "source": [
    "# New columns for prediction purposes - month number and disctinction of business day / weekend\n",
    "\n",
    "df_final[\"month_number\"] = pd.DatetimeIndex(df_final['date']).month\n",
    "\n",
    "business_days = pd.date_range(df_final[\"date\"].min(), df_final[\"date\"].max(), freq = \"B\") # Range of dates excluding weekends\n",
    "df_business_days = pd.DataFrame(business_days).rename(columns = {0: \"date\"}) # Converting to df\n",
    "list_of_business_days = df_business_days[\"date\"].tolist()\n",
    "df_final[\"business_day_boolean\"] = np.where(df_final.date.isin(list_of_business_days), True, False)\n",
    "                        \n",
    "correlation_matrix_final_table = df_final.corr(method ='pearson').round(2).sort_values(\"rentals_per_day\")[[\"rentals_per_day\"]]\n",
    "correlation_final_temperature_rentals = correlation_matrix_final_table.loc[\"temperature\", \"rentals_per_day\"]\n",
    "\n",
    "print(f\"Temperature and number of rented bikes per day seems to be even more corelated during covid: r = {correlation_final_temperature_rentals}.\")\n",
    "display(correlation_matrix_final_table)\n",
    "\n",
    "# Hypothesis: Covid situation is worse during autumn and winther months, when there are also lower temperatures\n",
    "# -- Covid boom in autumn and winter + low temperature --> stronger correlation between temperature and rentals (dataset contains both information)"
   ]
  },
  {
   "cell_type": "code",
   "execution_count": null,
   "id": "df937744",
   "metadata": {},
   "outputs": [],
   "source": [
    "# Regression using train test split\n",
    "# Using table df_final, where there are all possible predictors\n",
    "# Disadvantage - when merging above, we are loosing valuable data - (e.g. covid table and weather table do not overlap so much)\n",
    "\n",
    "# -- Left joining covid table, rentals table and weather table is on my openion not a suitable option, \n",
    "# --resulting e.g. in lower correlation between covid and bike rentals (when filling covid cases with 0) \n",
    "# -- Covid appeared no sooner then in 2019 --\n",
    "\n",
    "# By using these selected columns the explanatory power seems to be the highest\n",
    "\n",
    "reg_cols = [\"rentals_per_day\", \"tested_positive\", \"covid_deaths\", \"temperature\",\"humidity_in_pct\",\"wind_km/h\", \"rain_mm\", \"month_number\", \"business_day_boolean\"]\n",
    "df_train, df_test = train_test_split(df_final[reg_cols], train_size=0.7, test_size=0.3, random_state=100)\n",
    "\n",
    "y_train = df_train.pop('rentals_per_day')\n",
    "x_train = df_train\n",
    "\n",
    "y_test = df_test.pop('rentals_per_day')\n",
    "x_test = df_test\n",
    "\n",
    "## scaling and training\n",
    "scaler = StandardScaler()\n",
    "\n",
    "x_train_scaled = scaler.fit_transform(x_train)\n",
    "x_train_df = pd.DataFrame(x_train_scaled, index=x_train.index, columns=x_train.columns)\n",
    "\n",
    "reg = linear_model.LinearRegression()\n",
    "reg.fit(x_train_df, y_train)\n",
    "\n",
    "## scaling test and predict\n",
    "\n",
    "x_test_scaled = scaler.transform(x_test)\n",
    "x_test_df = pd.DataFrame(x_test_scaled, index=x_test.index, columns=x_test.columns)\n",
    "\n",
    "predicted = reg.predict(x_test_df)\n",
    "\n",
    "predicted = pd.Series(predicted)\n",
    "y_test = y_test.reset_index().drop(columns='index')\n",
    "comparison = pd.concat([predicted, y_test], axis=1)"
   ]
  },
  {
   "cell_type": "code",
   "execution_count": null,
   "id": "0a22771f",
   "metadata": {},
   "outputs": [],
   "source": [
    "display(\"Mean squared error: %.2f\" % mean_squared_error(y_test, predicted))\n",
    "display(\"R2 Coefficient: %.2f\" % r2_score(y_test, predicted))"
   ]
  },
  {
   "cell_type": "code",
   "execution_count": null,
   "id": "bd998888",
   "metadata": {},
   "outputs": [],
   "source": [
    "# Prediction with examlple bellow, in streamlit the user chooses values\n",
    "\n",
    "example = [2400,30,20,65,15,0.5,1,1]\n",
    "regressor_prep = pd.DataFrame(example, index=x_test.columns).T\n",
    "reg_prep_scaled = pd.DataFrame(scaler.transform(regressor_prep), columns=x_test.columns)\n",
    "reg_prep_scaled"
   ]
  },
  {
   "cell_type": "code",
   "execution_count": null,
   "id": "bd27d7f1",
   "metadata": {},
   "outputs": [],
   "source": [
    "final_prediction = reg.predict(reg_prep_scaled).round()"
   ]
  },
  {
   "cell_type": "code",
   "execution_count": null,
   "id": "ac3aa94c",
   "metadata": {},
   "outputs": [],
   "source": [
    "print(f\"Given these conditions, {int(final_prediction)} bikes would be rented on such day.\")"
   ]
  }
 ],
 "metadata": {
  "kernelspec": {
   "display_name": "Python 3 (ipykernel)",
   "language": "python",
   "name": "python3"
  },
  "language_info": {
   "codemirror_mode": {
    "name": "ipython",
    "version": 3
   },
   "file_extension": ".py",
   "mimetype": "text/x-python",
   "name": "python",
   "nbconvert_exporter": "python",
   "pygments_lexer": "ipython3",
   "version": "3.9.7"
  }
 },
 "nbformat": 4,
 "nbformat_minor": 5
}
